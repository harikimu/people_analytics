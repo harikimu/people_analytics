{
 "cells": [
  {
   "cell_type": "markdown",
   "id": "20134ee2",
   "metadata": {},
   "source": [
    "# Data Cleaning (Outliners)"
   ]
  },
  {
   "cell_type": "code",
   "execution_count": 48,
   "id": "55b19c8b",
   "metadata": {},
   "outputs": [],
   "source": [
    "import pandas as pd\n",
    "df = pd.read_excel('C:\\\\Users\\\\heeckim\\\\Desktop\\\\work\\\\12_python\\\\pyharry\\\\resources\\\\mean median mode.xlsx')"
   ]
  },
  {
   "cell_type": "code",
   "execution_count": 49,
   "id": "c7c7a7be",
   "metadata": {},
   "outputs": [],
   "source": [
    "df1 = df[df.department=='Human Resources'] # Departmeent 컬럼이 Human Resources인 로우만 반환"
   ]
  },
  {
   "cell_type": "code",
   "execution_count": 50,
   "id": "d7248db8",
   "metadata": {},
   "outputs": [
    {
     "data": {
      "text/html": [
       "<div>\n",
       "<style scoped>\n",
       "    .dataframe tbody tr th:only-of-type {\n",
       "        vertical-align: middle;\n",
       "    }\n",
       "\n",
       "    .dataframe tbody tr th {\n",
       "        vertical-align: top;\n",
       "    }\n",
       "\n",
       "    .dataframe thead th {\n",
       "        text-align: right;\n",
       "    }\n",
       "</style>\n",
       "<table border=\"1\" class=\"dataframe\">\n",
       "  <thead>\n",
       "    <tr style=\"text-align: right;\">\n",
       "      <th></th>\n",
       "      <th>age</th>\n",
       "      <th>department</th>\n",
       "      <th>employee_number</th>\n",
       "      <th>gender</th>\n",
       "      <th>job_level</th>\n",
       "      <th>marital_status</th>\n",
       "      <th>over_time</th>\n",
       "      <th>performance_rating</th>\n",
       "      <th>totalW_working_years</th>\n",
       "      <th>training_times_last_year</th>\n",
       "      <th>years_since_last_promotion</th>\n",
       "      <th>years_with_curr_manager</th>\n",
       "      <th>monthly_income</th>\n",
       "      <th>salary_2017</th>\n",
       "      <th>salary_2018</th>\n",
       "      <th>year_of_joining</th>\n",
       "      <th>last_role_change</th>\n",
       "      <th>percent_hike</th>\n",
       "    </tr>\n",
       "  </thead>\n",
       "  <tbody>\n",
       "    <tr>\n",
       "      <th>79</th>\n",
       "      <td>46</td>\n",
       "      <td>Human Resources</td>\n",
       "      <td>103</td>\n",
       "      <td>Male</td>\n",
       "      <td>2</td>\n",
       "      <td>Divorced</td>\n",
       "      <td>Yes</td>\n",
       "      <td>4</td>\n",
       "      <td>16</td>\n",
       "      <td>2</td>\n",
       "      <td>0</td>\n",
       "      <td>2</td>\n",
       "      <td>5021</td>\n",
       "      <td>60252</td>\n",
       "      <td>73507.44</td>\n",
       "      <td>2014</td>\n",
       "      <td>2016</td>\n",
       "      <td>22</td>\n",
       "    </tr>\n",
       "    <tr>\n",
       "      <th>100</th>\n",
       "      <td>37</td>\n",
       "      <td>Human Resources</td>\n",
       "      <td>133</td>\n",
       "      <td>Male</td>\n",
       "      <td>1</td>\n",
       "      <td>Divorced</td>\n",
       "      <td>Yes</td>\n",
       "      <td>4</td>\n",
       "      <td>7</td>\n",
       "      <td>3</td>\n",
       "      <td>0</td>\n",
       "      <td>2</td>\n",
       "      <td>2073</td>\n",
       "      <td>24876</td>\n",
       "      <td>30348.72</td>\n",
       "      <td>2015</td>\n",
       "      <td>2016</td>\n",
       "      <td>22</td>\n",
       "    </tr>\n",
       "    <tr>\n",
       "      <th>105</th>\n",
       "      <td>59</td>\n",
       "      <td>Human Resources</td>\n",
       "      <td>140</td>\n",
       "      <td>Female</td>\n",
       "      <td>5</td>\n",
       "      <td>Married</td>\n",
       "      <td>No</td>\n",
       "      <td>4</td>\n",
       "      <td>30</td>\n",
       "      <td>3</td>\n",
       "      <td>2</td>\n",
       "      <td>2</td>\n",
       "      <td>18844</td>\n",
       "      <td>226128</td>\n",
       "      <td>273614.88</td>\n",
       "      <td>2015</td>\n",
       "      <td>2016</td>\n",
       "      <td>21</td>\n",
       "    </tr>\n",
       "    <tr>\n",
       "      <th>112</th>\n",
       "      <td>54</td>\n",
       "      <td>Human Resources</td>\n",
       "      <td>148</td>\n",
       "      <td>Female</td>\n",
       "      <td>4</td>\n",
       "      <td>Single</td>\n",
       "      <td>Yes</td>\n",
       "      <td>3</td>\n",
       "      <td>23</td>\n",
       "      <td>3</td>\n",
       "      <td>4</td>\n",
       "      <td>4</td>\n",
       "      <td>17328</td>\n",
       "      <td>207936</td>\n",
       "      <td>232888.32</td>\n",
       "      <td>2013</td>\n",
       "      <td>2015</td>\n",
       "      <td>12</td>\n",
       "    </tr>\n",
       "    <tr>\n",
       "      <th>134</th>\n",
       "      <td>26</td>\n",
       "      <td>Human Resources</td>\n",
       "      <td>177</td>\n",
       "      <td>Female</td>\n",
       "      <td>1</td>\n",
       "      <td>Married</td>\n",
       "      <td>No</td>\n",
       "      <td>4</td>\n",
       "      <td>8</td>\n",
       "      <td>3</td>\n",
       "      <td>5</td>\n",
       "      <td>7</td>\n",
       "      <td>2942</td>\n",
       "      <td>35304</td>\n",
       "      <td>43423.92</td>\n",
       "      <td>2010</td>\n",
       "      <td>2011</td>\n",
       "      <td>23</td>\n",
       "    </tr>\n",
       "    <tr>\n",
       "      <th>...</th>\n",
       "      <td>...</td>\n",
       "      <td>...</td>\n",
       "      <td>...</td>\n",
       "      <td>...</td>\n",
       "      <td>...</td>\n",
       "      <td>...</td>\n",
       "      <td>...</td>\n",
       "      <td>...</td>\n",
       "      <td>...</td>\n",
       "      <td>...</td>\n",
       "      <td>...</td>\n",
       "      <td>...</td>\n",
       "      <td>...</td>\n",
       "      <td>...</td>\n",
       "      <td>...</td>\n",
       "      <td>...</td>\n",
       "      <td>...</td>\n",
       "      <td>...</td>\n",
       "    </tr>\n",
       "    <tr>\n",
       "      <th>1379</th>\n",
       "      <td>27</td>\n",
       "      <td>Human Resources</td>\n",
       "      <td>1944</td>\n",
       "      <td>Female</td>\n",
       "      <td>1</td>\n",
       "      <td>Married</td>\n",
       "      <td>No</td>\n",
       "      <td>3</td>\n",
       "      <td>1</td>\n",
       "      <td>2</td>\n",
       "      <td>0</td>\n",
       "      <td>0</td>\n",
       "      <td>2863</td>\n",
       "      <td>34356</td>\n",
       "      <td>38478.72</td>\n",
       "      <td>2017</td>\n",
       "      <td>2018</td>\n",
       "      <td>12</td>\n",
       "    </tr>\n",
       "    <tr>\n",
       "      <th>1400</th>\n",
       "      <td>38</td>\n",
       "      <td>Human Resources</td>\n",
       "      <td>1972</td>\n",
       "      <td>Male</td>\n",
       "      <td>1</td>\n",
       "      <td>Married</td>\n",
       "      <td>Yes</td>\n",
       "      <td>3</td>\n",
       "      <td>7</td>\n",
       "      <td>2</td>\n",
       "      <td>1</td>\n",
       "      <td>2</td>\n",
       "      <td>2991</td>\n",
       "      <td>35892</td>\n",
       "      <td>39840.12</td>\n",
       "      <td>2012</td>\n",
       "      <td>2016</td>\n",
       "      <td>11</td>\n",
       "    </tr>\n",
       "    <tr>\n",
       "      <th>1401</th>\n",
       "      <td>55</td>\n",
       "      <td>Human Resources</td>\n",
       "      <td>1973</td>\n",
       "      <td>Male</td>\n",
       "      <td>5</td>\n",
       "      <td>Married</td>\n",
       "      <td>Yes</td>\n",
       "      <td>3</td>\n",
       "      <td>35</td>\n",
       "      <td>0</td>\n",
       "      <td>1</td>\n",
       "      <td>4</td>\n",
       "      <td>19636</td>\n",
       "      <td>235632</td>\n",
       "      <td>278045.76</td>\n",
       "      <td>2008</td>\n",
       "      <td>2009</td>\n",
       "      <td>18</td>\n",
       "    </tr>\n",
       "    <tr>\n",
       "      <th>1411</th>\n",
       "      <td>25</td>\n",
       "      <td>Human Resources</td>\n",
       "      <td>1987</td>\n",
       "      <td>Female</td>\n",
       "      <td>1</td>\n",
       "      <td>Married</td>\n",
       "      <td>No</td>\n",
       "      <td>3</td>\n",
       "      <td>6</td>\n",
       "      <td>3</td>\n",
       "      <td>1</td>\n",
       "      <td>2</td>\n",
       "      <td>2187</td>\n",
       "      <td>26244</td>\n",
       "      <td>29918.16</td>\n",
       "      <td>2016</td>\n",
       "      <td>2018</td>\n",
       "      <td>14</td>\n",
       "    </tr>\n",
       "    <tr>\n",
       "      <th>1450</th>\n",
       "      <td>35</td>\n",
       "      <td>Human Resources</td>\n",
       "      <td>2040</td>\n",
       "      <td>Female</td>\n",
       "      <td>3</td>\n",
       "      <td>Single</td>\n",
       "      <td>Yes</td>\n",
       "      <td>3</td>\n",
       "      <td>9</td>\n",
       "      <td>2</td>\n",
       "      <td>1</td>\n",
       "      <td>7</td>\n",
       "      <td>8837</td>\n",
       "      <td>106044</td>\n",
       "      <td>123011.04</td>\n",
       "      <td>2009</td>\n",
       "      <td>2018</td>\n",
       "      <td>16</td>\n",
       "    </tr>\n",
       "  </tbody>\n",
       "</table>\n",
       "<p>63 rows × 18 columns</p>\n",
       "</div>"
      ],
      "text/plain": [
       "      age       department  employee_number  gender  job_level marital_status  \\\n",
       "79     46  Human Resources              103    Male          2       Divorced   \n",
       "100    37  Human Resources              133    Male          1       Divorced   \n",
       "105    59  Human Resources              140  Female          5        Married   \n",
       "112    54  Human Resources              148  Female          4         Single   \n",
       "134    26  Human Resources              177  Female          1        Married   \n",
       "...   ...              ...              ...     ...        ...            ...   \n",
       "1379   27  Human Resources             1944  Female          1        Married   \n",
       "1400   38  Human Resources             1972    Male          1        Married   \n",
       "1401   55  Human Resources             1973    Male          5        Married   \n",
       "1411   25  Human Resources             1987  Female          1        Married   \n",
       "1450   35  Human Resources             2040  Female          3         Single   \n",
       "\n",
       "     over_time  performance_rating  totalW_working_years  \\\n",
       "79         Yes                   4                    16   \n",
       "100        Yes                   4                     7   \n",
       "105         No                   4                    30   \n",
       "112        Yes                   3                    23   \n",
       "134         No                   4                     8   \n",
       "...        ...                 ...                   ...   \n",
       "1379        No                   3                     1   \n",
       "1400       Yes                   3                     7   \n",
       "1401       Yes                   3                    35   \n",
       "1411        No                   3                     6   \n",
       "1450       Yes                   3                     9   \n",
       "\n",
       "      training_times_last_year  years_since_last_promotion  \\\n",
       "79                           2                           0   \n",
       "100                          3                           0   \n",
       "105                          3                           2   \n",
       "112                          3                           4   \n",
       "134                          3                           5   \n",
       "...                        ...                         ...   \n",
       "1379                         2                           0   \n",
       "1400                         2                           1   \n",
       "1401                         0                           1   \n",
       "1411                         3                           1   \n",
       "1450                         2                           1   \n",
       "\n",
       "      years_with_curr_manager  monthly_income  salary_2017  salary_2018  \\\n",
       "79                          2            5021        60252     73507.44   \n",
       "100                         2            2073        24876     30348.72   \n",
       "105                         2           18844       226128    273614.88   \n",
       "112                         4           17328       207936    232888.32   \n",
       "134                         7            2942        35304     43423.92   \n",
       "...                       ...             ...          ...          ...   \n",
       "1379                        0            2863        34356     38478.72   \n",
       "1400                        2            2991        35892     39840.12   \n",
       "1401                        4           19636       235632    278045.76   \n",
       "1411                        2            2187        26244     29918.16   \n",
       "1450                        7            8837       106044    123011.04   \n",
       "\n",
       "      year_of_joining  last_role_change  percent_hike  \n",
       "79               2014              2016            22  \n",
       "100              2015              2016            22  \n",
       "105              2015              2016            21  \n",
       "112              2013              2015            12  \n",
       "134              2010              2011            23  \n",
       "...               ...               ...           ...  \n",
       "1379             2017              2018            12  \n",
       "1400             2012              2016            11  \n",
       "1401             2008              2009            18  \n",
       "1411             2016              2018            14  \n",
       "1450             2009              2018            16  \n",
       "\n",
       "[63 rows x 18 columns]"
      ]
     },
     "execution_count": 50,
     "metadata": {},
     "output_type": "execute_result"
    }
   ],
   "source": [
    "df1"
   ]
  },
  {
   "cell_type": "code",
   "execution_count": 51,
   "id": "ad811392",
   "metadata": {},
   "outputs": [
    {
     "data": {
      "text/plain": [
       "<AxesSubplot:>"
      ]
     },
     "execution_count": 51,
     "metadata": {},
     "output_type": "execute_result"
    },
    {
     "data": {
      "image/png": "[encoded data removed]",
      "text/plain": [
       "<Figure size 432x288 with 1 Axes>"
      ]
     },
     "metadata": {
      "needs_background": "light"
     },
     "output_type": "display_data"
    }
   ],
   "source": [
    "df1.boxplot(column=\"salary_2018\") # salary_2018 컬럼의 Boxplot 반환"
   ]
  },
  {
   "cell_type": "code",
   "execution_count": 52,
   "id": "c5a3041a",
   "metadata": {},
   "outputs": [],
   "source": [
    "from scipy import stats\n",
    "z=stats.zscore(df1['salary_2018']) # Z-Score로 반환"
   ]
  },
  {
   "cell_type": "code",
   "execution_count": 53,
   "id": "b8ef499f",
   "metadata": {},
   "outputs": [
    {
     "data": {
      "text/plain": [
       "array([-2.29293849e-01, -7.74701952e-01,  2.29951653e+00,  1.78484428e+00,\n",
       "       -6.09467208e-01, -1.28463437e-02, -7.55999308e-01, -6.95214361e-02,\n",
       "       -7.04413494e-01, -7.22744603e-01,  5.76995893e-01, -6.96838719e-01,\n",
       "        1.90534917e+00, -1.50781566e-01,  7.12151423e-01,  2.17985328e+00,\n",
       "        2.10092548e+00, -4.40219664e-02, -7.90999472e-01, -4.83847252e-01,\n",
       "       -3.12387393e-01, -7.28485964e-01, -2.82246004e-01, -7.74943071e-01,\n",
       "       -7.75269112e-01,  6.53877969e-01, -6.70875209e-01, -3.91209036e-01,\n",
       "       -5.41326074e-01, -5.49147818e-02, -4.02432442e-01, -5.76847905e-01,\n",
       "        2.25040409e+00,  1.20274666e+00,  1.74594678e+00,  2.10607260e-01,\n",
       "       -7.80834563e-01, -6.80037730e-01, -7.79497035e-01,  1.85784874e+00,\n",
       "       -1.35295358e-01,  2.15077190e+00, -1.91517025e-01, -5.86501763e-01,\n",
       "       -8.96476136e-01,  2.13184612e-03,  6.31931593e-01, -7.87403918e-01,\n",
       "       -7.91270920e-01, -5.51779113e-01, -4.60614907e-01, -7.14058253e-01,\n",
       "       -7.96657427e-01, -6.33751984e-01, -7.51016182e-01, -6.86315922e-01,\n",
       "       -6.86234033e-01, -4.45172677e-01, -6.71961002e-01, -6.54756632e-01,\n",
       "        2.35551073e+00, -7.80143052e-01,  3.96296172e-01])"
      ]
     },
     "execution_count": 53,
     "metadata": {},
     "output_type": "execute_result"
    }
   ],
   "source": [
    "z"
   ]
  },
  {
   "cell_type": "code",
   "execution_count": 54,
   "id": "cb0c7c40",
   "metadata": {},
   "outputs": [
    {
     "name": "stdout",
     "output_type": "stream",
     "text": [
      "[]\n"
     ]
    }
   ],
   "source": [
    "print(z[z>3]) # Z-Score값이 3보다 큰 경우를 반환"
   ]
  },
  {
   "cell_type": "code",
   "execution_count": 55,
   "id": "5111eaec",
   "metadata": {},
   "outputs": [
    {
     "name": "stdout",
     "output_type": "stream",
     "text": [
      "[]\n"
     ]
    }
   ],
   "source": [
    "print(z[z<-3]) # Z-Score 값이 -3보다 작은 경우를 반환"
   ]
  },
  {
   "cell_type": "code",
   "execution_count": 56,
   "id": "f4cfbdd4",
   "metadata": {},
   "outputs": [
    {
     "name": "stderr",
     "output_type": "stream",
     "text": [
      "<ipython-input-56-79f6aeab4378>:2: SettingWithCopyWarning: \n",
      "A value is trying to be set on a copy of a slice from a DataFrame\n",
      "\n",
      "See the caveats in the documentation: https://pandas.pydata.org/pandas-docs/stable/user_guide/indexing.html#returning-a-view-versus-a-copy\n",
      "  df2.salary_2018[df2.salary_2018>200000]=df2[\"salary_2018\"].mean() # salary_2018 컬럼의 200,000 높은 벨류를 평균값으로 변환\n"
     ]
    }
   ],
   "source": [
    "df2=df1.copy()\n",
    "df2.salary_2018[df2.salary_2018>200000]=df2[\"salary_2018\"].mean() # salary_2018 컬럼의 200,000 보다 높은 벨류를 평균값으로 변환"
   ]
  },
  {
   "cell_type": "code",
   "execution_count": 57,
   "id": "6a7fcca1",
   "metadata": {},
   "outputs": [
    {
     "data": {
      "text/plain": [
       "<AxesSubplot:>"
      ]
     },
     "execution_count": 57,
     "metadata": {},
     "output_type": "execute_result"
    },
    {
     "data": {
      "image/png": "[encoded data removed]",
      "text/plain": [
       "<Figure size 432x288 with 1 Axes>"
      ]
     },
     "metadata": {
      "needs_background": "light"
     },
     "output_type": "display_data"
    }
   ],
   "source": [
    "df1.boxplot(column=\"salary_2018\")"
   ]
  },
  {
   "cell_type": "code",
   "execution_count": 58,
   "id": "703b5880",
   "metadata": {},
   "outputs": [
    {
     "data": {
      "text/plain": [
       "<AxesSubplot:>"
      ]
     },
     "execution_count": 58,
     "metadata": {},
     "output_type": "execute_result"
    },
    {
     "data": {
      "image/png": "[encoded data removed]",
      "text/plain": [
       "<Figure size 432x288 with 1 Axes>"
      ]
     },
     "metadata": {
      "needs_background": "light"
     },
     "output_type": "display_data"
    }
   ],
   "source": [
    "df2.boxplot(column=\"salary_2018\")"
   ]
  },
  {
   "cell_type": "code",
   "execution_count": 59,
   "id": "eef98903",
   "metadata": {},
   "outputs": [
    {
     "name": "stderr",
     "output_type": "stream",
     "text": [
      "<ipython-input-59-882796f5cea1>:2: SettingWithCopyWarning: \n",
      "A value is trying to be set on a copy of a slice from a DataFrame\n",
      "\n",
      "See the caveats in the documentation: https://pandas.pydata.org/pandas-docs/stable/user_guide/indexing.html#returning-a-view-versus-a-copy\n",
      "  df2.salary_2018[df2.salary_2018>200000]=df2[\"salary_2018\"].median()\n"
     ]
    }
   ],
   "source": [
    "df2=df1.copy()\n",
    "df2.salary_2018[df2.salary_2018>200000]=df2[\"salary_2018\"].median() # salary_2018 컬럼을 전부 미디안 값으로 변환"
   ]
  },
  {
   "cell_type": "code",
   "execution_count": 60,
   "id": "cd06b1b1",
   "metadata": {},
   "outputs": [
    {
     "data": {
      "text/plain": [
       "<AxesSubplot:>"
      ]
     },
     "execution_count": 60,
     "metadata": {},
     "output_type": "execute_result"
    },
    {
     "data": {
      "image/png": "[encoded data removed]",
      "text/plain": [
       "<Figure size 432x288 with 1 Axes>"
      ]
     },
     "metadata": {
      "needs_background": "light"
     },
     "output_type": "display_data"
    }
   ],
   "source": [
    "df2.boxplot(column=\"salary_2018\")"
   ]
  },
  {
   "cell_type": "markdown",
   "id": "7567b5a6",
   "metadata": {},
   "source": [
    "# Capping, Flooring\n",
    "- Capping excluding every value beyond 99 percentile\n",
    "- Flooring excluding every value behind 1 percentile"
   ]
  },
  {
   "cell_type": "code",
   "execution_count": 65,
   "id": "10465e09",
   "metadata": {},
   "outputs": [
    {
     "data": {
      "text/plain": [
       "0.00     13439.880\n",
       "0.05     28903.158\n",
       "0.10     31890.588\n",
       "0.15     34468.182\n",
       "0.20     37347.984\n",
       "0.25     40254.600\n",
       "0.30     45968.160\n",
       "0.35     52433.856\n",
       "0.40     58366.368\n",
       "0.45     63153.342\n",
       "0.50     68369.400\n",
       "0.55     73258.680\n",
       "0.60     79077.024\n",
       "0.65     88071.228\n",
       "0.70     95971.344\n",
       "0.75    114802.560\n",
       "0.80    135763.296\n",
       "0.85    154534.506\n",
       "0.90    192803.976\n",
       "0.95    247332.492\n",
       "1.00    295323.360\n",
       "Name: salary_2018, dtype: float64"
      ]
     },
     "execution_count": 65,
     "metadata": {},
     "output_type": "execute_result"
    }
   ],
   "source": [
    "df2=df1.copy()\n",
    "df.salary_2018.quantile([0, 0.05, 0.1, 0.15, 0.2, 0.25, 0.3, 0.35, 0.4, 0.45, 0.5, 0.55, 0.6, 0.65, 0.7, 0.75, 0.8, 0.85, 0.9, 0.95, 1]) # 각  Percentile의 값 반환"
   ]
  },
  {
   "cell_type": "code",
   "execution_count": 63,
   "id": "4edfeb64",
   "metadata": {},
   "outputs": [],
   "source": [
    "df2.salary_2018=df2.salary_2018.clip(df2.salary_2018.quantile(0),df2.salary_2018.quantile(0.8)) # 0 퍼센타일 값과 80 퍼센타일보다 큰 값(그래프 값과 비교) 부분을 제외한 로우만 반환"
   ]
  },
  {
   "cell_type": "code",
   "execution_count": 64,
   "id": "b5103026",
   "metadata": {},
   "outputs": [
    {
     "data": {
      "text/plain": [
       "<AxesSubplot:>"
      ]
     },
     "execution_count": 64,
     "metadata": {},
     "output_type": "execute_result"
    },
    {
     "data": {
      "image/png": "[encoded data removed]",
      "text/plain": [
       "<Figure size 432x288 with 1 Axes>"
      ]
     },
     "metadata": {
      "needs_background": "light"
     },
     "output_type": "display_data"
    }
   ],
   "source": [
    "df2.boxplot(column=\"salary_2018\")"
   ]
  },
  {
   "cell_type": "code",
   "execution_count": null,
   "id": "7642fe20",
   "metadata": {},
   "outputs": [],
   "source": []
  }
 ],
 "metadata": {
  "kernelspec": {
   "display_name": "Python 3",
   "language": "python",
   "name": "python3"
  },
  "language_info": {
   "codemirror_mode": {
    "name": "ipython",
    "version": 3
   },
   "file_extension": ".py",
   "mimetype": "text/x-python",
   "name": "python",
   "nbconvert_exporter": "python",
   "pygments_lexer": "ipython3",
   "version": "3.8.8"
  }
 },
 "nbformat": 4,
 "nbformat_minor": 5
}
