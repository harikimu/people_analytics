{
 "cells": [
  {
   "cell_type": "markdown",
   "id": "5cde57ae",
   "metadata": {},
   "source": [
    "# Descriptive Statistics, Box Plot"
   ]
  },
  {
   "cell_type": "markdown",
   "id": "c9101d90",
   "metadata": {},
   "source": []
  },
  {
   "cell_type": "code",
   "execution_count": 2,
   "id": "4a6b238e",
   "metadata": {},
   "outputs": [],
   "source": [
    "import pandas as pd\n",
    "df = pd.read_excel('C:\\\\Users\\\\heeckim\\\\Desktop\\\\work\\\\12_python\\\\pyharry\\\\resources\\\\mean median mode.xlsx')"
   ]
  },
  {
   "cell_type": "code",
   "execution_count": 3,
   "id": "c54d8321",
   "metadata": {},
   "outputs": [],
   "source": [
    "df1=df[df['gender']=='Male'] # Gender컬럼에 Male인 로우만 전체 선택\n",
    "df2=df[df['gender']=='Female'] "
   ]
  },
  {
   "cell_type": "code",
   "execution_count": 4,
   "id": "e8dd3460",
   "metadata": {},
   "outputs": [
    {
     "data": {
      "text/plain": [
       "(882, 18)"
      ]
     },
     "execution_count": 4,
     "metadata": {},
     "output_type": "execute_result"
    }
   ],
   "source": [
    "df1.shape # 882 males, 18 columns"
   ]
  },
  {
   "cell_type": "code",
   "execution_count": 5,
   "id": "164e9be9",
   "metadata": {},
   "outputs": [
    {
     "data": {
      "text/plain": [
       "(588, 18)"
      ]
     },
     "execution_count": 5,
     "metadata": {},
     "output_type": "execute_result"
    }
   ],
   "source": [
    "df2.shape # 588 Females, 18 columns"
   ]
  },
  {
   "cell_type": "code",
   "execution_count": 6,
   "id": "bca53743",
   "metadata": {
    "scrolled": true
   },
   "outputs": [
    {
     "data": {
      "text/plain": [
       "count       882.000000\n",
       "mean      88112.613061\n",
       "std       64983.059467\n",
       "min       13439.880000\n",
       "25%       39425.940000\n",
       "50%       66790.680000\n",
       "75%      110951.130000\n",
       "max      295323.360000\n",
       "Name: salary_2018, dtype: float64"
      ]
     },
     "execution_count": 6,
     "metadata": {},
     "output_type": "execute_result"
    }
   ],
   "source": [
    "df1.salary_2018.describe() # salary_2018 컬럼의 count, mean, std, min, 25%, 50%, 75%, max 반환"
   ]
  },
  {
   "cell_type": "code",
   "execution_count": 7,
   "id": "3972004f",
   "metadata": {},
   "outputs": [
    {
     "data": {
      "text/plain": [
       "count       588.000000\n",
       "mean      92450.103469\n",
       "std       65056.074249\n",
       "min       15038.280000\n",
       "25%       42405.030000\n",
       "50%       69822.960000\n",
       "75%      121177.440000\n",
       "max      292404.720000\n",
       "Name: salary_2018, dtype: float64"
      ]
     },
     "execution_count": 7,
     "metadata": {},
     "output_type": "execute_result"
    }
   ],
   "source": [
    "df2.salary_2018.describe()"
   ]
  },
  {
   "cell_type": "code",
   "execution_count": 8,
   "id": "a761c805",
   "metadata": {},
   "outputs": [
    {
     "data": {
      "text/html": [
       "<div>\n",
       "<style scoped>\n",
       "    .dataframe tbody tr th:only-of-type {\n",
       "        vertical-align: middle;\n",
       "    }\n",
       "\n",
       "    .dataframe tbody tr th {\n",
       "        vertical-align: top;\n",
       "    }\n",
       "\n",
       "    .dataframe thead th {\n",
       "        text-align: right;\n",
       "    }\n",
       "</style>\n",
       "<table border=\"1\" class=\"dataframe\">\n",
       "  <thead>\n",
       "    <tr style=\"text-align: right;\">\n",
       "      <th></th>\n",
       "      <th>age</th>\n",
       "      <th>employee_number</th>\n",
       "      <th>job_level</th>\n",
       "      <th>performance_rating</th>\n",
       "      <th>totalW_working_years</th>\n",
       "      <th>training_times_last_year</th>\n",
       "      <th>years_since_last_promotion</th>\n",
       "      <th>years_with_curr_manager</th>\n",
       "      <th>monthly_income</th>\n",
       "      <th>salary_2017</th>\n",
       "      <th>salary_2018</th>\n",
       "      <th>year_of_joining</th>\n",
       "      <th>last_role_change</th>\n",
       "      <th>percent_hike</th>\n",
       "    </tr>\n",
       "  </thead>\n",
       "  <tbody>\n",
       "    <tr>\n",
       "      <th>count</th>\n",
       "      <td>882.000000</td>\n",
       "      <td>882.000000</td>\n",
       "      <td>882.000000</td>\n",
       "      <td>882.00000</td>\n",
       "      <td>882.000000</td>\n",
       "      <td>882.000000</td>\n",
       "      <td>882.000000</td>\n",
       "      <td>882.000000</td>\n",
       "      <td>882.000000</td>\n",
       "      <td>882.000000</td>\n",
       "      <td>882.000000</td>\n",
       "      <td>882.000000</td>\n",
       "      <td>882.000000</td>\n",
       "      <td>882.000000</td>\n",
       "    </tr>\n",
       "    <tr>\n",
       "      <th>mean</th>\n",
       "      <td>36.653061</td>\n",
       "      <td>1035.948980</td>\n",
       "      <td>2.028345</td>\n",
       "      <td>3.14966</td>\n",
       "      <td>10.981859</td>\n",
       "      <td>2.758503</td>\n",
       "      <td>2.116780</td>\n",
       "      <td>4.034014</td>\n",
       "      <td>6380.507937</td>\n",
       "      <td>76566.095238</td>\n",
       "      <td>88112.613061</td>\n",
       "      <td>2011.140590</td>\n",
       "      <td>2013.893424</td>\n",
       "      <td>15.217687</td>\n",
       "    </tr>\n",
       "    <tr>\n",
       "      <th>std</th>\n",
       "      <td>9.042329</td>\n",
       "      <td>610.654554</td>\n",
       "      <td>1.113477</td>\n",
       "      <td>0.35694</td>\n",
       "      <td>7.665222</td>\n",
       "      <td>1.269373</td>\n",
       "      <td>3.188546</td>\n",
       "      <td>3.517587</td>\n",
       "      <td>4714.856577</td>\n",
       "      <td>56578.278923</td>\n",
       "      <td>64983.059467</td>\n",
       "      <td>6.205575</td>\n",
       "      <td>3.519361</td>\n",
       "      <td>3.634587</td>\n",
       "    </tr>\n",
       "    <tr>\n",
       "      <th>min</th>\n",
       "      <td>18.000000</td>\n",
       "      <td>2.000000</td>\n",
       "      <td>1.000000</td>\n",
       "      <td>3.00000</td>\n",
       "      <td>0.000000</td>\n",
       "      <td>0.000000</td>\n",
       "      <td>0.000000</td>\n",
       "      <td>0.000000</td>\n",
       "      <td>1009.000000</td>\n",
       "      <td>12108.000000</td>\n",
       "      <td>13439.880000</td>\n",
       "      <td>1981.000000</td>\n",
       "      <td>2000.000000</td>\n",
       "      <td>11.000000</td>\n",
       "    </tr>\n",
       "    <tr>\n",
       "      <th>25%</th>\n",
       "      <td>30.000000</td>\n",
       "      <td>482.500000</td>\n",
       "      <td>1.000000</td>\n",
       "      <td>3.00000</td>\n",
       "      <td>6.000000</td>\n",
       "      <td>2.000000</td>\n",
       "      <td>0.000000</td>\n",
       "      <td>2.000000</td>\n",
       "      <td>2819.500000</td>\n",
       "      <td>33834.000000</td>\n",
       "      <td>39425.940000</td>\n",
       "      <td>2009.000000</td>\n",
       "      <td>2011.000000</td>\n",
       "      <td>12.000000</td>\n",
       "    </tr>\n",
       "    <tr>\n",
       "      <th>50%</th>\n",
       "      <td>35.000000</td>\n",
       "      <td>1042.000000</td>\n",
       "      <td>2.000000</td>\n",
       "      <td>3.00000</td>\n",
       "      <td>9.000000</td>\n",
       "      <td>3.000000</td>\n",
       "      <td>1.000000</td>\n",
       "      <td>3.000000</td>\n",
       "      <td>4837.500000</td>\n",
       "      <td>58050.000000</td>\n",
       "      <td>66790.680000</td>\n",
       "      <td>2013.000000</td>\n",
       "      <td>2015.000000</td>\n",
       "      <td>14.000000</td>\n",
       "    </tr>\n",
       "    <tr>\n",
       "      <th>75%</th>\n",
       "      <td>42.000000</td>\n",
       "      <td>1579.500000</td>\n",
       "      <td>3.000000</td>\n",
       "      <td>3.00000</td>\n",
       "      <td>14.750000</td>\n",
       "      <td>3.000000</td>\n",
       "      <td>2.000000</td>\n",
       "      <td>7.000000</td>\n",
       "      <td>8113.750000</td>\n",
       "      <td>97365.000000</td>\n",
       "      <td>110951.130000</td>\n",
       "      <td>2015.000000</td>\n",
       "      <td>2016.000000</td>\n",
       "      <td>18.000000</td>\n",
       "    </tr>\n",
       "    <tr>\n",
       "      <th>max</th>\n",
       "      <td>60.000000</td>\n",
       "      <td>2068.000000</td>\n",
       "      <td>5.000000</td>\n",
       "      <td>4.00000</td>\n",
       "      <td>40.000000</td>\n",
       "      <td>6.000000</td>\n",
       "      <td>15.000000</td>\n",
       "      <td>17.000000</td>\n",
       "      <td>19999.000000</td>\n",
       "      <td>239988.000000</td>\n",
       "      <td>295323.360000</td>\n",
       "      <td>2018.000000</td>\n",
       "      <td>2018.000000</td>\n",
       "      <td>25.000000</td>\n",
       "    </tr>\n",
       "  </tbody>\n",
       "</table>\n",
       "</div>"
      ],
      "text/plain": [
       "              age  employee_number   job_level  performance_rating  \\\n",
       "count  882.000000       882.000000  882.000000           882.00000   \n",
       "mean    36.653061      1035.948980    2.028345             3.14966   \n",
       "std      9.042329       610.654554    1.113477             0.35694   \n",
       "min     18.000000         2.000000    1.000000             3.00000   \n",
       "25%     30.000000       482.500000    1.000000             3.00000   \n",
       "50%     35.000000      1042.000000    2.000000             3.00000   \n",
       "75%     42.000000      1579.500000    3.000000             3.00000   \n",
       "max     60.000000      2068.000000    5.000000             4.00000   \n",
       "\n",
       "       totalW_working_years  training_times_last_year  \\\n",
       "count            882.000000                882.000000   \n",
       "mean              10.981859                  2.758503   \n",
       "std                7.665222                  1.269373   \n",
       "min                0.000000                  0.000000   \n",
       "25%                6.000000                  2.000000   \n",
       "50%                9.000000                  3.000000   \n",
       "75%               14.750000                  3.000000   \n",
       "max               40.000000                  6.000000   \n",
       "\n",
       "       years_since_last_promotion  years_with_curr_manager  monthly_income  \\\n",
       "count                  882.000000               882.000000      882.000000   \n",
       "mean                     2.116780                 4.034014     6380.507937   \n",
       "std                      3.188546                 3.517587     4714.856577   \n",
       "min                      0.000000                 0.000000     1009.000000   \n",
       "25%                      0.000000                 2.000000     2819.500000   \n",
       "50%                      1.000000                 3.000000     4837.500000   \n",
       "75%                      2.000000                 7.000000     8113.750000   \n",
       "max                     15.000000                17.000000    19999.000000   \n",
       "\n",
       "         salary_2017    salary_2018  year_of_joining  last_role_change  \\\n",
       "count     882.000000     882.000000       882.000000        882.000000   \n",
       "mean    76566.095238   88112.613061      2011.140590       2013.893424   \n",
       "std     56578.278923   64983.059467         6.205575          3.519361   \n",
       "min     12108.000000   13439.880000      1981.000000       2000.000000   \n",
       "25%     33834.000000   39425.940000      2009.000000       2011.000000   \n",
       "50%     58050.000000   66790.680000      2013.000000       2015.000000   \n",
       "75%     97365.000000  110951.130000      2015.000000       2016.000000   \n",
       "max    239988.000000  295323.360000      2018.000000       2018.000000   \n",
       "\n",
       "       percent_hike  \n",
       "count    882.000000  \n",
       "mean      15.217687  \n",
       "std        3.634587  \n",
       "min       11.000000  \n",
       "25%       12.000000  \n",
       "50%       14.000000  \n",
       "75%       18.000000  \n",
       "max       25.000000  "
      ]
     },
     "execution_count": 8,
     "metadata": {},
     "output_type": "execute_result"
    }
   ],
   "source": [
    "df1.describe() # 전체 컬럼의 count, mean, std, min, 25%, 50%, 75%, max 반환"
   ]
  },
  {
   "cell_type": "code",
   "execution_count": 9,
   "id": "d93b3c85",
   "metadata": {},
   "outputs": [
    {
     "data": {
      "text/html": [
       "<div>\n",
       "<style scoped>\n",
       "    .dataframe tbody tr th:only-of-type {\n",
       "        vertical-align: middle;\n",
       "    }\n",
       "\n",
       "    .dataframe tbody tr th {\n",
       "        vertical-align: top;\n",
       "    }\n",
       "\n",
       "    .dataframe thead th {\n",
       "        text-align: right;\n",
       "    }\n",
       "</style>\n",
       "<table border=\"1\" class=\"dataframe\">\n",
       "  <thead>\n",
       "    <tr style=\"text-align: right;\">\n",
       "      <th></th>\n",
       "      <th>age</th>\n",
       "      <th>employee_number</th>\n",
       "      <th>job_level</th>\n",
       "      <th>performance_rating</th>\n",
       "      <th>totalW_working_years</th>\n",
       "      <th>training_times_last_year</th>\n",
       "      <th>years_since_last_promotion</th>\n",
       "      <th>years_with_curr_manager</th>\n",
       "      <th>monthly_income</th>\n",
       "      <th>salary_2017</th>\n",
       "      <th>salary_2018</th>\n",
       "      <th>year_of_joining</th>\n",
       "      <th>last_role_change</th>\n",
       "      <th>percent_hike</th>\n",
       "    </tr>\n",
       "  </thead>\n",
       "  <tbody>\n",
       "    <tr>\n",
       "      <th>count</th>\n",
       "      <td>588.000000</td>\n",
       "      <td>588.000000</td>\n",
       "      <td>588.000000</td>\n",
       "      <td>588.000000</td>\n",
       "      <td>588.000000</td>\n",
       "      <td>588.000000</td>\n",
       "      <td>588.000000</td>\n",
       "      <td>588.000000</td>\n",
       "      <td>588.000000</td>\n",
       "      <td>588.000000</td>\n",
       "      <td>588.000000</td>\n",
       "      <td>588.000000</td>\n",
       "      <td>588.000000</td>\n",
       "      <td>588.000000</td>\n",
       "    </tr>\n",
       "    <tr>\n",
       "      <th>mean</th>\n",
       "      <td>37.329932</td>\n",
       "      <td>1008.239796</td>\n",
       "      <td>2.117347</td>\n",
       "      <td>3.159864</td>\n",
       "      <td>11.726190</td>\n",
       "      <td>2.860544</td>\n",
       "      <td>2.294218</td>\n",
       "      <td>4.256803</td>\n",
       "      <td>6686.566327</td>\n",
       "      <td>80238.795918</td>\n",
       "      <td>92450.103469</td>\n",
       "      <td>2010.768707</td>\n",
       "      <td>2013.586735</td>\n",
       "      <td>15.197279</td>\n",
       "    </tr>\n",
       "    <tr>\n",
       "      <th>std</th>\n",
       "      <td>9.266083</td>\n",
       "      <td>588.966746</td>\n",
       "      <td>1.095836</td>\n",
       "      <td>0.366792</td>\n",
       "      <td>7.936601</td>\n",
       "      <td>1.317271</td>\n",
       "      <td>3.272439</td>\n",
       "      <td>3.641569</td>\n",
       "      <td>4695.608507</td>\n",
       "      <td>56347.302084</td>\n",
       "      <td>65056.074249</td>\n",
       "      <td>6.004335</td>\n",
       "      <td>3.769007</td>\n",
       "      <td>3.700710</td>\n",
       "    </tr>\n",
       "    <tr>\n",
       "      <th>min</th>\n",
       "      <td>18.000000</td>\n",
       "      <td>1.000000</td>\n",
       "      <td>1.000000</td>\n",
       "      <td>3.000000</td>\n",
       "      <td>0.000000</td>\n",
       "      <td>0.000000</td>\n",
       "      <td>0.000000</td>\n",
       "      <td>0.000000</td>\n",
       "      <td>1129.000000</td>\n",
       "      <td>13548.000000</td>\n",
       "      <td>15038.280000</td>\n",
       "      <td>1978.000000</td>\n",
       "      <td>2001.000000</td>\n",
       "      <td>11.000000</td>\n",
       "    </tr>\n",
       "    <tr>\n",
       "      <th>25%</th>\n",
       "      <td>31.000000</td>\n",
       "      <td>504.000000</td>\n",
       "      <td>1.000000</td>\n",
       "      <td>3.000000</td>\n",
       "      <td>6.000000</td>\n",
       "      <td>2.000000</td>\n",
       "      <td>0.000000</td>\n",
       "      <td>2.000000</td>\n",
       "      <td>3037.000000</td>\n",
       "      <td>36444.000000</td>\n",
       "      <td>42405.030000</td>\n",
       "      <td>2008.000000</td>\n",
       "      <td>2011.000000</td>\n",
       "      <td>12.000000</td>\n",
       "    </tr>\n",
       "    <tr>\n",
       "      <th>50%</th>\n",
       "      <td>36.000000</td>\n",
       "      <td>1003.500000</td>\n",
       "      <td>2.000000</td>\n",
       "      <td>3.000000</td>\n",
       "      <td>10.000000</td>\n",
       "      <td>3.000000</td>\n",
       "      <td>1.000000</td>\n",
       "      <td>3.000000</td>\n",
       "      <td>5081.500000</td>\n",
       "      <td>60978.000000</td>\n",
       "      <td>69822.960000</td>\n",
       "      <td>2013.000000</td>\n",
       "      <td>2015.000000</td>\n",
       "      <td>14.000000</td>\n",
       "    </tr>\n",
       "    <tr>\n",
       "      <th>75%</th>\n",
       "      <td>44.000000</td>\n",
       "      <td>1502.250000</td>\n",
       "      <td>3.000000</td>\n",
       "      <td>3.000000</td>\n",
       "      <td>16.000000</td>\n",
       "      <td>3.000000</td>\n",
       "      <td>3.000000</td>\n",
       "      <td>7.000000</td>\n",
       "      <td>8711.750000</td>\n",
       "      <td>104541.000000</td>\n",
       "      <td>121177.440000</td>\n",
       "      <td>2015.000000</td>\n",
       "      <td>2016.000000</td>\n",
       "      <td>18.000000</td>\n",
       "    </tr>\n",
       "    <tr>\n",
       "      <th>max</th>\n",
       "      <td>60.000000</td>\n",
       "      <td>2060.000000</td>\n",
       "      <td>5.000000</td>\n",
       "      <td>4.000000</td>\n",
       "      <td>40.000000</td>\n",
       "      <td>6.000000</td>\n",
       "      <td>15.000000</td>\n",
       "      <td>17.000000</td>\n",
       "      <td>19973.000000</td>\n",
       "      <td>239676.000000</td>\n",
       "      <td>292404.720000</td>\n",
       "      <td>2018.000000</td>\n",
       "      <td>2018.000000</td>\n",
       "      <td>25.000000</td>\n",
       "    </tr>\n",
       "  </tbody>\n",
       "</table>\n",
       "</div>"
      ],
      "text/plain": [
       "              age  employee_number   job_level  performance_rating  \\\n",
       "count  588.000000       588.000000  588.000000          588.000000   \n",
       "mean    37.329932      1008.239796    2.117347            3.159864   \n",
       "std      9.266083       588.966746    1.095836            0.366792   \n",
       "min     18.000000         1.000000    1.000000            3.000000   \n",
       "25%     31.000000       504.000000    1.000000            3.000000   \n",
       "50%     36.000000      1003.500000    2.000000            3.000000   \n",
       "75%     44.000000      1502.250000    3.000000            3.000000   \n",
       "max     60.000000      2060.000000    5.000000            4.000000   \n",
       "\n",
       "       totalW_working_years  training_times_last_year  \\\n",
       "count            588.000000                588.000000   \n",
       "mean              11.726190                  2.860544   \n",
       "std                7.936601                  1.317271   \n",
       "min                0.000000                  0.000000   \n",
       "25%                6.000000                  2.000000   \n",
       "50%               10.000000                  3.000000   \n",
       "75%               16.000000                  3.000000   \n",
       "max               40.000000                  6.000000   \n",
       "\n",
       "       years_since_last_promotion  years_with_curr_manager  monthly_income  \\\n",
       "count                  588.000000               588.000000      588.000000   \n",
       "mean                     2.294218                 4.256803     6686.566327   \n",
       "std                      3.272439                 3.641569     4695.608507   \n",
       "min                      0.000000                 0.000000     1129.000000   \n",
       "25%                      0.000000                 2.000000     3037.000000   \n",
       "50%                      1.000000                 3.000000     5081.500000   \n",
       "75%                      3.000000                 7.000000     8711.750000   \n",
       "max                     15.000000                17.000000    19973.000000   \n",
       "\n",
       "         salary_2017    salary_2018  year_of_joining  last_role_change  \\\n",
       "count     588.000000     588.000000       588.000000        588.000000   \n",
       "mean    80238.795918   92450.103469      2010.768707       2013.586735   \n",
       "std     56347.302084   65056.074249         6.004335          3.769007   \n",
       "min     13548.000000   15038.280000      1978.000000       2001.000000   \n",
       "25%     36444.000000   42405.030000      2008.000000       2011.000000   \n",
       "50%     60978.000000   69822.960000      2013.000000       2015.000000   \n",
       "75%    104541.000000  121177.440000      2015.000000       2016.000000   \n",
       "max    239676.000000  292404.720000      2018.000000       2018.000000   \n",
       "\n",
       "       percent_hike  \n",
       "count    588.000000  \n",
       "mean      15.197279  \n",
       "std        3.700710  \n",
       "min       11.000000  \n",
       "25%       12.000000  \n",
       "50%       14.000000  \n",
       "75%       18.000000  \n",
       "max       25.000000  "
      ]
     },
     "execution_count": 9,
     "metadata": {},
     "output_type": "execute_result"
    }
   ],
   "source": [
    "df2.describe()"
   ]
  },
  {
   "cell_type": "code",
   "execution_count": 10,
   "id": "629a5db1",
   "metadata": {},
   "outputs": [
    {
     "data": {
      "text/plain": [
       "<AxesSubplot:>"
      ]
     },
     "execution_count": 10,
     "metadata": {},
     "output_type": "execute_result"
    },
    {
     "data": {
      "image/png": "[encoded data removed]",
      "text/plain": [
       "<Figure size 432x288 with 1 Axes>"
      ]
     },
     "metadata": {
      "needs_background": "light"
     },
     "output_type": "display_data"
    }
   ],
   "source": [
    "df1.boxplot(column='salary_2018') # 이전에 df1을 male컬럼만 어싸인했기때문에 male의 2018년 셀러리 박스플롯을 반환"
   ]
  },
  {
   "cell_type": "code",
   "execution_count": 11,
   "id": "46530899",
   "metadata": {},
   "outputs": [
    {
     "data": {
      "text/plain": [
       "<AxesSubplot:>"
      ]
     },
     "execution_count": 11,
     "metadata": {},
     "output_type": "execute_result"
    },
    {
     "data": {
      "image/png": "[encoded data removed]",
      "text/plain": [
       "<Figure size 432x288 with 1 Axes>"
      ]
     },
     "metadata": {
      "needs_background": "light"
     },
     "output_type": "display_data"
    }
   ],
   "source": [
    "df2.boxplot(column='salary_2018') # female salary distribution"
   ]
  },
  {
   "cell_type": "code",
   "execution_count": 12,
   "id": "ae4d99b9",
   "metadata": {},
   "outputs": [
    {
     "data": {
      "text/plain": [
       "<AxesSubplot:title={'center':'salary_2018'}, xlabel='gender'>"
      ]
     },
     "execution_count": 12,
     "metadata": {},
     "output_type": "execute_result"
    },
    {
     "data": {
      "image/png": "[encoded data removed]",
      "text/plain": [
       "<Figure size 432x288 with 1 Axes>"
      ]
     },
     "metadata": {
      "needs_background": "light"
     },
     "output_type": "display_data"
    }
   ],
   "source": [
    "df.boxplot(column='salary_2018', by='gender') # salary_2018의 박스플롯을 gender 카테고리로 나눠서 반환"
   ]
  }
 ],
 "metadata": {
  "kernelspec": {
   "display_name": "Python 3",
   "language": "python",
   "name": "python3"
  },
  "language_info": {
   "codemirror_mode": {
    "name": "ipython",
    "version": 3
   },
   "file_extension": ".py",
   "mimetype": "text/x-python",
   "name": "python",
   "nbconvert_exporter": "python",
   "pygments_lexer": "ipython3",
   "version": "3.8.8"
  }
 },
 "nbformat": 4,
 "nbformat_minor": 5
}
