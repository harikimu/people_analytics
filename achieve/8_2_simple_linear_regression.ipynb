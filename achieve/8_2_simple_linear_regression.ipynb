{
 "cells": [
  {
   "cell_type": "code",
   "execution_count": 1,
   "id": "f7fa3e67",
   "metadata": {},
   "outputs": [],
   "source": [
    "import pandas as pd\n",
    "df = pd.read_excel('C:\\\\Users\\\\heeckim\\\\data_analytics\\\\pyharry\\\\resources\\\\lrdata.xlsx')"
   ]
  },
  {
   "cell_type": "code",
   "execution_count": 2,
   "metadata": {},
   "outputs": [
    {
     "data": {
      "text/html": [
       "<table class=\"simpletable\">\n",
       "<caption>OLS Regression Results</caption>\n",
       "<tr>\n",
       "  <th>Dep. Variable:</th>    <td>percentage_salary_hike</td> <th>  R-squared:         </th> <td>   0.598</td> \n",
       "</tr>\n",
       "<tr>\n",
       "  <th>Model:</th>                      <td>OLS</td>          <th>  Adj. R-squared:    </th> <td>   0.598</td> \n",
       "</tr>\n",
       "<tr>\n",
       "  <th>Method:</th>                <td>Least Squares</td>     <th>  F-statistic:       </th> <td>   2187.</td> \n",
       "</tr>\n",
       "<tr>\n",
       "  <th>Date:</th>                <td>Mon, 15 Nov 2021</td>    <th>  Prob (F-statistic):</th> <td>4.27e-293</td>\n",
       "</tr>\n",
       "<tr>\n",
       "  <th>Time:</th>                    <td>15:05:37</td>        <th>  Log-Likelihood:    </th> <td> -3322.1</td> \n",
       "</tr>\n",
       "<tr>\n",
       "  <th>No. Observations:</th>         <td>  1470</td>         <th>  AIC:               </th> <td>   6648.</td> \n",
       "</tr>\n",
       "<tr>\n",
       "  <th>Df Residuals:</th>             <td>  1468</td>         <th>  BIC:               </th> <td>   6659.</td> \n",
       "</tr>\n",
       "<tr>\n",
       "  <th>Df Model:</th>                 <td>     1</td>         <th>                     </th>     <td> </td>    \n",
       "</tr>\n",
       "<tr>\n",
       "  <th>Covariance Type:</th>         <td>nonrobust</td>       <th>                     </th>     <td> </td>    \n",
       "</tr>\n",
       "</table>\n",
       "<table class=\"simpletable\">\n",
       "<tr>\n",
       "           <td></td>             <th>coef</th>     <th>std err</th>      <th>t</th>      <th>P>|t|</th>  <th>[0.025</th>    <th>0.975]</th>  \n",
       "</tr>\n",
       "<tr>\n",
       "  <th>const</th>              <td>   -9.5358</td> <td>    0.533</td> <td>  -17.905</td> <td> 0.000</td> <td>  -10.580</td> <td>   -8.491</td>\n",
       "</tr>\n",
       "<tr>\n",
       "  <th>performance_rating</th> <td>    7.8463</td> <td>    0.168</td> <td>   46.767</td> <td> 0.000</td> <td>    7.517</td> <td>    8.175</td>\n",
       "</tr>\n",
       "</table>\n",
       "<table class=\"simpletable\">\n",
       "<tr>\n",
       "  <th>Omnibus:</th>       <td>126.254</td> <th>  Durbin-Watson:     </th> <td>   2.106</td>\n",
       "</tr>\n",
       "<tr>\n",
       "  <th>Prob(Omnibus):</th> <td> 0.000</td>  <th>  Jarque-Bera (JB):  </th> <td> 111.830</td>\n",
       "</tr>\n",
       "<tr>\n",
       "  <th>Skew:</th>          <td> 0.602</td>  <th>  Prob(JB):          </th> <td>5.20e-25</td>\n",
       "</tr>\n",
       "<tr>\n",
       "  <th>Kurtosis:</th>      <td> 2.388</td>  <th>  Cond. No.          </th> <td>    30.7</td>\n",
       "</tr>\n",
       "</table><br/><br/>Notes:<br/>[1] Standard Errors assume that the covariance matrix of the errors is correctly specified."
      ],
      "text/plain": [
       "<class 'statsmodels.iolib.summary.Summary'>\n",
       "\"\"\"\n",
       "                              OLS Regression Results                              \n",
       "==================================================================================\n",
       "Dep. Variable:     percentage_salary_hike   R-squared:                       0.598\n",
       "Model:                                OLS   Adj. R-squared:                  0.598\n",
       "Method:                     Least Squares   F-statistic:                     2187.\n",
       "Date:                    Mon, 15 Nov 2021   Prob (F-statistic):          4.27e-293\n",
       "Time:                            15:05:37   Log-Likelihood:                -3322.1\n",
       "No. Observations:                    1470   AIC:                             6648.\n",
       "Df Residuals:                        1468   BIC:                             6659.\n",
       "Df Model:                               1                                         \n",
       "Covariance Type:                nonrobust                                         \n",
       "======================================================================================\n",
       "                         coef    std err          t      P>|t|      [0.025      0.975]\n",
       "--------------------------------------------------------------------------------------\n",
       "const                 -9.5358      0.533    -17.905      0.000     -10.580      -8.491\n",
       "performance_rating     7.8463      0.168     46.767      0.000       7.517       8.175\n",
       "==============================================================================\n",
       "Omnibus:                      126.254   Durbin-Watson:                   2.106\n",
       "Prob(Omnibus):                  0.000   Jarque-Bera (JB):              111.830\n",
       "Skew:                           0.602   Prob(JB):                     5.20e-25\n",
       "Kurtosis:                       2.388   Cond. No.                         30.7\n",
       "==============================================================================\n",
       "\n",
       "Notes:\n",
       "[1] Standard Errors assume that the covariance matrix of the errors is correctly specified.\n",
       "\"\"\""
      ]
     },
     "execution_count": 2,
     "metadata": {},
     "output_type": "execute_result"
    }
   ],
   "source": [
    "import statsmodels.api as sm\n",
    "x = df['performance_rating']\n",
    "y = df['percentage_salary_hike']\n",
    "x = sm.add_constant(x) # Add a column of ones to an array.\n",
    "model1=sm.OLS(y,x).fit() # Ordinary Least Squares\n",
    "model1.summary()"
   ]
  },
  {
   "cell_type": "code",
   "execution_count": null,
   "metadata": {},
   "outputs": [],
   "source": [
    "# 1. Prob (F-statistic): Overall model is significant\n",
    "# 2. R-squared: \n"
   ]
  }
 ],
 "metadata": {
  "interpreter": {
   "hash": "460b7333b98e4f0d68594cf02972e249a35f63e9c29aa539308163a771dee9be"
  },
  "kernelspec": {
   "display_name": "Python 3.8.8 64-bit ('base': conda)",
   "name": "python3"
  },
  "language_info": {
   "codemirror_mode": {
    "name": "ipython",
    "version": 3
   },
   "file_extension": ".py",
   "mimetype": "text/x-python",
   "name": "python",
   "nbconvert_exporter": "python",
   "pygments_lexer": "ipython3",
   "version": "3.8.8"
  }
 },
 "nbformat": 4,
 "nbformat_minor": 5
}
