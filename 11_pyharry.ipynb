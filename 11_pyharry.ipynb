{
 "cells": [
  {
   "cell_type": "markdown",
   "id": "1eb08f00",
   "metadata": {},
   "source": [
    "# Tenure, Compa Ratio, Dummy variable\n"
   ]
  },
  {
   "cell_type": "code",
   "execution_count": 7,
   "id": "5d06dcc3",
   "metadata": {},
   "outputs": [
    {
     "data": {
      "text/plain": [
       "0        6\n",
       "1       10\n",
       "2        0\n",
       "3        8\n",
       "4        2\n",
       "        ..\n",
       "1465     5\n",
       "1466     7\n",
       "1467     6\n",
       "1468     9\n",
       "1469     4\n",
       "Name: Tenure, Length: 1470, dtype: int64"
      ]
     },
     "execution_count": 7,
     "metadata": {},
     "output_type": "execute_result"
    }
   ],
   "source": [
    "import pandas as pd\n",
    "df = pd.read_excel('C:\\\\Users\\\\heeckim\\\\data_analytics\\\\HR Analytics Master Course with Excel, Python and R\\\\resources\\\\mean median mode.xlsx')\n",
    "df['Tenure']=2018-df['year_of_joining'] # Tenure 계산\n",
    "df['Tenure']"
   ]
  },
  {
   "cell_type": "code",
   "execution_count": 8,
   "id": "83a603c8",
   "metadata": {},
   "outputs": [
    {
     "data": {
      "text/plain": [
       "count    1470.000000\n",
       "mean        7.008163\n",
       "std         6.126525\n",
       "min         0.000000\n",
       "25%         3.000000\n",
       "50%         5.000000\n",
       "75%         9.000000\n",
       "max        40.000000\n",
       "Name: Tenure, dtype: float64"
      ]
     },
     "execution_count": 8,
     "metadata": {},
     "output_type": "execute_result"
    }
   ],
   "source": [
    "df['Tenure'].describe()"
   ]
  },
  {
   "cell_type": "code",
   "execution_count": 1,
   "id": "8c5ea620",
   "metadata": {},
   "outputs": [
    {
     "ename": "NameError",
     "evalue": "name 'df' is not defined",
     "output_type": "error",
     "traceback": [
      "\u001b[1;31m---------------------------------------------------------------------------\u001b[0m",
      "\u001b[1;31mNameError\u001b[0m                                 Traceback (most recent call last)",
      "\u001b[1;32m~\\AppData\\Local\\Temp/ipykernel_15112/3719279917.py\u001b[0m in \u001b[0;36m<module>\u001b[1;34m\u001b[0m\n\u001b[1;32m----> 1\u001b[1;33m \u001b[0mdf\u001b[0m\u001b[1;33m[\u001b[0m\u001b[1;34m'compa_ratio'\u001b[0m\u001b[1;33m]\u001b[0m\u001b[1;33m=\u001b[0m\u001b[0mdf\u001b[0m\u001b[1;33m[\u001b[0m\u001b[1;34m'salary_2018'\u001b[0m\u001b[1;33m]\u001b[0m\u001b[1;33m/\u001b[0m\u001b[0mdf\u001b[0m\u001b[1;33m[\u001b[0m\u001b[1;34m'salary_2018'\u001b[0m\u001b[1;33m]\u001b[0m\u001b[1;33m.\u001b[0m\u001b[0mmedian\u001b[0m\u001b[1;33m(\u001b[0m\u001b[1;33m)\u001b[0m \u001b[1;31m# Compa Ratio 계산\u001b[0m\u001b[1;33m\u001b[0m\u001b[1;33m\u001b[0m\u001b[0m\n\u001b[0m",
      "\u001b[1;31mNameError\u001b[0m: name 'df' is not defined"
     ]
    }
   ],
   "source": [
    "df['compa_ratio']=df['salary_2018']/df['salary_2018'].median() # Compa Ratio 계산"
   ]
  },
  {
   "cell_type": "code",
   "execution_count": 10,
   "id": "f40f234c",
   "metadata": {},
   "outputs": [
    {
     "data": {
      "text/plain": [
       "0       1.167580\n",
       "1       1.107495\n",
       "2       0.421855\n",
       "3       0.566743\n",
       "4       0.681737\n",
       "          ...   \n",
       "1465    0.527968\n",
       "1466    2.016630\n",
       "1467    1.293631\n",
       "1468    1.078482\n",
       "1469    0.865735\n",
       "Name: compa_ratio, Length: 1470, dtype: float64"
      ]
     },
     "execution_count": 10,
     "metadata": {},
     "output_type": "execute_result"
    }
   ],
   "source": [
    "df['compa_ratio']"
   ]
  },
  {
   "cell_type": "markdown",
   "id": "303b8ea4",
   "metadata": {},
   "source": [
    "### Dummy Variable (카테고리형인 컬럼을 1과 0의 값으로 변환된 새로운 컬럼을 형성)"
   ]
  },
  {
   "cell_type": "code",
   "execution_count": null,
   "id": "4279c34e",
   "metadata": {},
   "outputs": [],
   "source": [
    "import pandas as pd\n",
    "df = pd.read_excel('C:\\\\Users\\\\heeckim\\\\data_analytics\\\\PyHarry\\\\resources\\\\mean median mode.xlsx')"
   ]
  },
  {
   "cell_type": "code",
   "execution_count": 2,
   "id": "36d38668",
   "metadata": {},
   "outputs": [
    {
     "ename": "NameError",
     "evalue": "name 'df' is not defined",
     "output_type": "error",
     "traceback": [
      "\u001b[1;31m---------------------------------------------------------------------------\u001b[0m",
      "\u001b[1;31mNameError\u001b[0m                                 Traceback (most recent call last)",
      "\u001b[1;32m~\\AppData\\Local\\Temp/ipykernel_15112/502596924.py\u001b[0m in \u001b[0;36m<module>\u001b[1;34m\u001b[0m\n\u001b[1;32m----> 1\u001b[1;33m \u001b[0mdf\u001b[0m\u001b[1;33m[\u001b[0m\u001b[1;34m'department'\u001b[0m\u001b[1;33m]\u001b[0m\u001b[1;33m.\u001b[0m\u001b[0mvalue_counts\u001b[0m\u001b[1;33m(\u001b[0m\u001b[1;33m)\u001b[0m\u001b[1;33m\u001b[0m\u001b[1;33m\u001b[0m\u001b[0m\n\u001b[0m",
      "\u001b[1;31mNameError\u001b[0m: name 'df' is not defined"
     ]
    }
   ],
   "source": [
    "df['department'].value_counts()"
   ]
  },
  {
   "cell_type": "code",
   "execution_count": null,
   "id": "e2c2cbaa",
   "metadata": {},
   "outputs": [],
   "source": [
    "import numpy as np\n",
    "df['hr_dummy'] = np.where(df['department']==\"Human Resources\",1,0) # Department 컬럼이 Human Resource일 경우 1 반환, 아닐 경우 0을 반환"
   ]
  },
  {
   "cell_type": "code",
   "execution_count": null,
   "id": "a04fe342",
   "metadata": {},
   "outputs": [],
   "source": [
    "df['s_dummy'] = np.where(df['department']==\"Sales\",1,0)"
   ]
  },
  {
   "cell_type": "code",
   "execution_count": null,
   "id": "89a19c9f",
   "metadata": {},
   "outputs": [],
   "source": [
    "df"
   ]
  },
  {
   "cell_type": "code",
   "execution_count": null,
   "id": "a5ecdb1e",
   "metadata": {},
   "outputs": [],
   "source": [
    "df['hr_dummy'].value_counts() # Department가 HR인 경우가 63개 아닌 경우가 1407개"
   ]
  },
  {
   "cell_type": "code",
   "execution_count": null,
   "id": "cb170819",
   "metadata": {},
   "outputs": [],
   "source": [
    "df=df.drop(['hr_dummy','s_dummy'],axis=1) # 더미로 생성한 hr_dummy와 s_dummy 삭제"
   ]
  },
  {
   "cell_type": "code",
   "execution_count": null,
   "id": "ac6ce96c",
   "metadata": {},
   "outputs": [],
   "source": [
    "df"
   ]
  },
  {
   "cell_type": "code",
   "execution_count": null,
   "id": "f284c41a",
   "metadata": {},
   "outputs": [],
   "source": [
    "df=pd.get_dummies(df) # 자동으로 컬럼명_벨류값으로 새로운 컬럼을 생성하여 벨류값과 일치할 경우 1 아닐 경우 0으로 반환"
   ]
  },
  {
   "cell_type": "code",
   "execution_count": null,
   "id": "5209e392",
   "metadata": {},
   "outputs": [],
   "source": [
    "df.head()"
   ]
  },
  {
   "cell_type": "code",
   "execution_count": null,
   "id": "7cb16787",
   "metadata": {},
   "outputs": [],
   "source": [
    "df.apply(pd.Series.value_counts) # 자동으로 컬럼명_벨류값으로 새로운 컬럼을 생성하여 벨류값과 일치할 경우 1 아닐 경우 0으로 변환하여 합계를 반환"
   ]
  }
 ],
 "metadata": {
  "kernelspec": {
   "display_name": "Python 3",
   "language": "python",
   "name": "python3"
  },
  "language_info": {
   "codemirror_mode": {
    "name": "ipython",
    "version": 3
   },
   "file_extension": ".py",
   "mimetype": "text/x-python",
   "name": "python",
   "nbconvert_exporter": "python",
   "pygments_lexer": "ipython3",
   "version": "3.9.7"
  }
 },
 "nbformat": 4,
 "nbformat_minor": 5
}
