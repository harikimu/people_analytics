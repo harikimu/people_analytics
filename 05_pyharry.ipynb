{
 "cells": [
  {
   "cell_type": "markdown",
   "id": "43d6469b",
   "metadata": {},
   "source": [
    "# Data Cleaning (Missing Values)"
   ]
  },
  {
   "cell_type": "code",
   "execution_count": 14,
   "id": "ad6a41f1",
   "metadata": {},
   "outputs": [],
   "source": [
    "import pandas as pd\n",
    "df = pd.read_excel('C:\\\\Users\\\\heeckim\\\\Desktop\\\\work\\\\12_python\\\\pyharry\\\\resources\\\\missing data.xlsx')"
   ]
  },
  {
   "cell_type": "code",
   "execution_count": 15,
   "id": "e2950483",
   "metadata": {},
   "outputs": [
    {
     "data": {
      "text/plain": [
       "e_code                      0\n",
       "status                      0\n",
       "hire_date                   0\n",
       "service_agreement           0\n",
       "job_level                   0\n",
       "performance_rating_2018     0\n",
       "performance_rating_2017     0\n",
       "year_of_birth               0\n",
       "gender                      0\n",
       "distance_from_home          0\n",
       "manager_changes             0\n",
       "no_of_promotions            0\n",
       "risk_of_attrition          14\n",
       "potential_rating            0\n",
       "bonus                       0\n",
       "no_courses_taken            0\n",
       "time_in_position            0\n",
       "awards                      0\n",
       "signon                      0\n",
       "manager_sat                 0\n",
       "employee_sat               21\n",
       "salary_2017                 0\n",
       "salary_2018                 0\n",
       "dtype: int64"
      ]
     },
     "execution_count": 15,
     "metadata": {},
     "output_type": "execute_result"
    }
   ],
   "source": [
    "df.isna().sum() # 각 컬럼의 NA값의 합을 반환"
   ]
  },
  {
   "cell_type": "code",
   "execution_count": 16,
   "id": "94a5d619",
   "metadata": {},
   "outputs": [
    {
     "data": {
      "text/plain": [
       "e_code                     0.000000\n",
       "status                     0.000000\n",
       "hire_date                  0.000000\n",
       "service_agreement          0.000000\n",
       "job_level                  0.000000\n",
       "performance_rating_2018    0.000000\n",
       "performance_rating_2017    0.000000\n",
       "year_of_birth              0.000000\n",
       "gender                     0.000000\n",
       "distance_from_home         0.000000\n",
       "manager_changes            0.000000\n",
       "no_of_promotions           0.000000\n",
       "risk_of_attrition          2.083333\n",
       "potential_rating           0.000000\n",
       "bonus                      0.000000\n",
       "no_courses_taken           0.000000\n",
       "time_in_position           0.000000\n",
       "awards                     0.000000\n",
       "signon                     0.000000\n",
       "manager_sat                0.000000\n",
       "employee_sat               3.157895\n",
       "salary_2017                0.000000\n",
       "salary_2018                0.000000\n",
       "dtype: float64"
      ]
     },
     "execution_count": 16,
     "metadata": {},
     "output_type": "execute_result"
    }
   ],
   "source": [
    "df.isna().sum()/df.count()*100 # 각 컬럼의 NA값의 비율을 반환"
   ]
  },
  {
   "cell_type": "code",
   "execution_count": 17,
   "id": "61f028e8",
   "metadata": {},
   "outputs": [],
   "source": [
    "df1=df.dropna() # NA인 Row 전체삭제"
   ]
  },
  {
   "cell_type": "code",
   "execution_count": 18,
   "id": "88b1c5fd",
   "metadata": {},
   "outputs": [
    {
     "data": {
      "text/plain": [
       "(686, 23)"
      ]
     },
     "execution_count": 18,
     "metadata": {},
     "output_type": "execute_result"
    }
   ],
   "source": [
    "df.shape"
   ]
  },
  {
   "cell_type": "code",
   "execution_count": 19,
   "id": "103812c4",
   "metadata": {},
   "outputs": [
    {
     "data": {
      "text/plain": [
       "(661, 23)"
      ]
     },
     "execution_count": 19,
     "metadata": {},
     "output_type": "execute_result"
    }
   ],
   "source": [
    "df1.shape"
   ]
  },
  {
   "cell_type": "code",
   "execution_count": 20,
   "id": "7af0cdf2",
   "metadata": {},
   "outputs": [
    {
     "data": {
      "text/plain": [
       "e_code                     0\n",
       "status                     0\n",
       "hire_date                  0\n",
       "service_agreement          0\n",
       "job_level                  0\n",
       "performance_rating_2018    0\n",
       "performance_rating_2017    0\n",
       "year_of_birth              0\n",
       "gender                     0\n",
       "distance_from_home         0\n",
       "manager_changes            0\n",
       "no_of_promotions           0\n",
       "risk_of_attrition          0\n",
       "potential_rating           0\n",
       "bonus                      0\n",
       "no_courses_taken           0\n",
       "time_in_position           0\n",
       "awards                     0\n",
       "signon                     0\n",
       "manager_sat                0\n",
       "employee_sat               0\n",
       "salary_2017                0\n",
       "salary_2018                0\n",
       "dtype: int64"
      ]
     },
     "execution_count": 20,
     "metadata": {},
     "output_type": "execute_result"
    }
   ],
   "source": [
    "df1.isna().sum()"
   ]
  },
  {
   "cell_type": "code",
   "execution_count": 21,
   "id": "f647963a",
   "metadata": {},
   "outputs": [
    {
     "data": {
      "text/plain": [
       "0      80.0\n",
       "1      84.0\n",
       "2      93.0\n",
       "3      83.0\n",
       "4      80.0\n",
       "       ... \n",
       "681    80.0\n",
       "682    80.0\n",
       "683    80.0\n",
       "684    80.0\n",
       "685    80.0\n",
       "Name: employee_sat, Length: 686, dtype: float64"
      ]
     },
     "execution_count": 21,
     "metadata": {},
     "output_type": "execute_result"
    }
   ],
   "source": [
    "df1=df['employee_sat']\n",
    "df1=df1.fillna(0) # If N/A, fills 0\n",
    "df1"
   ]
  },
  {
   "cell_type": "code",
   "execution_count": 22,
   "id": "7dd884c5",
   "metadata": {},
   "outputs": [
    {
     "data": {
      "text/plain": [
       "0"
      ]
     },
     "execution_count": 22,
     "metadata": {},
     "output_type": "execute_result"
    }
   ],
   "source": [
    "df1.isna().sum()"
   ]
  },
  {
   "cell_type": "code",
   "execution_count": 23,
   "id": "a688a1ab",
   "metadata": {},
   "outputs": [
    {
     "data": {
      "text/plain": [
       "0      80.0\n",
       "1      84.0\n",
       "2      93.0\n",
       "3      83.0\n",
       "4      80.0\n",
       "       ... \n",
       "681    80.0\n",
       "682    80.0\n",
       "683    80.0\n",
       "684    80.0\n",
       "685    80.0\n",
       "Name: employee_sat, Length: 686, dtype: object"
      ]
     },
     "execution_count": 23,
     "metadata": {},
     "output_type": "execute_result"
    }
   ],
   "source": [
    "df1=df['employee_sat']\n",
    "df1=df1.fillna(df1.mean) # If N/A, fill MEAN\n",
    "df1"
   ]
  },
  {
   "cell_type": "code",
   "execution_count": 24,
   "id": "7b228b3a",
   "metadata": {},
   "outputs": [
    {
     "data": {
      "text/plain": [
       "0"
      ]
     },
     "execution_count": 24,
     "metadata": {},
     "output_type": "execute_result"
    }
   ],
   "source": [
    "df1.isna().sum()"
   ]
  }
 ],
 "metadata": {
  "kernelspec": {
   "display_name": "Python 3",
   "language": "python",
   "name": "python3"
  },
  "language_info": {
   "codemirror_mode": {
    "name": "ipython",
    "version": 3
   },
   "file_extension": ".py",
   "mimetype": "text/x-python",
   "name": "python",
   "nbconvert_exporter": "python",
   "pygments_lexer": "ipython3",
   "version": "3.8.8"
  }
 },
 "nbformat": 4,
 "nbformat_minor": 5
}
