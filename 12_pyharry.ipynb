{
 "cells": [
  {
   "cell_type": "markdown",
   "id": "089e6411",
   "metadata": {},
   "source": [
    "## Normalization\n"
   ]
  },
  {
   "cell_type": "code",
   "execution_count": 31,
   "id": "f7fa3e67",
   "metadata": {},
   "outputs": [],
   "source": [
    "import pandas as pd\n",
    "df = pd.read_excel('C:\\\\resources\\\\Skewness.xlsx')"
   ]
  },
  {
   "cell_type": "code",
   "execution_count": 32,
   "id": "58d3a57b",
   "metadata": {},
   "outputs": [],
   "source": [
    "# Normalization vs Normal Distribution"
   ]
  },
  {
   "cell_type": "code",
   "execution_count": 33,
   "id": "b4aa4d4c",
   "metadata": {},
   "outputs": [
    {
     "data": {
      "text/plain": [
       "0      119968\n",
       "1       99330\n",
       "2      102511\n",
       "3       56674\n",
       "4      122021\n",
       "        ...  \n",
       "681     74999\n",
       "682     74999\n",
       "683     74999\n",
       "684     74999\n",
       "685     74000\n",
       "Name: salary_2017, Length: 686, dtype: int64"
      ]
     },
     "execution_count": 33,
     "metadata": {},
     "output_type": "execute_result"
    }
   ],
   "source": [
    "df['salary_2017']"
   ]
  },
  {
   "cell_type": "code",
   "execution_count": 34,
   "id": "dd5013b2",
   "metadata": {},
   "outputs": [
    {
     "data": {
      "text/plain": [
       "count       686.000000\n",
       "mean     114289.116618\n",
       "std       60820.924620\n",
       "min       39600.000000\n",
       "25%       77033.750000\n",
       "50%       98000.000000\n",
       "75%      125705.500000\n",
       "max      511500.000000\n",
       "Name: salary_2017, dtype: float64"
      ]
     },
     "execution_count": 34,
     "metadata": {},
     "output_type": "execute_result"
    }
   ],
   "source": [
    "df['salary_2017'].describe()"
   ]
  },
  {
   "cell_type": "code",
   "execution_count": 35,
   "id": "11c080aa",
   "metadata": {},
   "outputs": [],
   "source": [
    "df['salary_2017_norm']=(df['salary_2017']-df['salary_2017'].min())/(df['salary_2017'].max()-df['salary_2017'].min()) # Normalization"
   ]
  },
  {
   "cell_type": "code",
   "execution_count": 36,
   "id": "3004adac",
   "metadata": {},
   "outputs": [
    {
     "data": {
      "text/plain": [
       "0      0.170307\n",
       "1      0.126573\n",
       "2      0.133314\n",
       "3      0.036181\n",
       "4      0.174658\n",
       "         ...   \n",
       "681    0.075014\n",
       "682    0.075014\n",
       "683    0.075014\n",
       "684    0.075014\n",
       "685    0.072897\n",
       "Name: salary_2017_norm, Length: 686, dtype: float64"
      ]
     },
     "execution_count": 36,
     "metadata": {},
     "output_type": "execute_result"
    }
   ],
   "source": [
    "df['salary_2017_norm'] # 샐러리 Ratio로 분할 예) 1번 직원의 셀러리는 전체의 0.12%를 차지"
   ]
  },
  {
   "cell_type": "code",
   "execution_count": 37,
   "id": "b555e456",
   "metadata": {},
   "outputs": [
    {
     "data": {
      "text/plain": [
       "0.0"
      ]
     },
     "execution_count": 37,
     "metadata": {},
     "output_type": "execute_result"
    }
   ],
   "source": [
    "df['salary_2017_norm'].min()"
   ]
  },
  {
   "cell_type": "code",
   "execution_count": 38,
   "id": "0b99127a",
   "metadata": {},
   "outputs": [
    {
     "data": {
      "text/plain": [
       "1.0"
      ]
     },
     "execution_count": 38,
     "metadata": {},
     "output_type": "execute_result"
    }
   ],
   "source": [
    "df['salary_2017_norm'].max()"
   ]
  },
  {
   "cell_type": "code",
   "execution_count": 39,
   "id": "38cb3338",
   "metadata": {},
   "outputs": [
    {
     "data": {
      "text/plain": [
       "<AxesSubplot:>"
      ]
     },
     "execution_count": 39,
     "metadata": {},
     "output_type": "execute_result"
    },
    {
     "data": {
      "image/png": "[encoded data removed]",
      "text/plain": [
       "<Figure size 432x288 with 1 Axes>"
      ]
     },
     "metadata": {
      "needs_background": "light"
     },
     "output_type": "display_data"
    }
   ],
   "source": [
    "df['salary_2017'].hist()"
   ]
  },
  {
   "cell_type": "code",
   "execution_count": 40,
   "id": "e40d9aca",
   "metadata": {},
   "outputs": [
    {
     "data": {
      "text/plain": [
       "<AxesSubplot:>"
      ]
     },
     "execution_count": 40,
     "metadata": {},
     "output_type": "execute_result"
    },
    {
     "data": {
      "image/png": "[encoded data removed]",
      "text/plain": [
       "<Figure size 432x288 with 1 Axes>"
      ]
     },
     "metadata": {
      "needs_background": "light"
     },
     "output_type": "display_data"
    }
   ],
   "source": [
    "df['salary_2017_norm'].hist()"
   ]
  },
  {
   "cell_type": "markdown",
   "id": "21686dda",
   "metadata": {},
   "source": [
    "## Log Transformation"
   ]
  },
  {
   "cell_type": "code",
   "execution_count": 41,
   "id": "d8d8ea5b",
   "metadata": {},
   "outputs": [],
   "source": [
    "import pandas as pd\n",
    "df = pd.read_excel('C:\\\\resources\\\\incentive.xlsx')"
   ]
  },
  {
   "cell_type": "code",
   "execution_count": 42,
   "id": "cef52768",
   "metadata": {},
   "outputs": [
    {
     "data": {
      "text/plain": [
       "0     278.5\n",
       "1     271.0\n",
       "2     209.5\n",
       "3     208.0\n",
       "4     198.0\n",
       "5     175.5\n",
       "6     156.5\n",
       "7     152.5\n",
       "8     142.5\n",
       "9     140.5\n",
       "10    134.5\n",
       "11    132.0\n",
       "12    126.0\n",
       "13    124.5\n",
       "14    124.0\n",
       "15    124.0\n",
       "16    120.0\n",
       "17    119.5\n",
       "18    117.5\n",
       "19    117.5\n",
       "20    116.5\n",
       "21    112.0\n",
       "22    109.5\n",
       "23    108.5\n",
       "24    105.5\n",
       "25    103.5\n",
       "26    102.5\n",
       "27     99.5\n",
       "28     99.0\n",
       "29     89.5\n",
       "30     89.0\n",
       "31     87.5\n",
       "32     87.0\n",
       "33     86.0\n",
       "34     84.5\n",
       "35     83.0\n",
       "36     82.5\n",
       "37     81.0\n",
       "38     78.5\n",
       "39     74.5\n",
       "40     72.5\n",
       "41     72.5\n",
       "42     68.0\n",
       "43     66.0\n",
       "44     64.0\n",
       "45     62.0\n",
       "46     60.0\n",
       "47     53.5\n",
       "48     53.5\n",
       "49     51.5\n",
       "50     50.0\n",
       "51     47.5\n",
       "52     47.0\n",
       "53     47.0\n",
       "54     46.0\n",
       "55     45.5\n",
       "56     40.0\n",
       "57     33.0\n",
       "58     29.5\n",
       "59     22.0\n",
       "Name: incentive, dtype: float64"
      ]
     },
     "execution_count": 42,
     "metadata": {},
     "output_type": "execute_result"
    }
   ],
   "source": [
    "df['incentive']"
   ]
  },
  {
   "cell_type": "code",
   "execution_count": 43,
   "id": "ed11514f",
   "metadata": {},
   "outputs": [
    {
     "data": {
      "text/plain": [
       "<AxesSubplot:>"
      ]
     },
     "execution_count": 43,
     "metadata": {},
     "output_type": "execute_result"
    },
    {
     "data": {
      "image/png": "[encoded data removed]",
      "text/plain": [
       "<Figure size 432x288 with 1 Axes>"
      ]
     },
     "metadata": {
      "needs_background": "light"
     },
     "output_type": "display_data"
    }
   ],
   "source": [
    "df['incentive'].hist()"
   ]
  },
  {
   "cell_type": "code",
   "execution_count": 44,
   "id": "175319d0",
   "metadata": {},
   "outputs": [],
   "source": [
    "import matplotlib.pyplot as plt\n",
    "import scipy.stats as stats"
   ]
  },
  {
   "cell_type": "code",
   "execution_count": 45,
   "id": "2a077a08",
   "metadata": {},
   "outputs": [
    {
     "data": {
      "text/plain": [
       "<function matplotlib.pyplot.show(close=None, block=None)>"
      ]
     },
     "execution_count": 45,
     "metadata": {},
     "output_type": "execute_result"
    },
    {
     "data": {
      "image/png": "[encoded data removed]",
      "text/plain": [
       "<Figure size 432x288 with 1 Axes>"
      ]
     },
     "metadata": {
      "needs_background": "light"
     },
     "output_type": "display_data"
    }
   ],
   "source": [
    "stats.probplot(df['incentive'], dist=\"norm\", plot=plt) # Probability Plot을 반환, 분포가 직선과 가까울수록 정규분포에 가깝다\n",
    "plt.show"
   ]
  },
  {
   "cell_type": "code",
   "execution_count": 46,
   "id": "7ea6cf8f",
   "metadata": {},
   "outputs": [
    {
     "data": {
      "text/plain": [
       "ShapiroResult(statistic=0.9010933637619019, pvalue=0.00014420412480831146)"
      ]
     },
     "execution_count": 46,
     "metadata": {},
     "output_type": "execute_result"
    }
   ],
   "source": [
    "stats.shapiro(df['incentive']) # P-Value, P-Values < 0.05, reject null statement HO: Data is normally distributed, Ha: Data is not normally distributed"
   ]
  },
  {
   "cell_type": "code",
   "execution_count": 47,
   "id": "37a23f39",
   "metadata": {},
   "outputs": [],
   "source": [
    "import numpy as np\n",
    "df['incentive_log'] = np.log(df['incentive']) # Incentive Column을 로그로 변환"
   ]
  },
  {
   "cell_type": "code",
   "execution_count": 48,
   "id": "07bff703",
   "metadata": {},
   "outputs": [
    {
     "data": {
      "text/plain": [
       "<AxesSubplot:>"
      ]
     },
     "execution_count": 48,
     "metadata": {},
     "output_type": "execute_result"
    },
    {
     "data": {
      "image/png": "[encoded data removed]",
      "text/plain": [
       "<Figure size 432x288 with 1 Axes>"
      ]
     },
     "metadata": {
      "needs_background": "light"
     },
     "output_type": "display_data"
    }
   ],
   "source": [
    "df['incentive_log'].hist()"
   ]
  },
  {
   "cell_type": "code",
   "execution_count": 49,
   "id": "c5fc90dd",
   "metadata": {},
   "outputs": [
    {
     "data": {
      "text/plain": [
       "<function matplotlib.pyplot.show(close=None, block=None)>"
      ]
     },
     "execution_count": 49,
     "metadata": {},
     "output_type": "execute_result"
    },
    {
     "data": {
      "image/png": "[encoded data removed]",
      "text/plain": [
       "<Figure size 432x288 with 1 Axes>"
      ]
     },
     "metadata": {
      "needs_background": "light"
     },
     "output_type": "display_data"
    }
   ],
   "source": [
    "stats.probplot(df['incentive_log'], dist=\"norm\", plot=plt) # Probability Plot을 반환, 분포가 직선과 가까울수록 정규분포에 가깝다\n",
    "plt.show"
   ]
  },
  {
   "cell_type": "code",
   "execution_count": 50,
   "id": "f3ac6d05",
   "metadata": {},
   "outputs": [
    {
     "data": {
      "text/plain": [
       "ShapiroResult(statistic=0.9878764152526855, pvalue=0.8156425952911377)"
      ]
     },
     "execution_count": 50,
     "metadata": {},
     "output_type": "execute_result"
    }
   ],
   "source": [
    "stats.shapiro(df['incentive_log']) # 로그 변환후 P-Value가 0.05보다 큼으로 Null Accept H0: 데이터가 정규분포이다"
   ]
  },
  {
   "cell_type": "markdown",
   "id": "10236d7d",
   "metadata": {},
   "source": [
    "## 스퀘어루트 트랜스포메이션"
   ]
  },
  {
   "cell_type": "code",
   "execution_count": 51,
   "id": "1c8c5782",
   "metadata": {},
   "outputs": [
    {
     "data": {
      "text/plain": [
       "0     16.688319\n",
       "1     16.462078\n",
       "2     14.474115\n",
       "3     14.422205\n",
       "4     14.071247\n",
       "5     13.247641\n",
       "6     12.509996\n",
       "7     12.349089\n",
       "8     11.937336\n",
       "9     11.853270\n",
       "10    11.597414\n",
       "11    11.489125\n",
       "12    11.224972\n",
       "13    11.157957\n",
       "14    11.135529\n",
       "15    11.135529\n",
       "16    10.954451\n",
       "17    10.931606\n",
       "18    10.839742\n",
       "19    10.839742\n",
       "20    10.793517\n",
       "21    10.583005\n",
       "22    10.464225\n",
       "23    10.416333\n",
       "24    10.271319\n",
       "25    10.173495\n",
       "26    10.124228\n",
       "27     9.974969\n",
       "28     9.949874\n",
       "29     9.460444\n",
       "30     9.433981\n",
       "31     9.354143\n",
       "32     9.327379\n",
       "33     9.273618\n",
       "34     9.192388\n",
       "35     9.110434\n",
       "36     9.082951\n",
       "37     9.000000\n",
       "38     8.860023\n",
       "39     8.631338\n",
       "40     8.514693\n",
       "41     8.514693\n",
       "42     8.246211\n",
       "43     8.124038\n",
       "44     8.000000\n",
       "45     7.874008\n",
       "46     7.745967\n",
       "47     7.314369\n",
       "48     7.314369\n",
       "49     7.176350\n",
       "50     7.071068\n",
       "51     6.892024\n",
       "52     6.855655\n",
       "53     6.855655\n",
       "54     6.782330\n",
       "55     6.745369\n",
       "56     6.324555\n",
       "57     5.744563\n",
       "58     5.431390\n",
       "59     4.690416\n",
       "Name: incentive_sqrt, dtype: float64"
      ]
     },
     "execution_count": 51,
     "metadata": {},
     "output_type": "execute_result"
    }
   ],
   "source": [
    "df['incentive_sqrt'] = np.sqrt(df['incentive']) # incentive 컬럼을 스퀘어루트로 반환\n",
    "df['incentive_sqrt']"
   ]
  },
  {
   "cell_type": "code",
   "execution_count": 52,
   "id": "f2aff06f",
   "metadata": {},
   "outputs": [
    {
     "data": {
      "text/plain": [
       "<function matplotlib.pyplot.show(close=None, block=None)>"
      ]
     },
     "execution_count": 52,
     "metadata": {},
     "output_type": "execute_result"
    },
    {
     "data": {
      "image/png": "[encoded data removed]",
      "text/plain": [
       "<Figure size 432x288 with 1 Axes>"
      ]
     },
     "metadata": {
      "needs_background": "light"
     },
     "output_type": "display_data"
    }
   ],
   "source": [
    "stats.probplot(df['incentive_sqrt'], dist=\"norm\", plot=plt) # Probability Plot을 반환, 분포가 직선과 가까울수록 정규분포에 가깝다\n",
    "plt.show"
   ]
  },
  {
   "cell_type": "code",
   "execution_count": 53,
   "id": "41e2f252",
   "metadata": {},
   "outputs": [
    {
     "data": {
      "text/plain": [
       "ShapiroResult(statistic=0.9724815487861633, pvalue=0.19270609319210052)"
      ]
     },
     "execution_count": 53,
     "metadata": {},
     "output_type": "execute_result"
    }
   ],
   "source": [
    "stats.shapiro(df['incentive_sqrt'])"
   ]
  },
  {
   "cell_type": "markdown",
   "id": "560ad8d4",
   "metadata": {},
   "source": [
    "## 큐브루트 트랜스포메이션"
   ]
  },
  {
   "cell_type": "code",
   "execution_count": 54,
   "id": "947a5562",
   "metadata": {},
   "outputs": [
    {
     "data": {
      "text/plain": [
       "0     6.530429\n",
       "1     6.471274\n",
       "2     5.939201\n",
       "3     5.924992\n",
       "4     5.828477\n",
       "5     5.598767\n",
       "6     5.388958\n",
       "7     5.342649\n",
       "8     5.223220\n",
       "9     5.198668\n",
       "10    5.123587\n",
       "11    5.091643\n",
       "12    5.013298\n",
       "13    4.993324\n",
       "14    4.986631\n",
       "15    4.986631\n",
       "16    4.932424\n",
       "17    4.925564\n",
       "18    4.897931\n",
       "19    4.897931\n",
       "20    4.883996\n",
       "21    4.820285\n",
       "22    4.784149\n",
       "23    4.769541\n",
       "24    4.725171\n",
       "25    4.695121\n",
       "26    4.679951\n",
       "27    4.633840\n",
       "28    4.626065\n",
       "29    4.473090\n",
       "30    4.464745\n",
       "31    4.439520\n",
       "32    4.431048\n",
       "33    4.414005\n",
       "34    4.388191\n",
       "35    4.362071\n",
       "36    4.353294\n",
       "37    4.326749\n",
       "38    4.281769\n",
       "39    4.207771\n",
       "40    4.169775\n",
       "41    4.169775\n",
       "42    4.081655\n",
       "43    4.041240\n",
       "44    4.000000\n",
       "45    3.957892\n",
       "46    3.914868\n",
       "47    3.768061\n",
       "48    3.768061\n",
       "49    3.720509\n",
       "50    3.684031\n",
       "51    3.621578\n",
       "52    3.608826\n",
       "53    3.608826\n",
       "54    3.583048\n",
       "55    3.570018\n",
       "56    3.419952\n",
       "57    3.207534\n",
       "58    3.089873\n",
       "59    2.802039\n",
       "Name: incentive_cbrt, dtype: float64"
      ]
     },
     "execution_count": 54,
     "metadata": {},
     "output_type": "execute_result"
    }
   ],
   "source": [
    "df['incentive_cbrt'] = np.cbrt(df['incentive']) # incentive 컬럼을 큐브루트(세제곱근)로 반환\n",
    "df['incentive_cbrt']"
   ]
  },
  {
   "cell_type": "code",
   "execution_count": 55,
   "id": "6ce4ed4e",
   "metadata": {},
   "outputs": [
    {
     "data": {
      "text/plain": [
       "<AxesSubplot:>"
      ]
     },
     "execution_count": 55,
     "metadata": {},
     "output_type": "execute_result"
    },
    {
     "data": {
      "image/png": "[encoded data removed]",
      "text/plain": [
       "<Figure size 432x288 with 1 Axes>"
      ]
     },
     "metadata": {
      "needs_background": "light"
     },
     "output_type": "display_data"
    }
   ],
   "source": [
    "df['incentive_cbrt'].hist()"
   ]
  },
  {
   "cell_type": "code",
   "execution_count": 56,
   "id": "11dfc019",
   "metadata": {},
   "outputs": [
    {
     "data": {
      "text/plain": [
       "<function matplotlib.pyplot.show(close=None, block=None)>"
      ]
     },
     "execution_count": 56,
     "metadata": {},
     "output_type": "execute_result"
    },
    {
     "data": {
      "image/png": "[encoded data removed]",
      "text/plain": [
       "<Figure size 432x288 with 1 Axes>"
      ]
     },
     "metadata": {
      "needs_background": "light"
     },
     "output_type": "display_data"
    }
   ],
   "source": [
    "stats.probplot(df['incentive_cbrt'], dist=\"norm\", plot=plt) # Probability Plot을 반환, 분포가 직선과 가까울수록 정규분포에 가깝다\n",
    "plt.show"
   ]
  },
  {
   "cell_type": "code",
   "execution_count": 57,
   "id": "c0d4a4f1",
   "metadata": {},
   "outputs": [
    {
     "data": {
      "text/plain": [
       "ShapiroResult(statistic=0.9846499562263489, pvalue=0.6518293619155884)"
      ]
     },
     "execution_count": 57,
     "metadata": {},
     "output_type": "execute_result"
    }
   ],
   "source": [
    "stats.shapiro(df['incentive_cbrt']) "
   ]
  }
 ],
 "metadata": {
  "kernelspec": {
   "display_name": "Python 3",
   "language": "python",
   "name": "python3"
  },
  "language_info": {
   "codemirror_mode": {
    "name": "ipython",
    "version": 3
   },
   "file_extension": ".py",
   "mimetype": "text/x-python",
   "name": "python",
   "nbconvert_exporter": "python",
   "pygments_lexer": "ipython3",
   "version": "3.9.7"
  }
 },
 "nbformat": 4,
 "nbformat_minor": 5
}
