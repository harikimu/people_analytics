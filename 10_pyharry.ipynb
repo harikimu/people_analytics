{
 "cells": [
  {
   "cell_type": "markdown",
   "id": "d36a81d0",
   "metadata": {},
   "source": [
    "# Hypothesis Test"
   ]
  },
  {
   "cell_type": "code",
   "execution_count": 10,
   "id": "de502b25",
   "metadata": {},
   "outputs": [],
   "source": [
    "import pandas as pd\n",
    "df = pd.read_excel('C:\\\\Users\\\\heeckim\\\\Desktop\\\\work\\\\12_python\\\\pyharry\\\\resources\\\\HYPOTHESIS TESTING.xlsx')\n",
    "df1 = pd.read_excel('C:\\\\Users\\\\heeckim\\\\Desktop\\\\work\\\\12_python\\\\pyharry\\\\resources\\\\HYPOTHESIS TESTING 1.xlsx')"
   ]
  },
  {
   "cell_type": "code",
   "execution_count": 11,
   "id": "de1a3246",
   "metadata": {},
   "outputs": [
    {
     "name": "stdout",
     "output_type": "stream",
     "text": [
      "10.16024561522808\n"
     ]
    },
    {
     "data": {
      "text/plain": [
       "2.2979020203155957e-11"
      ]
     },
     "execution_count": 11,
     "metadata": {},
     "output_type": "execute_result"
    }
   ],
   "source": [
    "### One Sample T-Test ### 캔디데이트 그룹군의 채용점수가 3.9 이상인지\n",
    "# step 1: Formulating Hypothesis\n",
    "# H0 - hiring score for college b is less than equal to 3.9\n",
    "# HA - hiring score for college b is greater than 3.9\n",
    "\n",
    "# step 2: Choosing the test\n",
    "# one sample t-test\n",
    "\n",
    "# step 3: Choosing significant level\n",
    "# 0.05\n",
    "\n",
    "# step 4: Apply the test and find p-value (two tailed test)\n",
    "import scipy.stats as sp\n",
    "r=sp.ttest_1samp(df1.hiring_score,3.9)\n",
    "\n",
    "# step 5: Compare P-value and the significant level\n",
    "print(r[0])\n",
    "r[1]/2 # p-value\n",
    "\n",
    "# conclusion: As p-value is less than 0.05, we reject null and accept the alternative hypothesis\n",
    "\n",
    "# 10.16 means Upper Tail test, if this value is negative becomes Lower Tail test.\n",
    "\n"
   ]
  },
  {
   "cell_type": "code",
   "execution_count": 12,
   "id": "f5e5d906",
   "metadata": {},
   "outputs": [
    {
     "name": "stdout",
     "output_type": "stream",
     "text": [
      "Ttest_1sampResult(statistic=10.16024561522808, pvalue=4.5958040406311913e-11)\n"
     ]
    }
   ],
   "source": [
    "print(r)"
   ]
  },
  {
   "cell_type": "code",
   "execution_count": 13,
   "id": "261debe6",
   "metadata": {},
   "outputs": [],
   "source": [
    "# if print(r[0]) is positive, T value is positive, it is Upper tail test\n",
    "# p-value is less than 0.05 in this test. Check e-11."
   ]
  },
  {
   "cell_type": "code",
   "execution_count": 14,
   "id": "6cf4dae7",
   "metadata": {},
   "outputs": [
    {
     "name": "stdout",
     "output_type": "stream",
     "text": [
      "27.37448237935423\n"
     ]
    },
    {
     "data": {
      "text/plain": [
       "7.194835316061746e-108"
      ]
     },
     "execution_count": 14,
     "metadata": {},
     "output_type": "execute_result"
    }
   ],
   "source": [
    "### Pared T-Test ### 트레이닝 전과 후의 생산성이 향상 되었는지\n",
    "# step 1: Formulating Hypothesis\n",
    "# H0 - producitivy after training is less than or equal to productivity before training\n",
    "# HA - producitivy after training is greater than productivity before training\n",
    "\n",
    "# step 2: Choosing the test\n",
    "# paired t-test\n",
    "\n",
    "# step 3: Choosing significant level\n",
    "# 0.05\n",
    "\n",
    "# step 4: Apply the test and find p-value\n",
    "r=sp.ttest_rel(df['productivity_after_training'],df['productivity_before_training'])\n",
    "print(r[0])\n",
    "r[1]/2 # p-value\n",
    "\n",
    "# step 5: Compare P-value and the significant level\n",
    "\n",
    "# conclusion: As p-value is less than 0.05, we reject null and accept the alternative hypothesis"
   ]
  },
  {
   "cell_type": "code",
   "execution_count": 15,
   "id": "10acb621",
   "metadata": {},
   "outputs": [
    {
     "name": "stdout",
     "output_type": "stream",
     "text": [
      "Ttest_relResult(statistic=27.37448237935423, pvalue=1.4389670632123492e-107)\n"
     ]
    }
   ],
   "source": [
    "print(r)"
   ]
  },
  {
   "cell_type": "code",
   "execution_count": 16,
   "id": "24ba072f",
   "metadata": {},
   "outputs": [
    {
     "data": {
      "text/plain": [
       "(1.6572558301428084,\n",
       " 0.19797424382119203,\n",
       " 1,\n",
       " array([[ 66.360601,  92.639399],\n",
       "        [183.639399, 256.360601]]))"
      ]
     },
     "execution_count": 16,
     "metadata": {},
     "output_type": "execute_result"
    }
   ],
   "source": [
    "#### Chi_Square #### 부하직원의 성별과 상사의 성별이 연관성이 있는지\n",
    "# step 1 : Formulating hypothesis\n",
    "# H0: employee gender and hiring manager gender are independent\n",
    "# HA: employee gender and hiring manager gender are dependent\n",
    "\n",
    "# step 2 : Choosing the test\n",
    "# Chi-Square\n",
    "\n",
    "# step 3 : Choosing significance level\n",
    "# 0.05\n",
    "\n",
    "# step 4 : Apply the test and find p-value\n",
    "table = pd.crosstab(df['employee_gender'], df['hiring_manager_gender'])\n",
    "\n",
    "sp.chi2_contingency(table)\n",
    "\n",
    "# step 5 : compare p-value and the significance level\n",
    "\n",
    "# conclusion : As p-value is greater than 0.05 we accept the null hypothesis"
   ]
  },
  {
   "cell_type": "code",
   "execution_count": 17,
   "id": "34f69972",
   "metadata": {},
   "outputs": [
    {
     "name": "stdout",
     "output_type": "stream",
     "text": [
      "{'Human Resources': [79, 100, 105, 112, 134, 139, 232, 310, 350, 422, 440, 453, 477, 493, 510, 535, 538, 551], 'Research & Development': [1, 2, 3, 4, 5, 6, 7, 8, 9, 10, 11, 12, 13, 14, 15, 16, 17, 19, 20, 22, 23, 24, 25, 26, 28, 30, 31, 32, 34, 35, 38, 40, 41, 42, 44, 45, 47, 49, 50, 51, 53, 55, 57, 58, 59, 60, 61, 62, 64, 65, 66, 67, 68, 69, 71, 72, 73, 74, 75, 77, 78, 80, 81, 83, 84, 85, 87, 88, 90, 93, 95, 99, 101, 102, 103, 104, 106, 108, 109, 110, 111, 113, 114, 116, 118, 120, 122, 123, 125, 126, 128, 129, 130, 135, 136, 140, 141, 142, 143, 145, ...], 'Sales': [0, 18, 21, 27, 29, 33, 36, 37, 39, 43, 46, 48, 52, 54, 56, 63, 70, 76, 82, 86, 89, 91, 92, 94, 96, 97, 98, 107, 115, 117, 119, 121, 124, 127, 131, 132, 133, 137, 138, 144, 151, 152, 154, 158, 159, 167, 168, 171, 174, 178, 182, 205, 210, 212, 215, 216, 218, 219, 223, 226, 227, 228, 233, 235, 237, 238, 241, 254, 261, 263, 265, 273, 277, 281, 282, 292, 293, 295, 297, 300, 301, 303, 306, 319, 320, 321, 327, 328, 331, 335, 338, 339, 343, 347, 349, 352, 354, 355, 357, 358, ...]}\n"
     ]
    }
   ],
   "source": [
    "#### ANOVA #### 부서와 마지막 프로모션이 연관성이 있는지, 3개의 부서를 각각 그룹핑후, 아노바 테스트로 귀무가설 확인\n",
    "# step 1 : Formulating hypothesis\n",
    "# H0: years since last promotion and department are independent\n",
    "# HA: years since last promotion and department are dependent\n",
    "\n",
    "# step 2 : Choosing the test\n",
    "# Anova\n",
    "\n",
    "# step 3 : Choosing significance level\n",
    "# 0.05\n",
    "\n",
    "# step 4 : Apply the test and find p-value\n",
    "groups = df.groupby(\"Department\").groups # In Python, need to create the index by grouping\n",
    "print(groups)"
   ]
  },
  {
   "cell_type": "code",
   "execution_count": 18,
   "id": "73318ee2",
   "metadata": {},
   "outputs": [
    {
     "name": "stdout",
     "output_type": "stream",
     "text": [
      "79      0\n",
      "100     0\n",
      "105     2\n",
      "112     4\n",
      "134     5\n",
      "139     4\n",
      "232     2\n",
      "310     1\n",
      "350     1\n",
      "422     0\n",
      "440     0\n",
      "453     1\n",
      "477    10\n",
      "493     0\n",
      "510     7\n",
      "535    12\n",
      "538     2\n",
      "551     3\n",
      "Name: yrs_since_last_promotion, dtype: int64\n"
     ]
    }
   ],
   "source": [
    "# Extract individual groups\n",
    "HR = df.yrs_since_last_promotion[groups[\"Human Resources\"]] # it is chaptering row 79, 100, 105..'s last promotion\n",
    "S = df.yrs_since_last_promotion[groups[\"Sales\"]]\n",
    "RD = df.yrs_since_last_promotion[groups[\"Research & Development\"]]\n",
    "print(HR)"
   ]
  },
  {
   "cell_type": "code",
   "execution_count": 19,
   "id": "11f5144e",
   "metadata": {},
   "outputs": [
    {
     "data": {
      "text/plain": [
       "F_onewayResult(statistic=0.7346134416339346, pvalue=0.48012467830275873)"
      ]
     },
     "execution_count": 19,
     "metadata": {},
     "output_type": "execute_result"
    }
   ],
   "source": [
    "sp.f_oneway(HR, S, RD)\n",
    "# step 5 : compare p-value and the significance level\n",
    "\n",
    "# conclusion : As p-value is greater than 0.05 we accept the null hypothesis"
   ]
  },
  {
   "cell_type": "code",
   "execution_count": null,
   "id": "26a83da6",
   "metadata": {},
   "outputs": [],
   "source": []
  }
 ],
 "metadata": {
  "kernelspec": {
   "display_name": "Python 3",
   "language": "python",
   "name": "python3"
  },
  "language_info": {
   "codemirror_mode": {
    "name": "ipython",
    "version": 3
   },
   "file_extension": ".py",
   "mimetype": "text/x-python",
   "name": "python",
   "nbconvert_exporter": "python",
   "pygments_lexer": "ipython3",
   "version": "3.8.8"
  }
 },
 "nbformat": 4,
 "nbformat_minor": 5
}
