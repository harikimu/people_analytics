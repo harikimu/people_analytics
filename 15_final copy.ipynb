{
 "cells": [
  {
   "cell_type": "markdown",
   "metadata": {},
   "source": [
    "# **Predicting Employee Turnover in Python**"
   ]
  },
  {
   "cell_type": "markdown",
   "metadata": {},
   "source": [
    "Prepared by Harry Kim\n",
    "* Github https://github.com/harikimu/\n",
    "* Linkedin http://www.linkedin.com/in/harrykim1"
   ]
  },
  {
   "cell_type": "markdown",
   "metadata": {},
   "source": [
    "----"
   ]
  },
  {
   "cell_type": "markdown",
   "metadata": {},
   "source": [
    "### **Contents**"
   ]
  },
  {
   "cell_type": "markdown",
   "metadata": {},
   "source": [
    "1. Problem Understanding<br>\n",
    "    1.1 Objectives<br>\n",
    "    1.2 Problem Statement<br>\n",
    "\n",
    "2. Data Understanding\n",
    "\n",
    "3. Data Preparation <br>\n",
    "    3.1 Importing Libraries <br>\n",
    "    3.2 Loading Data Set <br>\n",
    "    3.3 Checking Data Dimensions <br>\n",
    "    3.4 Checking Data Types <br>\n",
    "    3.5 Checking Missing Values <br>\n",
    "    3.6 Converting Data Types <br>\n",
    "    3.7 Descriptive Statistics <br>\n",
    "    3.8 Variable Creation <br>\n",
    "\n",
    "4. Exploratory Data Analysis <br>\n",
    "    4.1 Univariate Analysis - Target Variable <br>\n",
    "    4.2 Univariate Analysis - Numerical Variables <br>\n",
    "    4.3 Univariate Analysis - Categorical Variables <br>\n",
    "    4.4 Bi-variate Analysis (Categorical - Categorical) <br>\n",
    "    \n",
    "        4.4.1 Gender \n",
    "        4.4.2 Service Agreement \n",
    "        4.4.3 Job Level \n",
    "        4.4.4 Variance in Performance Rating \n",
    "        4.4.5 Number of Promotions \n",
    "        4.4.6 Risk of Attrition \n",
    "        4.4.7 Potential Rating \n",
    "        4.4.8 Awards \n",
    "        4.4.9 Sign On Bonus \n",
    "\n",
    "    4.5 Hypothesis Testing (Categorical - Categorical) <br>\n",
    "\n",
    "        4.5.1 Gender \n",
    "        4.5.2 Service Agreement \n",
    "        4.5.3 Job Level \n",
    "        4.5.4 Variance in Performance Rating \n",
    "        4.5.5 Number of Promotions \n",
    "        4.5.6 Risk of Attrition \n",
    "        4.5.7 Potential Rating \n",
    "        4.5.8 Awards \n",
    "        4.5.9 Sign On Bonus \n",
    "    \n",
    "    4.6 Bi-variate Analysis 2 (Categorical - Numerical) <br>\n",
    "\n",
    "        4.6.1 Age\n",
    "        4.6.2 Distance From Home\n",
    "        4.6.3 Manager Satisfaction\n",
    "        4.6.4 Employee Satisfaction\n",
    "        4.6.5 Bonus \n",
    "        4.6.6 Number of Courses Taken\n",
    "        4.6.7 Time in Position\n",
    "        4.6.8 Salary Change Percentage\n",
    "        4.6.9 Number of Manager Changes\n",
    "\n",
    "    4.7 Hypothesis Testing 2 (Categorical - Numerical) <br>\n",
    "\n",
    "        4.7.1 Age\n",
    "        4.7.2 Distance From Home\n",
    "        4.7.3 Manager Satisfaction\n",
    "        4.7.4 Employee Satisfaction\n",
    "        4.7.5 Bonus \n",
    "        4.7.6 Number of Courses Taken\n",
    "        4.7.7 Time in Position\n",
    "        4.7.8 Salary Change Percentage\n",
    "        4.7.9 Number of Manager Changes\n",
    "\n",
    "    4.8 Summary of Hypothesis Test\n",
    "\n",
    "    4.9 Multivariate Analysis (Correlations between Numerical Variables) <br>\n",
    "\n",
    "5. Feature Enginerring <br>\n",
    "    5.1 Dummy Variables <br>\n",
    "    5.2 Normalization' <br>\n",
    "\n",
    "6. Data Modelling <br>\n",
    "    6.1 Data Split into Train and Test <br>\n",
    "    6.2 Train Logistic Regression Model <br>\n",
    "\n",
    "        6.2.1 Apply 10-Fold Cross Validation for Logistic Regression\n",
    "        6.2.2 Average Score\n",
    "        6.2.3 Logistic Regression AUC\n",
    "\n",
    "    6.3 Train Random Forest Classifier Model <br>\n",
    "\n",
    "        6.3.1 Apply 10-Fold Cross Validation for Random Forest\n",
    "        6.3.2 Average Score\n",
    "        6.3.3 Logistic Regression AUC\n",
    "\n",
    "    6.4 Support Vector Classifier <br>\n",
    "\n",
    "    6.5 ROC Graph <br>\n",
    "\n",
    "    6.6 Random Forest Feature Importances\n",
    "\n",
    "    "
   ]
  },
  {
   "cell_type": "markdown",
   "metadata": {},
   "source": [
    "---"
   ]
  },
  {
   "cell_type": "markdown",
   "metadata": {},
   "source": [
    "# **1. Problem Understanding**"
   ]
  },
  {
   "cell_type": "markdown",
   "metadata": {},
   "source": [
    "### **1.1 Objectives**\n",
    "\n",
    "* To understand what factors contributed most to employee turnover.\n",
    "* To perform clustering to find any meaningful patterns of employee traits.\n",
    "* To create a model that predicts the likelihood if a certain employee will leave the company or not.\n",
    "* To create or improve different retention strategies on targeted employees.\n",
    "* The implementation of this model will allow management to create better decision-making actions."
   ]
  },
  {
   "cell_type": "markdown",
   "metadata": {},
   "source": [
    "### **1.2 Problem Statement**"
   ]
  },
  {
   "cell_type": "markdown",
   "metadata": {},
   "source": [
    "In mid 2019, Gallup estimated that a trillion dollars was what U.S. businesses were losing every year due to voluntary employee turnover. In addition, in the same period, the U.S. Bureau of Labor Statistics announced that the number of American workers who quit their jobs in 2018 topped 40 million and represented 26.9% of the workforce.\n",
    "\n",
    "For an individual organization:\n",
    "\n",
    "- The cost of replacing an individual employee can range from one-half to two times the employee's annual salary -- and that's a conservative estimate.\n",
    "- So, a 100-person organization that provides an average salary of $50,000 could have turnover and replacement costs of approximately $660,000 to $2.6 million per year.\n",
    "\n",
    "With a trillion dollars on the table, businesses may also want to take other steps to curb turnover and keep their workforce happy and engaged.\n",
    "\n",
    "When Gallup talked to exiting workers, they found two fascinating bits of information: \n",
    "\n",
    "- 52% of them said their manager or organization could have done something to keep them from leaving. \n",
    "- 51% said that in the three months before their departure neither their manager nor any other company leader had spoken with them about their job satisfaction or their future.\n",
    "\n",
    "At the end of its report, Gallup suggested:\n",
    "\n",
    "> “Train your managers to have frequent, meaningful conversations with employees about what really matters to them. What’s frustrating them? What are their dreams? Where do they want to go?”\n",
    "\n",
    "However, for a company with many employees and bureaucratic processes, how it makes it possible to spot those employees that are most likely to leave? This is what we're going to find out in this project.\n",
    "\n",
    "**Reference**\n",
    "\n",
    "* This Fixable Problem Costs U.S. Businesses $1 Trillion(https://www.gallup.com/workplace/247391/fixable-problem-costs-businesses-trillion.aspx)\n",
    "\n"
   ]
  },
  {
   "cell_type": "markdown",
   "metadata": {},
   "source": [
    "# **2. Data Understanding**"
   ]
  },
  {
   "cell_type": "markdown",
   "metadata": {},
   "source": [
    "**Refenrence: https://www.udemy.com/course/hr-analytics-course**\n",
    "\n",
    "This is the attrition data from the Udemy course. The period is not specified but since the data set is including salary and performance rating between 2017 and 2018. It is assumed that the data set is including the terminated employees from 2017 to 2018."
   ]
  },
  {
   "cell_type": "markdown",
   "metadata": {},
   "source": [
    "|Field Name|Data Type|Description|\n",
    "|------|---|---|\n",
    "|e_code|int64|Employee Number|\n",
    "|status|int64|Active Status (0=Active, 1=Terminated)|\n",
    "|hire_date|datetime64[ns]|Hire Date|\n",
    "|service_agreement|object|Whether the employee has a service agreement or not (Y, N)|\n",
    "|job_level|int64|Employee's career level within the company|\n",
    "|peformance rating_2017|int64|Employee's performance rating in 2017 \\(1 = Low ; 2 = Medium ; 3 = High ; 4 = Very High\\) |\n",
    "|peformance rating_2018|int64|Employee's performance rating in 2018 \\(1 = Low ; 2 = Medium ; 3 = High ; 4 = Very High\\) |\n",
    "|year_of_birth|int64|Employee's year of birth |\n",
    "|gender|object|Employee's gender|\n",
    "|distance_from_home|float64|How far the employee lives from work in kilometers|\n",
    "|manager_changes|int64|How many times employee's manager has been changed|\n",
    "|no_of_promotions|int64|How many times employee has been promoted|\n",
    "|risk_of_attrition|int64|Risk of attrition of the employee that assessed by HR Manager and Line Manager|\n",
    "|potential_rating|int64|Employee's potential peformance rating in 2019|\n",
    "|bonus|int64|Bonus that the employee received|\n",
    "|no_courses_taken|int64|How many times the employee went though courses or trainings in the company|\n",
    "|time_in_position|int64|How long the employee is in the current position|\n",
    "|awards|object|How many times the employee has been awarded|\n",
    "|signon|ojbect|Whether the employee received the sign on bonus or not (Y, N)|\n",
    "|manager_sat|int64|How the employee's manager is satisfied his/her job (1-100)|\n",
    "|employee_sat|int64|How the employee him/herslf is satisfied his/her job (1-100)|\n",
    "|salary_2017|int64|The employee's salary in 2017|\n",
    "|salary_2018|int64|The employee's salary in 2018|"
   ]
  },
  {
   "cell_type": "markdown",
   "metadata": {},
   "source": [
    "# **3. Data Preparation**"
   ]
  },
  {
   "cell_type": "markdown",
   "metadata": {},
   "source": [
    "### **3.1 Importing Libraries**"
   ]
  },
  {
   "cell_type": "code",
   "execution_count": null,
   "metadata": {},
   "outputs": [],
   "source": [
    "# data manipulation\n",
    "import pandas as pd\n",
    "from numpy import mean\n",
    "\n",
    "# Exploratory Data Analysis (+ Data Visualization)\n",
    "import matplotlib.pyplot as plt\n",
    "from statsmodels.graphics.mosaicplot import mosaic\n",
    "import scipy.stats as sp\n",
    "import seaborn as sns\n",
    "\n",
    "# machine learning\n",
    "from sklearn.model_selection import train_test_split\n",
    "from collections import Counter\n",
    "from imblearn.combine import SMOTETomek\n",
    "from sklearn.linear_model import LogisticRegression\n",
    "from sklearn.ensemble import RandomForestClassifier\n",
    "from xgboost import XGBClassifier\n",
    "from lightgbm import LGBMClassifier\n"
   ]
  },
  {
   "cell_type": "markdown",
   "metadata": {},
   "source": [
    "### **3.2 Loading Data Set**"
   ]
  },
  {
   "cell_type": "code",
   "execution_count": 142,
   "metadata": {},
   "outputs": [],
   "source": [
    "# loads data set\n",
    "df = pd.read_excel(\"D:\\\\work\\\\12_python\\\\pyharry\\\\resources\\\\ATTRITION DATA.xlsx\")"
   ]
  },
  {
   "cell_type": "markdown",
   "metadata": {},
   "source": [
    "\n",
    "### **3.3 Checking Data Dimensions**"
   ]
  },
  {
   "cell_type": "code",
   "execution_count": 143,
   "metadata": {},
   "outputs": [
    {
     "data": {
      "text/plain": [
       "Index(['e_code', 'status', 'hire_date', 'service_agreement', 'job_level',\n",
       "       'performance_rating_2018', 'performance_rating_2017', 'year_of_birth',\n",
       "       'gender', 'distance_from_home', 'manager_changes', 'no_of_promotions',\n",
       "       'risk_of_attrition', 'potential_rating', 'bonus', 'no_courses_taken',\n",
       "       'time_in_position', 'awards', 'signon', 'manager_sat', 'employee_sat',\n",
       "       'salary_2017', 'salary_2018'],\n",
       "      dtype='object')"
      ]
     },
     "execution_count": 143,
     "metadata": {},
     "output_type": "execute_result"
    }
   ],
   "source": [
    "# checkig column names\n",
    "df.columns"
   ]
  },
  {
   "cell_type": "code",
   "execution_count": 144,
   "metadata": {},
   "outputs": [
    {
     "data": {
      "text/plain": [
       "(686, 23)"
      ]
     },
     "execution_count": 144,
     "metadata": {},
     "output_type": "execute_result"
    }
   ],
   "source": [
    "# checking number of colums and rows\n",
    "df.shape"
   ]
  },
  {
   "cell_type": "code",
   "execution_count": 145,
   "metadata": {},
   "outputs": [
    {
     "data": {
      "text/html": [
       "<div>\n",
       "<style scoped>\n",
       "    .dataframe tbody tr th:only-of-type {\n",
       "        vertical-align: middle;\n",
       "    }\n",
       "\n",
       "    .dataframe tbody tr th {\n",
       "        vertical-align: top;\n",
       "    }\n",
       "\n",
       "    .dataframe thead th {\n",
       "        text-align: right;\n",
       "    }\n",
       "</style>\n",
       "<table border=\"1\" class=\"dataframe\">\n",
       "  <thead>\n",
       "    <tr style=\"text-align: right;\">\n",
       "      <th></th>\n",
       "      <th>e_code</th>\n",
       "      <th>status</th>\n",
       "      <th>hire_date</th>\n",
       "      <th>service_agreement</th>\n",
       "      <th>job_level</th>\n",
       "      <th>performance_rating_2018</th>\n",
       "      <th>performance_rating_2017</th>\n",
       "      <th>year_of_birth</th>\n",
       "      <th>gender</th>\n",
       "      <th>distance_from_home</th>\n",
       "      <th>...</th>\n",
       "      <th>potential_rating</th>\n",
       "      <th>bonus</th>\n",
       "      <th>no_courses_taken</th>\n",
       "      <th>time_in_position</th>\n",
       "      <th>awards</th>\n",
       "      <th>signon</th>\n",
       "      <th>manager_sat</th>\n",
       "      <th>employee_sat</th>\n",
       "      <th>salary_2017</th>\n",
       "      <th>salary_2018</th>\n",
       "    </tr>\n",
       "  </thead>\n",
       "  <tbody>\n",
       "    <tr>\n",
       "      <th>0</th>\n",
       "      <td>45631</td>\n",
       "      <td>0</td>\n",
       "      <td>1990-09-17</td>\n",
       "      <td>N</td>\n",
       "      <td>3</td>\n",
       "      <td>4</td>\n",
       "      <td>3</td>\n",
       "      <td>1967</td>\n",
       "      <td>M</td>\n",
       "      <td>0.52</td>\n",
       "      <td>...</td>\n",
       "      <td>5</td>\n",
       "      <td>0</td>\n",
       "      <td>8</td>\n",
       "      <td>30</td>\n",
       "      <td>N</td>\n",
       "      <td>N</td>\n",
       "      <td>81</td>\n",
       "      <td>80</td>\n",
       "      <td>119968</td>\n",
       "      <td>124173</td>\n",
       "    </tr>\n",
       "    <tr>\n",
       "      <th>1</th>\n",
       "      <td>45632</td>\n",
       "      <td>0</td>\n",
       "      <td>1995-10-23</td>\n",
       "      <td>N</td>\n",
       "      <td>2</td>\n",
       "      <td>1</td>\n",
       "      <td>2</td>\n",
       "      <td>1971</td>\n",
       "      <td>M</td>\n",
       "      <td>0.08</td>\n",
       "      <td>...</td>\n",
       "      <td>5</td>\n",
       "      <td>2242</td>\n",
       "      <td>6</td>\n",
       "      <td>5</td>\n",
       "      <td>N</td>\n",
       "      <td>N</td>\n",
       "      <td>88</td>\n",
       "      <td>84</td>\n",
       "      <td>99330</td>\n",
       "      <td>100822</td>\n",
       "    </tr>\n",
       "    <tr>\n",
       "      <th>2</th>\n",
       "      <td>45633</td>\n",
       "      <td>0</td>\n",
       "      <td>1996-03-10</td>\n",
       "      <td>N</td>\n",
       "      <td>2</td>\n",
       "      <td>4</td>\n",
       "      <td>4</td>\n",
       "      <td>1972</td>\n",
       "      <td>M</td>\n",
       "      <td>0.51</td>\n",
       "      <td>...</td>\n",
       "      <td>3</td>\n",
       "      <td>0</td>\n",
       "      <td>2</td>\n",
       "      <td>53</td>\n",
       "      <td>N</td>\n",
       "      <td>N</td>\n",
       "      <td>83</td>\n",
       "      <td>93</td>\n",
       "      <td>102511</td>\n",
       "      <td>115500</td>\n",
       "    </tr>\n",
       "    <tr>\n",
       "      <th>3</th>\n",
       "      <td>45634</td>\n",
       "      <td>0</td>\n",
       "      <td>1998-07-13</td>\n",
       "      <td>N</td>\n",
       "      <td>1</td>\n",
       "      <td>3</td>\n",
       "      <td>3</td>\n",
       "      <td>1968</td>\n",
       "      <td>F</td>\n",
       "      <td>0.81</td>\n",
       "      <td>...</td>\n",
       "      <td>5</td>\n",
       "      <td>2320</td>\n",
       "      <td>2</td>\n",
       "      <td>36</td>\n",
       "      <td>N</td>\n",
       "      <td>N</td>\n",
       "      <td>86</td>\n",
       "      <td>83</td>\n",
       "      <td>56674</td>\n",
       "      <td>58806</td>\n",
       "    </tr>\n",
       "    <tr>\n",
       "      <th>4</th>\n",
       "      <td>45635</td>\n",
       "      <td>0</td>\n",
       "      <td>1991-09-16</td>\n",
       "      <td>N</td>\n",
       "      <td>2</td>\n",
       "      <td>3</td>\n",
       "      <td>3</td>\n",
       "      <td>1961</td>\n",
       "      <td>M</td>\n",
       "      <td>0.06</td>\n",
       "      <td>...</td>\n",
       "      <td>5</td>\n",
       "      <td>0</td>\n",
       "      <td>10</td>\n",
       "      <td>2</td>\n",
       "      <td>N</td>\n",
       "      <td>N</td>\n",
       "      <td>79</td>\n",
       "      <td>80</td>\n",
       "      <td>122021</td>\n",
       "      <td>122021</td>\n",
       "    </tr>\n",
       "  </tbody>\n",
       "</table>\n",
       "<p>5 rows × 23 columns</p>\n",
       "</div>"
      ],
      "text/plain": [
       "   e_code  status  hire_date service_agreement  job_level  \\\n",
       "0   45631       0 1990-09-17                 N          3   \n",
       "1   45632       0 1995-10-23                 N          2   \n",
       "2   45633       0 1996-03-10                 N          2   \n",
       "3   45634       0 1998-07-13                 N          1   \n",
       "4   45635       0 1991-09-16                 N          2   \n",
       "\n",
       "   performance_rating_2018  performance_rating_2017  year_of_birth gender  \\\n",
       "0                        4                        3           1967      M   \n",
       "1                        1                        2           1971      M   \n",
       "2                        4                        4           1972      M   \n",
       "3                        3                        3           1968      F   \n",
       "4                        3                        3           1961      M   \n",
       "\n",
       "   distance_from_home  ...  potential_rating  bonus  no_courses_taken  \\\n",
       "0                0.52  ...                 5      0                 8   \n",
       "1                0.08  ...                 5   2242                 6   \n",
       "2                0.51  ...                 3      0                 2   \n",
       "3                0.81  ...                 5   2320                 2   \n",
       "4                0.06  ...                 5      0                10   \n",
       "\n",
       "   time_in_position  awards  signon  manager_sat employee_sat salary_2017  \\\n",
       "0                30       N       N           81           80      119968   \n",
       "1                 5       N       N           88           84       99330   \n",
       "2                53       N       N           83           93      102511   \n",
       "3                36       N       N           86           83       56674   \n",
       "4                 2       N       N           79           80      122021   \n",
       "\n",
       "   salary_2018  \n",
       "0       124173  \n",
       "1       100822  \n",
       "2       115500  \n",
       "3        58806  \n",
       "4       122021  \n",
       "\n",
       "[5 rows x 23 columns]"
      ]
     },
     "execution_count": 145,
     "metadata": {},
     "output_type": "execute_result"
    }
   ],
   "source": [
    "# checking top 5 rows of data set\n",
    "df.head()"
   ]
  },
  {
   "cell_type": "markdown",
   "metadata": {},
   "source": [
    "\n",
    "### **3.4 Checking Data Types**"
   ]
  },
  {
   "cell_type": "code",
   "execution_count": 146,
   "metadata": {},
   "outputs": [
    {
     "data": {
      "text/plain": [
       "e_code                              int64\n",
       "status                              int64\n",
       "hire_date                  datetime64[ns]\n",
       "service_agreement                  object\n",
       "job_level                           int64\n",
       "performance_rating_2018             int64\n",
       "performance_rating_2017             int64\n",
       "year_of_birth                       int64\n",
       "gender                             object\n",
       "distance_from_home                float64\n",
       "manager_changes                     int64\n",
       "no_of_promotions                    int64\n",
       "risk_of_attrition                   int64\n",
       "potential_rating                    int64\n",
       "bonus                               int64\n",
       "no_courses_taken                    int64\n",
       "time_in_position                    int64\n",
       "awards                             object\n",
       "signon                             object\n",
       "manager_sat                         int64\n",
       "employee_sat                        int64\n",
       "salary_2017                         int64\n",
       "salary_2018                         int64\n",
       "dtype: object"
      ]
     },
     "execution_count": 146,
     "metadata": {},
     "output_type": "execute_result"
    }
   ],
   "source": [
    "# checking data types\n",
    "df.dtypes"
   ]
  },
  {
   "cell_type": "markdown",
   "metadata": {},
   "source": [
    "### **3.5 Checking Missing Values**"
   ]
  },
  {
   "cell_type": "code",
   "execution_count": 147,
   "metadata": {},
   "outputs": [
    {
     "data": {
      "text/plain": [
       "e_code                     0\n",
       "status                     0\n",
       "hire_date                  0\n",
       "service_agreement          0\n",
       "job_level                  0\n",
       "performance_rating_2018    0\n",
       "performance_rating_2017    0\n",
       "year_of_birth              0\n",
       "gender                     0\n",
       "distance_from_home         0\n",
       "manager_changes            0\n",
       "no_of_promotions           0\n",
       "risk_of_attrition          0\n",
       "potential_rating           0\n",
       "bonus                      0\n",
       "no_courses_taken           0\n",
       "time_in_position           0\n",
       "awards                     0\n",
       "signon                     0\n",
       "manager_sat                0\n",
       "employee_sat               0\n",
       "salary_2017                0\n",
       "salary_2018                0\n",
       "dtype: int64"
      ]
     },
     "execution_count": 147,
     "metadata": {},
     "output_type": "execute_result"
    }
   ],
   "source": [
    "# checking if there are missing values\n",
    "df.isna().sum()"
   ]
  },
  {
   "cell_type": "markdown",
   "metadata": {},
   "source": [
    "There is no missing values"
   ]
  },
  {
   "cell_type": "markdown",
   "metadata": {},
   "source": [
    "### **3.6 Converting Data Types**"
   ]
  },
  {
   "cell_type": "code",
   "execution_count": 148,
   "metadata": {},
   "outputs": [
    {
     "data": {
      "text/plain": [
       "e_code                              int64\n",
       "status                           category\n",
       "hire_date                  datetime64[ns]\n",
       "service_agreement                  object\n",
       "job_level                        category\n",
       "performance_rating_2018             int64\n",
       "performance_rating_2017             int64\n",
       "year_of_birth                       int64\n",
       "gender                             object\n",
       "distance_from_home                float64\n",
       "manager_changes                     int64\n",
       "no_of_promotions                 category\n",
       "risk_of_attrition                category\n",
       "potential_rating                 category\n",
       "bonus                               int64\n",
       "no_courses_taken                    int64\n",
       "time_in_position                    int64\n",
       "awards                             object\n",
       "signon                             object\n",
       "manager_sat                         int64\n",
       "employee_sat                        int64\n",
       "salary_2017                         int64\n",
       "salary_2018                         int64\n",
       "dtype: object"
      ]
     },
     "execution_count": 148,
     "metadata": {},
     "output_type": "execute_result"
    }
   ],
   "source": [
    "# converting number variables into categories\n",
    "cols = ['status','job_level','no_of_promotions','risk_of_attrition','potential_rating']\n",
    "\n",
    "for col in cols:\n",
    "    df[col] = df[col].astype('category')\n",
    "    \n",
    "# checking data types 2\n",
    "df.dtypes"
   ]
  },
  {
   "cell_type": "markdown",
   "metadata": {},
   "source": [
    "### **3.7 Descriptive Statistics**"
   ]
  },
  {
   "cell_type": "code",
   "execution_count": 149,
   "metadata": {},
   "outputs": [
    {
     "data": {
      "text/html": [
       "<div>\n",
       "<style scoped>\n",
       "    .dataframe tbody tr th:only-of-type {\n",
       "        vertical-align: middle;\n",
       "    }\n",
       "\n",
       "    .dataframe tbody tr th {\n",
       "        vertical-align: top;\n",
       "    }\n",
       "\n",
       "    .dataframe thead th {\n",
       "        text-align: right;\n",
       "    }\n",
       "</style>\n",
       "<table border=\"1\" class=\"dataframe\">\n",
       "  <thead>\n",
       "    <tr style=\"text-align: right;\">\n",
       "      <th></th>\n",
       "      <th>e_code</th>\n",
       "      <th>performance_rating_2018</th>\n",
       "      <th>performance_rating_2017</th>\n",
       "      <th>year_of_birth</th>\n",
       "      <th>distance_from_home</th>\n",
       "      <th>manager_changes</th>\n",
       "      <th>bonus</th>\n",
       "      <th>no_courses_taken</th>\n",
       "      <th>time_in_position</th>\n",
       "      <th>manager_sat</th>\n",
       "      <th>employee_sat</th>\n",
       "      <th>salary_2017</th>\n",
       "      <th>salary_2018</th>\n",
       "    </tr>\n",
       "  </thead>\n",
       "  <tbody>\n",
       "    <tr>\n",
       "      <th>count</th>\n",
       "      <td>686.000000</td>\n",
       "      <td>686.000000</td>\n",
       "      <td>686.000000</td>\n",
       "      <td>686.000000</td>\n",
       "      <td>686.000000</td>\n",
       "      <td>686.000000</td>\n",
       "      <td>686.000000</td>\n",
       "      <td>686.000000</td>\n",
       "      <td>686.000000</td>\n",
       "      <td>686.000000</td>\n",
       "      <td>686.000000</td>\n",
       "      <td>686.000000</td>\n",
       "      <td>686.000000</td>\n",
       "    </tr>\n",
       "    <tr>\n",
       "      <th>mean</th>\n",
       "      <td>46015.237609</td>\n",
       "      <td>2.895044</td>\n",
       "      <td>2.967930</td>\n",
       "      <td>1972.532070</td>\n",
       "      <td>3.204534</td>\n",
       "      <td>2.332362</td>\n",
       "      <td>1097.536443</td>\n",
       "      <td>3.247813</td>\n",
       "      <td>27.345481</td>\n",
       "      <td>82.177843</td>\n",
       "      <td>81.214286</td>\n",
       "      <td>114289.116618</td>\n",
       "      <td>119135.456268</td>\n",
       "    </tr>\n",
       "    <tr>\n",
       "      <th>std</th>\n",
       "      <td>214.878836</td>\n",
       "      <td>1.124669</td>\n",
       "      <td>0.674125</td>\n",
       "      <td>7.734348</td>\n",
       "      <td>8.441646</td>\n",
       "      <td>2.431611</td>\n",
       "      <td>2128.097198</td>\n",
       "      <td>3.063291</td>\n",
       "      <td>31.375641</td>\n",
       "      <td>4.838758</td>\n",
       "      <td>5.005909</td>\n",
       "      <td>60820.924620</td>\n",
       "      <td>60925.702367</td>\n",
       "    </tr>\n",
       "    <tr>\n",
       "      <th>min</th>\n",
       "      <td>45631.000000</td>\n",
       "      <td>1.000000</td>\n",
       "      <td>1.000000</td>\n",
       "      <td>1959.000000</td>\n",
       "      <td>0.000000</td>\n",
       "      <td>0.000000</td>\n",
       "      <td>0.000000</td>\n",
       "      <td>0.000000</td>\n",
       "      <td>0.000000</td>\n",
       "      <td>76.000000</td>\n",
       "      <td>70.000000</td>\n",
       "      <td>39600.000000</td>\n",
       "      <td>43903.000000</td>\n",
       "    </tr>\n",
       "    <tr>\n",
       "      <th>25%</th>\n",
       "      <td>45833.250000</td>\n",
       "      <td>2.000000</td>\n",
       "      <td>3.000000</td>\n",
       "      <td>1966.000000</td>\n",
       "      <td>0.242500</td>\n",
       "      <td>0.000000</td>\n",
       "      <td>0.000000</td>\n",
       "      <td>1.000000</td>\n",
       "      <td>7.000000</td>\n",
       "      <td>79.000000</td>\n",
       "      <td>80.000000</td>\n",
       "      <td>77033.750000</td>\n",
       "      <td>81840.000000</td>\n",
       "    </tr>\n",
       "    <tr>\n",
       "      <th>50%</th>\n",
       "      <td>46017.500000</td>\n",
       "      <td>3.000000</td>\n",
       "      <td>3.000000</td>\n",
       "      <td>1973.000000</td>\n",
       "      <td>0.450000</td>\n",
       "      <td>2.000000</td>\n",
       "      <td>0.000000</td>\n",
       "      <td>2.000000</td>\n",
       "      <td>18.000000</td>\n",
       "      <td>79.000000</td>\n",
       "      <td>80.000000</td>\n",
       "      <td>98000.000000</td>\n",
       "      <td>102716.000000</td>\n",
       "    </tr>\n",
       "    <tr>\n",
       "      <th>75%</th>\n",
       "      <td>46199.750000</td>\n",
       "      <td>4.000000</td>\n",
       "      <td>3.000000</td>\n",
       "      <td>1979.000000</td>\n",
       "      <td>0.980000</td>\n",
       "      <td>4.000000</td>\n",
       "      <td>2051.000000</td>\n",
       "      <td>4.000000</td>\n",
       "      <td>37.000000</td>\n",
       "      <td>85.000000</td>\n",
       "      <td>80.000000</td>\n",
       "      <td>125705.500000</td>\n",
       "      <td>132000.000000</td>\n",
       "    </tr>\n",
       "    <tr>\n",
       "      <th>max</th>\n",
       "      <td>46387.000000</td>\n",
       "      <td>5.000000</td>\n",
       "      <td>4.000000</td>\n",
       "      <td>1990.000000</td>\n",
       "      <td>50.000000</td>\n",
       "      <td>15.000000</td>\n",
       "      <td>19853.000000</td>\n",
       "      <td>20.000000</td>\n",
       "      <td>278.000000</td>\n",
       "      <td>100.000000</td>\n",
       "      <td>100.000000</td>\n",
       "      <td>511500.000000</td>\n",
       "      <td>511500.000000</td>\n",
       "    </tr>\n",
       "  </tbody>\n",
       "</table>\n",
       "</div>"
      ],
      "text/plain": [
       "             e_code  performance_rating_2018  performance_rating_2017  \\\n",
       "count    686.000000               686.000000               686.000000   \n",
       "mean   46015.237609                 2.895044                 2.967930   \n",
       "std      214.878836                 1.124669                 0.674125   \n",
       "min    45631.000000                 1.000000                 1.000000   \n",
       "25%    45833.250000                 2.000000                 3.000000   \n",
       "50%    46017.500000                 3.000000                 3.000000   \n",
       "75%    46199.750000                 4.000000                 3.000000   \n",
       "max    46387.000000                 5.000000                 4.000000   \n",
       "\n",
       "       year_of_birth  distance_from_home  manager_changes         bonus  \\\n",
       "count     686.000000          686.000000       686.000000    686.000000   \n",
       "mean     1972.532070            3.204534         2.332362   1097.536443   \n",
       "std         7.734348            8.441646         2.431611   2128.097198   \n",
       "min      1959.000000            0.000000         0.000000      0.000000   \n",
       "25%      1966.000000            0.242500         0.000000      0.000000   \n",
       "50%      1973.000000            0.450000         2.000000      0.000000   \n",
       "75%      1979.000000            0.980000         4.000000   2051.000000   \n",
       "max      1990.000000           50.000000        15.000000  19853.000000   \n",
       "\n",
       "       no_courses_taken  time_in_position  manager_sat  employee_sat  \\\n",
       "count        686.000000        686.000000   686.000000    686.000000   \n",
       "mean           3.247813         27.345481    82.177843     81.214286   \n",
       "std            3.063291         31.375641     4.838758      5.005909   \n",
       "min            0.000000          0.000000    76.000000     70.000000   \n",
       "25%            1.000000          7.000000    79.000000     80.000000   \n",
       "50%            2.000000         18.000000    79.000000     80.000000   \n",
       "75%            4.000000         37.000000    85.000000     80.000000   \n",
       "max           20.000000        278.000000   100.000000    100.000000   \n",
       "\n",
       "         salary_2017    salary_2018  \n",
       "count     686.000000     686.000000  \n",
       "mean   114289.116618  119135.456268  \n",
       "std     60820.924620   60925.702367  \n",
       "min     39600.000000   43903.000000  \n",
       "25%     77033.750000   81840.000000  \n",
       "50%     98000.000000  102716.000000  \n",
       "75%    125705.500000  132000.000000  \n",
       "max    511500.000000  511500.000000  "
      ]
     },
     "execution_count": 149,
     "metadata": {},
     "output_type": "execute_result"
    }
   ],
   "source": [
    "# displaying summary of data\n",
    "df.describe()"
   ]
  },
  {
   "cell_type": "code",
   "execution_count": 150,
   "metadata": {},
   "outputs": [
    {
     "data": {
      "text/html": [
       "<div>\n",
       "<style scoped>\n",
       "    .dataframe tbody tr th:only-of-type {\n",
       "        vertical-align: middle;\n",
       "    }\n",
       "\n",
       "    .dataframe tbody tr th {\n",
       "        vertical-align: top;\n",
       "    }\n",
       "\n",
       "    .dataframe thead th {\n",
       "        text-align: right;\n",
       "    }\n",
       "</style>\n",
       "<table border=\"1\" class=\"dataframe\">\n",
       "  <thead>\n",
       "    <tr style=\"text-align: right;\">\n",
       "      <th></th>\n",
       "      <th>status</th>\n",
       "      <th>job_level</th>\n",
       "      <th>no_of_promotions</th>\n",
       "      <th>risk_of_attrition</th>\n",
       "      <th>potential_rating</th>\n",
       "    </tr>\n",
       "  </thead>\n",
       "  <tbody>\n",
       "    <tr>\n",
       "      <th>count</th>\n",
       "      <td>686</td>\n",
       "      <td>686</td>\n",
       "      <td>686</td>\n",
       "      <td>686</td>\n",
       "      <td>686</td>\n",
       "    </tr>\n",
       "    <tr>\n",
       "      <th>unique</th>\n",
       "      <td>2</td>\n",
       "      <td>5</td>\n",
       "      <td>9</td>\n",
       "      <td>4</td>\n",
       "      <td>5</td>\n",
       "    </tr>\n",
       "    <tr>\n",
       "      <th>top</th>\n",
       "      <td>0</td>\n",
       "      <td>1</td>\n",
       "      <td>0</td>\n",
       "      <td>2</td>\n",
       "      <td>3</td>\n",
       "    </tr>\n",
       "    <tr>\n",
       "      <th>freq</th>\n",
       "      <td>516</td>\n",
       "      <td>353</td>\n",
       "      <td>473</td>\n",
       "      <td>301</td>\n",
       "      <td>225</td>\n",
       "    </tr>\n",
       "  </tbody>\n",
       "</table>\n",
       "</div>"
      ],
      "text/plain": [
       "        status  job_level  no_of_promotions  risk_of_attrition  \\\n",
       "count      686        686               686                686   \n",
       "unique       2          5                 9                  4   \n",
       "top          0          1                 0                  2   \n",
       "freq       516        353               473                301   \n",
       "\n",
       "        potential_rating  \n",
       "count                686  \n",
       "unique                 5  \n",
       "top                    3  \n",
       "freq                 225  "
      ]
     },
     "execution_count": 150,
     "metadata": {},
     "output_type": "execute_result"
    }
   ],
   "source": [
    "# display summary of non-numerical data\n",
    "df.describe(include='category')"
   ]
  },
  {
   "cell_type": "markdown",
   "metadata": {},
   "source": [
    "### **3.8 Variable Creation**\n",
    "Preparing the Data for EDA"
   ]
  },
  {
   "cell_type": "code",
   "execution_count": 151,
   "metadata": {},
   "outputs": [
    {
     "name": "stdout",
     "output_type": "stream",
     "text": [
      "0      1\n",
      "1     -1\n",
      "2      0\n",
      "3      0\n",
      "4      0\n",
      "      ..\n",
      "681    0\n",
      "682   -1\n",
      "683    0\n",
      "684    0\n",
      "685    0\n",
      "Name: var_rating, Length: 686, dtype: category\n",
      "Categories (5, int64): [-3, -1, 0, 1, 2]\n"
     ]
    }
   ],
   "source": [
    "# creating new variable for Performance Rating\n",
    "# var_rating is the difference in performance rating of 2018 and 2017\n",
    "df['var_rating']=df['performance_rating_2018']-df['performance_rating_2017']\n",
    "\n",
    "# convert numerical variable into categorical variable\n",
    "cols = ['var_rating']\n",
    "\n",
    "for col in cols:\n",
    "    df[col] = df[col].astype('category')\n",
    "    \n",
    "print(df.var_rating)"
   ]
  },
  {
   "cell_type": "code",
   "execution_count": 152,
   "metadata": {},
   "outputs": [
    {
     "name": "stdout",
     "output_type": "stream",
     "text": [
      "0       3.505101\n",
      "1       1.502064\n",
      "2      12.670835\n",
      "3       3.761866\n",
      "4       0.000000\n",
      "         ...    \n",
      "681     1.201349\n",
      "682     1.201349\n",
      "683     1.201349\n",
      "684     1.201349\n",
      "685     2.567568\n",
      "Name: percentage_salary_change, Length: 686, dtype: float64\n"
     ]
    }
   ],
   "source": [
    "# creating new variable for salary change rate\n",
    "# percentage_salary_change is the percent salary hike of employees from 2017 to 2018\n",
    "df['percentage_salary_change']=(df['salary_2018']-df['salary_2017'])/df['salary_2017']*100\n",
    "\n",
    "print(df.percentage_salary_change)"
   ]
  },
  {
   "cell_type": "code",
   "execution_count": 153,
   "metadata": {},
   "outputs": [
    {
     "name": "stdout",
     "output_type": "stream",
     "text": [
      "0      51\n",
      "1      47\n",
      "2      46\n",
      "3      50\n",
      "4      57\n",
      "       ..\n",
      "681    52\n",
      "682    37\n",
      "683    51\n",
      "684    38\n",
      "685    55\n",
      "Name: age, Length: 686, dtype: int64\n"
     ]
    }
   ],
   "source": [
    "# calculating age of employee by subtracting year of birth from 2018\n",
    "df['age']=2018-df['year_of_birth']\n",
    "\n",
    "# displaying age\n",
    "print(df.age)"
   ]
  },
  {
   "cell_type": "code",
   "execution_count": 154,
   "metadata": {},
   "outputs": [
    {
     "data": {
      "text/html": [
       "<div>\n",
       "<style scoped>\n",
       "    .dataframe tbody tr th:only-of-type {\n",
       "        vertical-align: middle;\n",
       "    }\n",
       "\n",
       "    .dataframe tbody tr th {\n",
       "        vertical-align: top;\n",
       "    }\n",
       "\n",
       "    .dataframe thead th {\n",
       "        text-align: right;\n",
       "    }\n",
       "</style>\n",
       "<table border=\"1\" class=\"dataframe\">\n",
       "  <thead>\n",
       "    <tr style=\"text-align: right;\">\n",
       "      <th></th>\n",
       "      <th>e_code</th>\n",
       "      <th>performance_rating_2018</th>\n",
       "      <th>performance_rating_2017</th>\n",
       "      <th>year_of_birth</th>\n",
       "      <th>distance_from_home</th>\n",
       "      <th>manager_changes</th>\n",
       "      <th>bonus</th>\n",
       "      <th>no_courses_taken</th>\n",
       "      <th>time_in_position</th>\n",
       "      <th>manager_sat</th>\n",
       "      <th>employee_sat</th>\n",
       "      <th>salary_2017</th>\n",
       "      <th>salary_2018</th>\n",
       "      <th>percentage_salary_change</th>\n",
       "      <th>age</th>\n",
       "    </tr>\n",
       "  </thead>\n",
       "  <tbody>\n",
       "    <tr>\n",
       "      <th>count</th>\n",
       "      <td>686.000000</td>\n",
       "      <td>686.000000</td>\n",
       "      <td>686.000000</td>\n",
       "      <td>686.000000</td>\n",
       "      <td>686.000000</td>\n",
       "      <td>686.000000</td>\n",
       "      <td>686.000000</td>\n",
       "      <td>686.000000</td>\n",
       "      <td>686.000000</td>\n",
       "      <td>686.000000</td>\n",
       "      <td>686.000000</td>\n",
       "      <td>686.000000</td>\n",
       "      <td>686.000000</td>\n",
       "      <td>686.000000</td>\n",
       "      <td>686.000000</td>\n",
       "    </tr>\n",
       "    <tr>\n",
       "      <th>mean</th>\n",
       "      <td>46015.237609</td>\n",
       "      <td>2.895044</td>\n",
       "      <td>2.967930</td>\n",
       "      <td>1972.532070</td>\n",
       "      <td>3.204534</td>\n",
       "      <td>2.332362</td>\n",
       "      <td>1097.536443</td>\n",
       "      <td>3.247813</td>\n",
       "      <td>27.345481</td>\n",
       "      <td>82.177843</td>\n",
       "      <td>81.214286</td>\n",
       "      <td>114289.116618</td>\n",
       "      <td>119135.456268</td>\n",
       "      <td>5.144859</td>\n",
       "      <td>45.467930</td>\n",
       "    </tr>\n",
       "    <tr>\n",
       "      <th>std</th>\n",
       "      <td>214.878836</td>\n",
       "      <td>1.124669</td>\n",
       "      <td>0.674125</td>\n",
       "      <td>7.734348</td>\n",
       "      <td>8.441646</td>\n",
       "      <td>2.431611</td>\n",
       "      <td>2128.097198</td>\n",
       "      <td>3.063291</td>\n",
       "      <td>31.375641</td>\n",
       "      <td>4.838758</td>\n",
       "      <td>5.005909</td>\n",
       "      <td>60820.924620</td>\n",
       "      <td>60925.702367</td>\n",
       "      <td>6.818903</td>\n",
       "      <td>7.734348</td>\n",
       "    </tr>\n",
       "    <tr>\n",
       "      <th>min</th>\n",
       "      <td>45631.000000</td>\n",
       "      <td>1.000000</td>\n",
       "      <td>1.000000</td>\n",
       "      <td>1959.000000</td>\n",
       "      <td>0.000000</td>\n",
       "      <td>0.000000</td>\n",
       "      <td>0.000000</td>\n",
       "      <td>0.000000</td>\n",
       "      <td>0.000000</td>\n",
       "      <td>76.000000</td>\n",
       "      <td>70.000000</td>\n",
       "      <td>39600.000000</td>\n",
       "      <td>43903.000000</td>\n",
       "      <td>0.000000</td>\n",
       "      <td>28.000000</td>\n",
       "    </tr>\n",
       "    <tr>\n",
       "      <th>25%</th>\n",
       "      <td>45833.250000</td>\n",
       "      <td>2.000000</td>\n",
       "      <td>3.000000</td>\n",
       "      <td>1966.000000</td>\n",
       "      <td>0.242500</td>\n",
       "      <td>0.000000</td>\n",
       "      <td>0.000000</td>\n",
       "      <td>1.000000</td>\n",
       "      <td>7.000000</td>\n",
       "      <td>79.000000</td>\n",
       "      <td>80.000000</td>\n",
       "      <td>77033.750000</td>\n",
       "      <td>81840.000000</td>\n",
       "      <td>1.020408</td>\n",
       "      <td>39.000000</td>\n",
       "    </tr>\n",
       "    <tr>\n",
       "      <th>50%</th>\n",
       "      <td>46017.500000</td>\n",
       "      <td>3.000000</td>\n",
       "      <td>3.000000</td>\n",
       "      <td>1973.000000</td>\n",
       "      <td>0.450000</td>\n",
       "      <td>2.000000</td>\n",
       "      <td>0.000000</td>\n",
       "      <td>2.000000</td>\n",
       "      <td>18.000000</td>\n",
       "      <td>79.000000</td>\n",
       "      <td>80.000000</td>\n",
       "      <td>98000.000000</td>\n",
       "      <td>102716.000000</td>\n",
       "      <td>3.002883</td>\n",
       "      <td>45.000000</td>\n",
       "    </tr>\n",
       "    <tr>\n",
       "      <th>75%</th>\n",
       "      <td>46199.750000</td>\n",
       "      <td>4.000000</td>\n",
       "      <td>3.000000</td>\n",
       "      <td>1979.000000</td>\n",
       "      <td>0.980000</td>\n",
       "      <td>4.000000</td>\n",
       "      <td>2051.000000</td>\n",
       "      <td>4.000000</td>\n",
       "      <td>37.000000</td>\n",
       "      <td>85.000000</td>\n",
       "      <td>80.000000</td>\n",
       "      <td>125705.500000</td>\n",
       "      <td>132000.000000</td>\n",
       "      <td>5.900076</td>\n",
       "      <td>52.000000</td>\n",
       "    </tr>\n",
       "    <tr>\n",
       "      <th>max</th>\n",
       "      <td>46387.000000</td>\n",
       "      <td>5.000000</td>\n",
       "      <td>4.000000</td>\n",
       "      <td>1990.000000</td>\n",
       "      <td>50.000000</td>\n",
       "      <td>15.000000</td>\n",
       "      <td>19853.000000</td>\n",
       "      <td>20.000000</td>\n",
       "      <td>278.000000</td>\n",
       "      <td>100.000000</td>\n",
       "      <td>100.000000</td>\n",
       "      <td>511500.000000</td>\n",
       "      <td>511500.000000</td>\n",
       "      <td>57.608696</td>\n",
       "      <td>59.000000</td>\n",
       "    </tr>\n",
       "  </tbody>\n",
       "</table>\n",
       "</div>"
      ],
      "text/plain": [
       "             e_code  performance_rating_2018  performance_rating_2017  \\\n",
       "count    686.000000               686.000000               686.000000   \n",
       "mean   46015.237609                 2.895044                 2.967930   \n",
       "std      214.878836                 1.124669                 0.674125   \n",
       "min    45631.000000                 1.000000                 1.000000   \n",
       "25%    45833.250000                 2.000000                 3.000000   \n",
       "50%    46017.500000                 3.000000                 3.000000   \n",
       "75%    46199.750000                 4.000000                 3.000000   \n",
       "max    46387.000000                 5.000000                 4.000000   \n",
       "\n",
       "       year_of_birth  distance_from_home  manager_changes         bonus  \\\n",
       "count     686.000000          686.000000       686.000000    686.000000   \n",
       "mean     1972.532070            3.204534         2.332362   1097.536443   \n",
       "std         7.734348            8.441646         2.431611   2128.097198   \n",
       "min      1959.000000            0.000000         0.000000      0.000000   \n",
       "25%      1966.000000            0.242500         0.000000      0.000000   \n",
       "50%      1973.000000            0.450000         2.000000      0.000000   \n",
       "75%      1979.000000            0.980000         4.000000   2051.000000   \n",
       "max      1990.000000           50.000000        15.000000  19853.000000   \n",
       "\n",
       "       no_courses_taken  time_in_position  manager_sat  employee_sat  \\\n",
       "count        686.000000        686.000000   686.000000    686.000000   \n",
       "mean           3.247813         27.345481    82.177843     81.214286   \n",
       "std            3.063291         31.375641     4.838758      5.005909   \n",
       "min            0.000000          0.000000    76.000000     70.000000   \n",
       "25%            1.000000          7.000000    79.000000     80.000000   \n",
       "50%            2.000000         18.000000    79.000000     80.000000   \n",
       "75%            4.000000         37.000000    85.000000     80.000000   \n",
       "max           20.000000        278.000000   100.000000    100.000000   \n",
       "\n",
       "         salary_2017    salary_2018  percentage_salary_change         age  \n",
       "count     686.000000     686.000000                686.000000  686.000000  \n",
       "mean   114289.116618  119135.456268                  5.144859   45.467930  \n",
       "std     60820.924620   60925.702367                  6.818903    7.734348  \n",
       "min     39600.000000   43903.000000                  0.000000   28.000000  \n",
       "25%     77033.750000   81840.000000                  1.020408   39.000000  \n",
       "50%     98000.000000  102716.000000                  3.002883   45.000000  \n",
       "75%    125705.500000  132000.000000                  5.900076   52.000000  \n",
       "max    511500.000000  511500.000000                 57.608696   59.000000  "
      ]
     },
     "execution_count": 154,
     "metadata": {},
     "output_type": "execute_result"
    }
   ],
   "source": [
    "df.describe()"
   ]
  },
  {
   "cell_type": "code",
   "execution_count": 155,
   "metadata": {},
   "outputs": [
    {
     "data": {
      "text/html": [
       "<div>\n",
       "<style scoped>\n",
       "    .dataframe tbody tr th:only-of-type {\n",
       "        vertical-align: middle;\n",
       "    }\n",
       "\n",
       "    .dataframe tbody tr th {\n",
       "        vertical-align: top;\n",
       "    }\n",
       "\n",
       "    .dataframe thead th {\n",
       "        text-align: right;\n",
       "    }\n",
       "</style>\n",
       "<table border=\"1\" class=\"dataframe\">\n",
       "  <thead>\n",
       "    <tr style=\"text-align: right;\">\n",
       "      <th></th>\n",
       "      <th>status</th>\n",
       "      <th>job_level</th>\n",
       "      <th>no_of_promotions</th>\n",
       "      <th>risk_of_attrition</th>\n",
       "      <th>potential_rating</th>\n",
       "      <th>var_rating</th>\n",
       "    </tr>\n",
       "  </thead>\n",
       "  <tbody>\n",
       "    <tr>\n",
       "      <th>count</th>\n",
       "      <td>686</td>\n",
       "      <td>686</td>\n",
       "      <td>686</td>\n",
       "      <td>686</td>\n",
       "      <td>686</td>\n",
       "      <td>686</td>\n",
       "    </tr>\n",
       "    <tr>\n",
       "      <th>unique</th>\n",
       "      <td>2</td>\n",
       "      <td>5</td>\n",
       "      <td>9</td>\n",
       "      <td>4</td>\n",
       "      <td>5</td>\n",
       "      <td>5</td>\n",
       "    </tr>\n",
       "    <tr>\n",
       "      <th>top</th>\n",
       "      <td>0</td>\n",
       "      <td>1</td>\n",
       "      <td>0</td>\n",
       "      <td>2</td>\n",
       "      <td>3</td>\n",
       "      <td>0</td>\n",
       "    </tr>\n",
       "    <tr>\n",
       "      <th>freq</th>\n",
       "      <td>516</td>\n",
       "      <td>353</td>\n",
       "      <td>473</td>\n",
       "      <td>301</td>\n",
       "      <td>225</td>\n",
       "      <td>413</td>\n",
       "    </tr>\n",
       "  </tbody>\n",
       "</table>\n",
       "</div>"
      ],
      "text/plain": [
       "        status  job_level  no_of_promotions  risk_of_attrition  \\\n",
       "count      686        686               686                686   \n",
       "unique       2          5                 9                  4   \n",
       "top          0          1                 0                  2   \n",
       "freq       516        353               473                301   \n",
       "\n",
       "        potential_rating  var_rating  \n",
       "count                686         686  \n",
       "unique                 5           5  \n",
       "top                    3           0  \n",
       "freq                 225         413  "
      ]
     },
     "execution_count": 155,
     "metadata": {},
     "output_type": "execute_result"
    }
   ],
   "source": [
    "df.describe(include='category')"
   ]
  },
  {
   "cell_type": "code",
   "execution_count": 156,
   "metadata": {},
   "outputs": [
    {
     "data": {
      "text/plain": [
       "status                      category\n",
       "service_agreement             object\n",
       "job_level                   category\n",
       "gender                        object\n",
       "distance_from_home           float64\n",
       "manager_changes                int64\n",
       "no_of_promotions            category\n",
       "risk_of_attrition           category\n",
       "potential_rating            category\n",
       "bonus                          int64\n",
       "no_courses_taken               int64\n",
       "time_in_position               int64\n",
       "awards                        object\n",
       "signon                        object\n",
       "manager_sat                    int64\n",
       "employee_sat                   int64\n",
       "var_rating                  category\n",
       "percentage_salary_change     float64\n",
       "age                            int64\n",
       "dtype: object"
      ]
     },
     "execution_count": 156,
     "metadata": {},
     "output_type": "execute_result"
    }
   ],
   "source": [
    "# dropping variables were used to create new variables\n",
    "df=df.drop(['year_of_birth', 'salary_2017', 'salary_2018', 'performance_rating_2017', 'performance_rating_2018', 'hire_date', 'e_code'], axis=1) \n",
    "\n",
    "# checking columns and data types\n",
    "df.dtypes"
   ]
  },
  {
   "cell_type": "markdown",
   "metadata": {},
   "source": [
    "# **4. Exploratory Data Analysis**"
   ]
  },
  {
   "cell_type": "markdown",
   "metadata": {},
   "source": [
    "### **4.1 Univariate Analysis - Target Variable**"
   ]
  },
  {
   "cell_type": "code",
   "execution_count": 157,
   "metadata": {},
   "outputs": [
    {
     "data": {
      "text/plain": [
       "0    75.218659\n",
       "1    24.781341\n",
       "Name: status, dtype: float64"
      ]
     },
     "execution_count": 157,
     "metadata": {},
     "output_type": "execute_result"
    },
    {
     "data": {
      "image/png": "[encoded data removed]",
      "text/plain": [
       "<Figure size 432x288 with 1 Axes>"
      ]
     },
     "metadata": {},
     "output_type": "display_data"
    }
   ],
   "source": [
    "# Indicate the total number of attrition in 2017 and 2018\n",
    "df['status'].value_counts().plot(kind='bar') # 0 = Active, 1 = Turnover\n",
    "plt.title(\"Number of Attrition \\n(0=Active, 1=Terminated)\", fontsize=14)\n",
    "df['status'].value_counts(normalize=True)*100"
   ]
  },
  {
   "cell_type": "markdown",
   "metadata": {},
   "source": [
    "`75.22 %` of employees are stayed from 2017 to 2018 <br>\n",
    "`24.78 %` of employees are left from 2017 to 2018"
   ]
  },
  {
   "cell_type": "markdown",
   "metadata": {},
   "source": [
    "### **4.2 Univariate Analysis - Numerical Variables (Histograms)**"
   ]
  },
  {
   "cell_type": "code",
   "execution_count": 158,
   "metadata": {},
   "outputs": [],
   "source": [
    "# Pre-processing\n",
    "# gets only numerical attributes\n",
    "num_attributes = df.select_dtypes(include=['int64', 'float64'])\n",
    "\n",
    "# gets only categorical attributes\n",
    "cat_attributes = df.select_dtypes(exclude=['int64', 'float64'])"
   ]
  },
  {
   "cell_type": "code",
   "execution_count": 159,
   "metadata": {},
   "outputs": [
    {
     "data": {
      "text/plain": [
       "Index(['distance_from_home', 'manager_changes', 'bonus', 'no_courses_taken',\n",
       "       'time_in_position', 'manager_sat', 'employee_sat',\n",
       "       'percentage_salary_change', 'age'],\n",
       "      dtype='object')"
      ]
     },
     "execution_count": 159,
     "metadata": {},
     "output_type": "execute_result"
    }
   ],
   "source": [
    "num_attributes.columns"
   ]
  },
  {
   "cell_type": "code",
   "execution_count": 160,
   "metadata": {},
   "outputs": [
    {
     "data": {
      "image/png": "[encoded data removed]",
      "text/plain": [
       "<Figure size 1440x1440 with 9 Axes>"
      ]
     },
     "metadata": {},
     "output_type": "display_data"
    }
   ],
   "source": [
    "# plots a histogram for all numerical attributes\n",
    "_ = num_attributes.hist(bins=10, figsize=(20,20))"
   ]
  },
  {
   "cell_type": "markdown",
   "metadata": {},
   "source": [
    "### **4.3 Univariate Analysis - Categorical Variables**"
   ]
  },
  {
   "cell_type": "code",
   "execution_count": 161,
   "metadata": {},
   "outputs": [
    {
     "data": {
      "text/plain": [
       "Index(['status', 'service_agreement', 'job_level', 'gender',\n",
       "       'no_of_promotions', 'risk_of_attrition', 'potential_rating', 'awards',\n",
       "       'signon', 'var_rating'],\n",
       "      dtype='object')"
      ]
     },
     "execution_count": 161,
     "metadata": {},
     "output_type": "execute_result"
    }
   ],
   "source": [
    "cat_attributes.columns"
   ]
  },
  {
   "cell_type": "code",
   "execution_count": 186,
   "metadata": {},
   "outputs": [
    {
     "data": {
      "image/png": "[encoded data removed]",
      "text/plain": [
       "<Figure size 2016x2016 with 10 Axes>"
      ]
     },
     "metadata": {},
     "output_type": "display_data"
    }
   ],
   "source": [
    "# sets plot size\n",
    "plt.figure(figsize=(28, 28))\n",
    "\n",
    "# sets the inital plot position\n",
    "n = 1\n",
    "\n",
    "sns.set(font_scale = 2)\n",
    "\n",
    "# iterates over the columns to plot\n",
    "for column in cat_attributes.columns:\n",
    "    plt.subplot(4, 4, n)\n",
    "    _ = sns.countplot(x=cat_attributes[column], hue=cat_attributes['status'])\n",
    "    plt.title(\"Count for \" + column, fontsize=26)\n",
    "    n += 1\n",
    "\n",
    "# adjust height and wdith reserved for space between subplots  \n",
    "plt.subplots_adjust(hspace=0.9)\n",
    "plt.subplots_adjust(wspace=0.4)\n",
    "\n",
    "# display the plot\n",
    "plt.show()"
   ]
  },
  {
   "cell_type": "markdown",
   "metadata": {},
   "source": [
    "### **4.4 Bi-variate Analysis (Categorical-Categorical)**"
   ]
  },
  {
   "cell_type": "markdown",
   "metadata": {},
   "source": [
    "#### 4.4.1 Active Status VS Gender"
   ]
  },
  {
   "cell_type": "code",
   "execution_count": null,
   "metadata": {},
   "outputs": [],
   "source": [
    "pd.crosstab(df.status,df.gender, normalize='index').plot(kind='barh', stacked=True, colormap='tab10', figsize=(10, 6))\n",
    "plt.xlabel(\"Gender\")\n",
    "plt.ylabel(\"Active Status\")\n",
    "plt.title(\"Attrition vs Gender \\n(0=Active, 1=Terminated)\", fontsize=14)"
   ]
  },
  {
   "cell_type": "code",
   "execution_count": null,
   "metadata": {},
   "outputs": [],
   "source": [
    "# Creating a crosstab\n",
    "print(\"Active Status by Gender\")\n",
    "pd.crosstab(df.status,df.gender)\n"
   ]
  },
  {
   "cell_type": "code",
   "execution_count": null,
   "metadata": {},
   "outputs": [],
   "source": [
    "print(\"Row wise percentage\")\n",
    "pd.crosstab(df.status,df.gender,normalize='index')"
   ]
  },
  {
   "cell_type": "markdown",
   "metadata": {},
   "source": [
    "Row proportion table suggests that `74.71%` of employees who left were male"
   ]
  },
  {
   "cell_type": "code",
   "execution_count": null,
   "metadata": {},
   "outputs": [],
   "source": [
    "print(\"Columm wise percentage\")\n",
    "pd.crosstab(df.status,df.gender,normalize='columns')"
   ]
  },
  {
   "cell_type": "markdown",
   "metadata": {},
   "source": [
    "As observed, employees do **NOT** leave based on their gender since it is almost equally distributed."
   ]
  },
  {
   "cell_type": "markdown",
   "metadata": {},
   "source": [
    "#### 4.4.2 Active Status VS Service Agreement"
   ]
  },
  {
   "cell_type": "code",
   "execution_count": null,
   "metadata": {},
   "outputs": [],
   "source": [
    "pd.crosstab(df.status, df.service_agreement)"
   ]
  },
  {
   "cell_type": "code",
   "execution_count": null,
   "metadata": {},
   "outputs": [],
   "source": [
    "# generating cross tab. Row = Status, Column = Service Agreement \n",
    "pd.crosstab(df.status, df.service_agreement,normalize='index')"
   ]
  },
  {
   "cell_type": "markdown",
   "metadata": {},
   "source": [
    "Row proportion table suggests out of all employees who left, `90.59%` did not had a service agreement. Only `9.41%` had the servive agreement."
   ]
  },
  {
   "cell_type": "code",
   "execution_count": null,
   "metadata": {},
   "outputs": [],
   "source": [
    "pd.crosstab(df.status, df.service_agreement, normalize='index').plot(kind='barh', stacked=True, colormap='tab10', figsize=(10, 6))\n",
    "plt.title(\"Attrition vs Service Agreement \\n(0=Active, 1=Terminated)\", fontsize=14)\n",
    "plt.xlabel(\"Service Agreement\")\n",
    "plt.ylabel(\"Active Status\")"
   ]
  },
  {
   "cell_type": "code",
   "execution_count": null,
   "metadata": {},
   "outputs": [],
   "source": [
    "pd.crosstab(df.status, df.service_agreement, normalize='columns')"
   ]
  },
  {
   "cell_type": "markdown",
   "metadata": {},
   "source": [
    "It seems employees who did not have a service agreement prefered to leave the company as the value in column proportion table is `26.74%` compared to only `14.54%` of employees who had the service agreement left"
   ]
  },
  {
   "cell_type": "markdown",
   "metadata": {},
   "source": [
    "#### 4.4.3 Active Status VS Job Level"
   ]
  },
  {
   "cell_type": "code",
   "execution_count": null,
   "metadata": {},
   "outputs": [],
   "source": [
    "sns.countplot(x='job_level', hue='status', data=df)\n",
    "plt.title(\"Attrition vs Job Level \\n(0=Active, 1=Terminated)\", fontsize=14)"
   ]
  },
  {
   "cell_type": "code",
   "execution_count": null,
   "metadata": {},
   "outputs": [],
   "source": [
    "pd.crosstab(df.status, df.job_level)"
   ]
  },
  {
   "cell_type": "code",
   "execution_count": null,
   "metadata": {},
   "outputs": [],
   "source": [
    "pd.crosstab(df.status, df.job_level, normalize='index')\n"
   ]
  },
  {
   "cell_type": "markdown",
   "metadata": {},
   "source": [
    "Although the number of active employees and terminated employees are dfferent. The distribtuion of job_level is similar between levels."
   ]
  },
  {
   "cell_type": "code",
   "execution_count": null,
   "metadata": {},
   "outputs": [],
   "source": [
    "pd.crosstab(df.status, df.job_level, normalize='columns')"
   ]
  },
  {
   "cell_type": "markdown",
   "metadata": {},
   "source": [
    "Column proportion table suggests employees with level map `5(18.18%)` and `2(22.55%)` do not prefer to leave the campany in comparison to employees with level map `3(27.06%)`, `4(33.33%)` and `1(24.93%)`."
   ]
  },
  {
   "cell_type": "code",
   "execution_count": null,
   "metadata": {},
   "outputs": [],
   "source": [
    "pd.crosstab(df.status, df.job_level, normalize='index').plot(kind='barh', stacked=True, colormap='tab10', figsize=(10, 6))\n",
    "plt.xlabel(\"job_level\")\n",
    "plt.ylabel(\"Active Status\")\n",
    "plt.title(\"Attrition vs Job Level - Distribution \\n(0=Active, 1=Terminated)\", fontsize=14)"
   ]
  },
  {
   "cell_type": "markdown",
   "metadata": {},
   "source": [
    "#### 4.4.4 Active Status VS Variance in Performance Rating(var_rating)"
   ]
  },
  {
   "cell_type": "code",
   "execution_count": null,
   "metadata": {},
   "outputs": [],
   "source": [
    "sns.catplot(y='var_rating', col='status', data=df, kind=\"count\").fig.suptitle('Attrition vs Job Level - Distribution \\n(0=Active, 1=Terminated)')\n"
   ]
  },
  {
   "cell_type": "code",
   "execution_count": null,
   "metadata": {},
   "outputs": [],
   "source": [
    "pd.crosstab(df.status, df.var_rating)"
   ]
  },
  {
   "cell_type": "code",
   "execution_count": null,
   "metadata": {},
   "outputs": [],
   "source": [
    "pd.crosstab(df.status, df.var_rating, normalize='index')"
   ]
  },
  {
   "cell_type": "markdown",
   "metadata": {},
   "source": [
    "The table suggests out of all the employees who left, 71.76% had var_Rating as 0. Which means their Performance Rating is not changed. And out of all the employees who left, no one had var_Rating as -3 or 2."
   ]
  },
  {
   "cell_type": "code",
   "execution_count": null,
   "metadata": {},
   "outputs": [],
   "source": [
    "pd.crosstab(df.status, df.var_rating, normalize='columns')"
   ]
  },
  {
   "cell_type": "markdown",
   "metadata": {},
   "source": [
    "Column proportion table suggests maximum employees leave who have variance in rating 0(29.54%). Column proportion table suggests minimum employees leave who have variance in rating -3 and 2(0%).\n"
   ]
  },
  {
   "cell_type": "markdown",
   "metadata": {},
   "source": [
    "#### 4.4.5 Active Status VS Number of Promotions"
   ]
  },
  {
   "cell_type": "code",
   "execution_count": null,
   "metadata": {},
   "outputs": [],
   "source": [
    "sns.countplot(x='no_of_promotions', hue='status', data=df)\n",
    "plt.title(\"Attrition vs Number of Promotions \\n(0=Active, 1=Terminated)\", fontsize=14)"
   ]
  },
  {
   "cell_type": "code",
   "execution_count": null,
   "metadata": {},
   "outputs": [],
   "source": [
    "pd.crosstab(df.status, df.no_of_promotions)"
   ]
  },
  {
   "cell_type": "code",
   "execution_count": null,
   "metadata": {},
   "outputs": [],
   "source": [
    "pd.crosstab(df.status, df.no_of_promotions, normalize='index')\n"
   ]
  },
  {
   "cell_type": "markdown",
   "metadata": {},
   "source": [
    "Row proportion table suggests out of all the employees, `79.41%` employees left who never had promotions."
   ]
  },
  {
   "cell_type": "code",
   "execution_count": null,
   "metadata": {},
   "outputs": [],
   "source": [
    "pd.crosstab(df.status, df.no_of_promotions, normalize='columns')\n"
   ]
  },
  {
   "cell_type": "markdown",
   "metadata": {},
   "source": [
    "Column proportion table suggests employees left the most who had 6 promotions(50%)."
   ]
  },
  {
   "cell_type": "markdown",
   "metadata": {},
   "source": [
    "#### 4.4.6 Active Status vs Risk of Attrition"
   ]
  },
  {
   "cell_type": "code",
   "execution_count": null,
   "metadata": {},
   "outputs": [],
   "source": [
    "sns.countplot(x='risk_of_attrition', hue='status', data=df)\n",
    "plt.title(\"Attrition vs Risk of Attrition \\n(0=Active, 1=Terminated)\", fontsize=14)"
   ]
  },
  {
   "cell_type": "code",
   "execution_count": null,
   "metadata": {},
   "outputs": [],
   "source": [
    "pd.crosstab(df.status, df.risk_of_attrition)"
   ]
  },
  {
   "cell_type": "code",
   "execution_count": null,
   "metadata": {},
   "outputs": [],
   "source": [
    "pd.crosstab(df.status, df.risk_of_attrition, normalize='index')\n"
   ]
  },
  {
   "cell_type": "markdown",
   "metadata": {},
   "source": [
    "Row proportion table suggests out of all the employees who left, `47.65%` had a risk of attrition at 3."
   ]
  },
  {
   "cell_type": "code",
   "execution_count": null,
   "metadata": {},
   "outputs": [],
   "source": [
    "pd.crosstab(df.status, df.risk_of_attrition, normalize='columns')\n"
   ]
  },
  {
   "cell_type": "markdown",
   "metadata": {},
   "source": [
    "Column proportion table suggests `55.88%` employees left who had a risk of attrition at 1."
   ]
  },
  {
   "cell_type": "markdown",
   "metadata": {},
   "source": [
    "#### 4.4.7 Active Status vs Potential Rating"
   ]
  },
  {
   "cell_type": "code",
   "execution_count": null,
   "metadata": {},
   "outputs": [],
   "source": [
    "pd.crosstab(df.status, df.potential_rating)"
   ]
  },
  {
   "cell_type": "code",
   "execution_count": null,
   "metadata": {},
   "outputs": [],
   "source": [
    "pd.crosstab(df.status, df.potential_rating, normalize='index')\n"
   ]
  },
  {
   "cell_type": "markdown",
   "metadata": {},
   "source": [
    "Row proportion table suggests out of all employees who left, `33.35%` had potential as `3` and `32.35%` as `4`."
   ]
  },
  {
   "cell_type": "code",
   "execution_count": null,
   "metadata": {},
   "outputs": [],
   "source": [
    "pd.crosstab(df.status, df.potential_rating, normalize='columns') "
   ]
  },
  {
   "cell_type": "markdown",
   "metadata": {},
   "source": [
    "Column proportion table suggests maximum employees leave who have potenial 1(`55.88%`). <br>\n",
    "Column proportion table suggests minimum employees leave who have potenial 5(`16.06%`)."
   ]
  },
  {
   "cell_type": "markdown",
   "metadata": {},
   "source": [
    "#### 4.4.8 Active Status vs Awards"
   ]
  },
  {
   "cell_type": "code",
   "execution_count": null,
   "metadata": {},
   "outputs": [],
   "source": [
    "sns.countplot(x='status', hue='awards', data=df)\n",
    "plt.title(\"Attrition vs Awards \\n(0=Active, 1=Terminated)\", fontsize=14)"
   ]
  },
  {
   "cell_type": "code",
   "execution_count": null,
   "metadata": {},
   "outputs": [],
   "source": [
    "pd.crosstab(df.status, df.awards)"
   ]
  },
  {
   "cell_type": "code",
   "execution_count": null,
   "metadata": {},
   "outputs": [],
   "source": [
    "pd.crosstab(df.status, df.awards, normalize='index')"
   ]
  },
  {
   "cell_type": "markdown",
   "metadata": {},
   "source": [
    "Row proportion table suggests out of all employees who left, `84.71%` had not recieved any awards. Also indicating `94%` of active employees also were not awarded"
   ]
  },
  {
   "cell_type": "code",
   "execution_count": null,
   "metadata": {},
   "outputs": [],
   "source": [
    "pd.crosstab(df.status, df.awards, normalize='columns')"
   ]
  },
  {
   "cell_type": "markdown",
   "metadata": {},
   "source": [
    "Column proportion table suggests employees who received awards preferred to leave the company(`43.33%`) in comparison to people who did not receive awards(`22.67%`)."
   ]
  },
  {
   "cell_type": "markdown",
   "metadata": {},
   "source": [
    "#### 4.4.9 Active Status vs Sign On Bonus"
   ]
  },
  {
   "cell_type": "code",
   "execution_count": null,
   "metadata": {},
   "outputs": [],
   "source": [
    "sns.countplot(x='status', hue='signon', data=df)\n",
    "plt.title(\"Attrition vs Sign On Bonus \\n(0=Active, 1=Terminated)\", fontsize=14)"
   ]
  },
  {
   "cell_type": "code",
   "execution_count": null,
   "metadata": {},
   "outputs": [],
   "source": [
    "pd.crosstab(df.status, df.signon)"
   ]
  },
  {
   "cell_type": "code",
   "execution_count": null,
   "metadata": {},
   "outputs": [],
   "source": [
    "pd.crosstab(df.status, df.signon, normalize='index')\n"
   ]
  },
  {
   "cell_type": "markdown",
   "metadata": {},
   "source": [
    "Row proportion table suggests out of all employees who left, `99.41%` did not receive a sign on bonus"
   ]
  },
  {
   "cell_type": "code",
   "execution_count": null,
   "metadata": {},
   "outputs": [],
   "source": [
    "pd.crosstab(df.status, df.signon, normalize='columns')"
   ]
  },
  {
   "cell_type": "markdown",
   "metadata": {},
   "source": [
    "Column proportion table suggests employees who received a sign on bonus preferred to stay at the company(`90.91%`) in comparison to people who did not receive a sign on bonus(`75.34%`)."
   ]
  },
  {
   "cell_type": "markdown",
   "metadata": {},
   "source": [
    "### **4.5 Hypothesis Testing (Categorical and Categorical)**"
   ]
  },
  {
   "cell_type": "markdown",
   "metadata": {},
   "source": [
    "#### 4.5.1 Active Status vs Gender"
   ]
  },
  {
   "cell_type": "code",
   "execution_count": null,
   "metadata": {},
   "outputs": [],
   "source": [
    "#### Chi_Square #### 부하\n",
    "# step 1 : Formulating hypothesis\n",
    "# H0: employee gender and active status are independent\n",
    "# HA: employee gender and active status are dependent\n",
    "\n",
    "# step 2 : Choosing the test\n",
    "# Chi-Square\n",
    "\n",
    "# step 3 : Choosing significance level\n",
    "# 0.05\n",
    "\n",
    "# step 4 : Apply the test and find p-value\n",
    "table = pd.crosstab(df['gender'], df['status'])\n",
    "\n",
    "sp.chi2_contingency(table)\n",
    "\n",
    "# step 5 : compare p-value and the significance level\n",
    "\n",
    "# conclusion : P Value = 0.86. p-value is greater than 0.05 we accept the null hypothesis"
   ]
  },
  {
   "cell_type": "markdown",
   "metadata": {},
   "source": [
    "#### 4.5.2 Active Status vs Service Agreement"
   ]
  },
  {
   "cell_type": "code",
   "execution_count": null,
   "metadata": {},
   "outputs": [],
   "source": [
    "#### Chi_Square #### \n",
    "# step 1 : Formulating hypothesis\n",
    "# H0: employee service agreement and active status are independent\n",
    "# HA: employee service agreement and active status are dependent\n",
    "\n",
    "# step 2 : Choosing the test\n",
    "# Chi-Square\n",
    "\n",
    "# step 3 : Choosing significance level\n",
    "# 0.05\n",
    "\n",
    "# step 4 : Apply the test and find p-value\n",
    "table = pd.crosstab(df['service_agreement'], df['status'])\n",
    "\n",
    "sp.chi2_contingency(table)\n",
    "\n",
    "# step 5 : compare p-value and the significance level\n",
    "\n",
    "# conclusion : P Value = 0.0095. p-value is less than 0.05 we reject the null hypothesis"
   ]
  },
  {
   "cell_type": "markdown",
   "metadata": {},
   "source": [
    "#### 4.5.3 Active Status vs Job Level"
   ]
  },
  {
   "cell_type": "code",
   "execution_count": null,
   "metadata": {},
   "outputs": [],
   "source": [
    "# H0: employee job level and active status are independent\n",
    "# HA: employee job level and active status are dependent\n",
    "table = pd.crosstab(df['job_level'], df['status'])\n",
    "sp.chi2_contingency(table)\n",
    "# As p value > 0.05 we accept null hypothesis, i.e. both the variables are independent."
   ]
  },
  {
   "cell_type": "markdown",
   "metadata": {},
   "source": [
    "#### 4.5.4 Active Status vs Variance in Performance Rating"
   ]
  },
  {
   "cell_type": "code",
   "execution_count": null,
   "metadata": {},
   "outputs": [],
   "source": [
    "# H0: employee variance in rating and active status are independent\n",
    "# HA: employee variance in rating and active status are dependent\n",
    "table = pd.crosstab(df['var_rating'], df['status'])\n",
    "sp.chi2_contingency(table)\n",
    "# As p value < 0.05 we reject null hypothesis, i.e. both the variables are dependent."
   ]
  },
  {
   "cell_type": "markdown",
   "metadata": {},
   "source": [
    "#### 4.5.5 Active Status vs Number of Promotions"
   ]
  },
  {
   "cell_type": "code",
   "execution_count": null,
   "metadata": {},
   "outputs": [],
   "source": [
    "# H0: employee no of promotions and active status are independent\n",
    "# HA: employee no of promotions and active status are dependent\n",
    "table = pd.crosstab(df['no_of_promotions'], df['status'])\n",
    "sp.chi2_contingency(table)\n",
    "# As p value < 0.05 we reject null hypothesis, i.e. both the variables are dependent."
   ]
  },
  {
   "cell_type": "markdown",
   "metadata": {},
   "source": [
    "#### 4.5.6 Active Status vs Risk of Attrition"
   ]
  },
  {
   "cell_type": "code",
   "execution_count": null,
   "metadata": {},
   "outputs": [],
   "source": [
    "# H0: employee risk of attrition and active status are independent\n",
    "# HA: employee risk of attrition and active status are dependent\n",
    "table = pd.crosstab(df['risk_of_attrition'], df['status'])\n",
    "sp.chi2_contingency(table)\n",
    "# As p value > 0.05 we accept null hypothesis, i.e. both the variables are independent."
   ]
  },
  {
   "cell_type": "markdown",
   "metadata": {},
   "source": [
    "#### 4.5.7 Active Status vs Potential Rating"
   ]
  },
  {
   "cell_type": "code",
   "execution_count": null,
   "metadata": {},
   "outputs": [],
   "source": [
    "# H0: employee potential rating and active status are independent\n",
    "# HA: employee potential rating and active status are dependent\n",
    "table = pd.crosstab(df['potential_rating'], df['status'])\n",
    "sp.chi2_contingency(table)\n",
    "# As p value > 0.05 we accept null hypothesis, i.e. both the variables are independent."
   ]
  },
  {
   "cell_type": "markdown",
   "metadata": {},
   "source": [
    "#### 4.5.8 Active Status vs Awards"
   ]
  },
  {
   "cell_type": "code",
   "execution_count": null,
   "metadata": {},
   "outputs": [],
   "source": [
    "# H0: employee awards and active status are independent\n",
    "# HA: employee awards and active status are dependent\n",
    "table = pd.crosstab(df['awards'], df['status'])\n",
    "sp.chi2_contingency(table)\n",
    "# As p value < 0.05 we reject null hypothesis, i.e. both the variables are dependent."
   ]
  },
  {
   "cell_type": "markdown",
   "metadata": {},
   "source": [
    "#### 4.5.9 Active Status vs Sign On Bonus"
   ]
  },
  {
   "cell_type": "code",
   "execution_count": null,
   "metadata": {},
   "outputs": [],
   "source": [
    "# H0: employee sign on bonus and active status are independent\n",
    "# HA: employee sign on bonus and active status are dependent\n",
    "table = pd.crosstab(df['signon'], df['status'])\n",
    "sp.chi2_contingency(table)\n",
    "# As p value > 0.05 we accept null hypothesis, i.e. both the variables are independent."
   ]
  },
  {
   "cell_type": "markdown",
   "metadata": {},
   "source": [
    "### **4.6 Bi-variate Analysis 2 (Categorical-Numerical)**"
   ]
  },
  {
   "cell_type": "markdown",
   "metadata": {},
   "source": [
    "#### 4.6.1 Active Status vs Age"
   ]
  },
  {
   "cell_type": "code",
   "execution_count": null,
   "metadata": {},
   "outputs": [],
   "source": [
    "# uses the variable ax for single a Axes\n",
    "fig, ax = plt.subplots()\n",
    "\n",
    "# sets the figure size in inches\n",
    "ax.figure.set_size_inches(25, 8)\n",
    "\n",
    "# plots the graph\n",
    "sns.countplot(x='age', hue='status', data=df)\n",
    "\n",
    "# sets plot title\n",
    "ax.set_title(\"Attrition vs Age \\n(0=Active, 1=Terminated)\", fontsize=20)\n",
    "\n",
    "# sets the legend\n",
    "plt.legend(title=\"Attrition\", title_fontsize=15, fontsize=15)\n",
    "\n",
    "# display plots\n",
    "plt.show()"
   ]
  },
  {
   "cell_type": "code",
   "execution_count": null,
   "metadata": {},
   "outputs": [],
   "source": [
    "sns.violinplot(data=df, x='age', y='status', orient=\"h\")\n",
    "plt.show() \n"
   ]
  },
  {
   "cell_type": "code",
   "execution_count": null,
   "metadata": {},
   "outputs": [],
   "source": [
    "df.pivot_table('age','status', aggfunc='mean')"
   ]
  },
  {
   "cell_type": "code",
   "execution_count": null,
   "metadata": {},
   "outputs": [],
   "source": [
    "df.pivot_table('age','status', aggfunc='median')"
   ]
  },
  {
   "cell_type": "markdown",
   "metadata": {},
   "source": [
    "It seems employees do not leave based on their age since the average age of the employees who stayed and lefted in the company are very close each other."
   ]
  },
  {
   "cell_type": "markdown",
   "metadata": {},
   "source": [
    "#### 4.6.2 Active Status vs Distance From Home"
   ]
  },
  {
   "cell_type": "code",
   "execution_count": null,
   "metadata": {},
   "outputs": [],
   "source": [
    "sns.catplot(data=df, x='distance_from_home', y='status')\n",
    "plt.show() "
   ]
  },
  {
   "cell_type": "markdown",
   "metadata": {},
   "source": [
    "It seems there is no big diffence between active employees and terminated employees based on distance from home in the cateogorical scatterplots"
   ]
  },
  {
   "cell_type": "code",
   "execution_count": null,
   "metadata": {},
   "outputs": [],
   "source": [
    "df.pivot_table('distance_from_home','status', aggfunc='mean')"
   ]
  },
  {
   "cell_type": "markdown",
   "metadata": {},
   "source": [
    "Employees that stayed had `2.29` miles distance from home on an average.\n",
    "Employees that left the organisation had `5.69` miles distance from home on an average. Maybe employee who live farther tends to leave the company."
   ]
  },
  {
   "cell_type": "code",
   "execution_count": null,
   "metadata": {},
   "outputs": [],
   "source": [
    "df.pivot_table('distance_from_home','status', aggfunc='median')"
   ]
  },
  {
   "cell_type": "markdown",
   "metadata": {},
   "source": [
    "#### 4.6.3 Active Status vs Manager Satisfaction"
   ]
  },
  {
   "cell_type": "code",
   "execution_count": null,
   "metadata": {},
   "outputs": [],
   "source": [
    "sns.violinplot(data=df, x='manager_sat', y='status')\n",
    "plt.show() "
   ]
  },
  {
   "cell_type": "code",
   "execution_count": null,
   "metadata": {},
   "outputs": [],
   "source": [
    "df.pivot_table('manager_sat','status', aggfunc='count')"
   ]
  },
  {
   "cell_type": "code",
   "execution_count": null,
   "metadata": {},
   "outputs": [],
   "source": [
    "df.pivot_table('manager_sat','status', aggfunc='mean')"
   ]
  },
  {
   "cell_type": "code",
   "execution_count": null,
   "metadata": {},
   "outputs": [],
   "source": [
    "df.pivot_table('manager_sat','status', aggfunc='median')"
   ]
  },
  {
   "cell_type": "markdown",
   "metadata": {},
   "source": [
    "All employees who left the organization had `79` manager satisfaction. If manager's satisfaction is below `80`, the employee prefers to leave the company."
   ]
  },
  {
   "cell_type": "markdown",
   "metadata": {},
   "source": [
    "#### 4.6.4 Active Status vs Employee Satisfaction"
   ]
  },
  {
   "cell_type": "code",
   "execution_count": null,
   "metadata": {},
   "outputs": [],
   "source": [
    "sns.violinplot(data=df, x='employee_sat', y='status')\n",
    "plt.show() "
   ]
  },
  {
   "cell_type": "code",
   "execution_count": null,
   "metadata": {},
   "outputs": [],
   "source": [
    "df.pivot_table('employee_sat','status', aggfunc='mean')"
   ]
  },
  {
   "cell_type": "code",
   "execution_count": null,
   "metadata": {},
   "outputs": [],
   "source": [
    "df.pivot_table('employee_sat','status', aggfunc='median')"
   ]
  },
  {
   "cell_type": "markdown",
   "metadata": {},
   "source": [
    "It seems employees do not leave based on employee_sat score."
   ]
  },
  {
   "cell_type": "markdown",
   "metadata": {},
   "source": [
    "#### 4.6.5 Active Status vs Bonus"
   ]
  },
  {
   "cell_type": "code",
   "execution_count": null,
   "metadata": {},
   "outputs": [],
   "source": [
    "sns.violinplot(data=df, x='bonus', y='status')\n",
    "plt.show() "
   ]
  },
  {
   "cell_type": "code",
   "execution_count": null,
   "metadata": {},
   "outputs": [],
   "source": [
    "df.pivot_table('bonus' ,'status', aggfunc='median')"
   ]
  },
  {
   "cell_type": "code",
   "execution_count": null,
   "metadata": {},
   "outputs": [],
   "source": [
    "df.pivot_table('bonus' ,'status', aggfunc='mean')"
   ]
  },
  {
   "cell_type": "markdown",
   "metadata": {},
   "source": [
    "It seems employees do not leave based on bonus."
   ]
  },
  {
   "cell_type": "markdown",
   "metadata": {},
   "source": [
    "#### 4.6.6 Active Status vs Number of Courses Taken"
   ]
  },
  {
   "cell_type": "code",
   "execution_count": null,
   "metadata": {},
   "outputs": [],
   "source": [
    "sns.violinplot(data=df, x='no_courses_taken', y='status')\n",
    "plt.show() "
   ]
  },
  {
   "cell_type": "code",
   "execution_count": null,
   "metadata": {},
   "outputs": [],
   "source": [
    "df.pivot_table('no_courses_taken' ,'status', aggfunc='median')"
   ]
  },
  {
   "cell_type": "code",
   "execution_count": null,
   "metadata": {},
   "outputs": [],
   "source": [
    "df.pivot_table('no_courses_taken' ,'status', aggfunc='mean')"
   ]
  },
  {
   "cell_type": "markdown",
   "metadata": {},
   "source": [
    "Employee who took more courses in the company prefer to stay in the company"
   ]
  },
  {
   "cell_type": "markdown",
   "metadata": {},
   "source": [
    "#### 4.6.7 Active Status vs Time in Position"
   ]
  },
  {
   "cell_type": "code",
   "execution_count": null,
   "metadata": {},
   "outputs": [],
   "source": [
    "sns.violinplot(data=df, x='time_in_position', y='status')\n",
    "plt.show() "
   ]
  },
  {
   "cell_type": "code",
   "execution_count": null,
   "metadata": {},
   "outputs": [],
   "source": [
    "df.pivot_table('time_in_position' ,'status', aggfunc='median')"
   ]
  },
  {
   "cell_type": "code",
   "execution_count": null,
   "metadata": {},
   "outputs": [],
   "source": [
    "df.pivot_table('time_in_position' ,'status', aggfunc='mean')"
   ]
  },
  {
   "cell_type": "markdown",
   "metadata": {},
   "source": [
    "It seems employees do not leave based on their time_in_position."
   ]
  },
  {
   "cell_type": "markdown",
   "metadata": {},
   "source": [
    "#### 4.6.8 Active Status vs Salary Change Percentage"
   ]
  },
  {
   "cell_type": "code",
   "execution_count": null,
   "metadata": {},
   "outputs": [],
   "source": [
    "sns.violinplot(data=df, x='percentage_salary_change', y='status')\n",
    "plt.show() "
   ]
  },
  {
   "cell_type": "code",
   "execution_count": null,
   "metadata": {},
   "outputs": [],
   "source": [
    "df.pivot_table('percentage_salary_change','status', aggfunc='median')"
   ]
  },
  {
   "cell_type": "code",
   "execution_count": null,
   "metadata": {},
   "outputs": [],
   "source": [
    "df.pivot_table('percentage_salary_change','status', aggfunc='mean')"
   ]
  },
  {
   "cell_type": "markdown",
   "metadata": {},
   "source": [
    "employees that left the organisation had 2.89 % salary change on an average.\n",
    "employees that left the organisation had 5.88 % salary change on an average.\n",
    "This suggests that employees with less salary change tend to leave. "
   ]
  },
  {
   "cell_type": "markdown",
   "metadata": {},
   "source": [
    "#### 4.6.9 Active Status vs Number of Manager Changes"
   ]
  },
  {
   "cell_type": "code",
   "execution_count": null,
   "metadata": {},
   "outputs": [],
   "source": [
    "sns.violinplot(data=df, x='manager_changes', y='status')\n",
    "plt.show() "
   ]
  },
  {
   "cell_type": "code",
   "execution_count": null,
   "metadata": {},
   "outputs": [],
   "source": [
    "df.pivot_table('manager_changes','status', aggfunc='median')"
   ]
  },
  {
   "cell_type": "code",
   "execution_count": null,
   "metadata": {},
   "outputs": [],
   "source": [
    "df.pivot_table('manager_changes','status', aggfunc='mean')"
   ]
  },
  {
   "cell_type": "markdown",
   "metadata": {},
   "source": [
    "The graph and crosstab indicate that the employee doesn't leave based on the number of manager changes."
   ]
  },
  {
   "cell_type": "markdown",
   "metadata": {},
   "source": [
    "### **4.7 Hypothesis Test 2 (Welch Two Sample T-Test for Numerical and Categorical Variables)**"
   ]
  },
  {
   "cell_type": "markdown",
   "metadata": {},
   "source": [
    "#### 4.7.1 Active Status vs Age"
   ]
  },
  {
   "cell_type": "code",
   "execution_count": null,
   "metadata": {},
   "outputs": [],
   "source": [
    "sp.stats.ttest_ind(df.query('status==0')['age'], df.query('status==1')['age'], equal_var=False)\n",
    "# As p value > 0.05 we accept null hypothesis, i.e. both age and status are independent. \n",
    "# This means employees do not leave on the basis of age."
   ]
  },
  {
   "cell_type": "markdown",
   "metadata": {},
   "source": [
    "#### 4.7.2 Active Status vs Distance From Home"
   ]
  },
  {
   "cell_type": "code",
   "execution_count": null,
   "metadata": {},
   "outputs": [],
   "source": [
    "sp.stats.ttest_ind(df.query('status==0')['distance_from_home'], df.query('status==1')['distance_from_home'], equal_var=False)\n",
    "# As p value < 0.05 we reject null hypothesis, i.e. both the variables are dependent. \n",
    "# This means employees leave on the basis of distance from home."
   ]
  },
  {
   "cell_type": "markdown",
   "metadata": {},
   "source": [
    "#### 4.7.3 Active Status vs Manager Satisfaction"
   ]
  },
  {
   "cell_type": "code",
   "execution_count": null,
   "metadata": {},
   "outputs": [],
   "source": [
    "sp.stats.ttest_ind(df.query('status==0')['manager_sat'], df.query('status==1')['manager_sat'], equal_var=False)\n",
    "# As p value > 0.05 we accept null hypothesis, i.e. both the variables are independent.\n",
    "# This means employees do not leave on the basis of manager satisfaction score.\n"
   ]
  },
  {
   "cell_type": "markdown",
   "metadata": {},
   "source": [
    "#### 4.7.4 Active Status vs Employee Satisfaction"
   ]
  },
  {
   "cell_type": "code",
   "execution_count": null,
   "metadata": {},
   "outputs": [],
   "source": [
    "sp.stats.ttest_ind(df.query('status==0')['employee_sat'], df.query('status==1')['employee_sat'], equal_var=False)\n",
    "# As p value > 0.05 we accept null hypothesis, i.e. both the variables are independent.\n",
    "# This means employees do not leave on the basis of employee satisfaction score.\n"
   ]
  },
  {
   "cell_type": "markdown",
   "metadata": {},
   "source": [
    "#### 4.7.5 Active Status vs Bonus"
   ]
  },
  {
   "cell_type": "code",
   "execution_count": null,
   "metadata": {},
   "outputs": [],
   "source": [
    "sp.stats.ttest_ind(df.query('status==0')['bonus'], df.query('status==1')['bonus'], equal_var=False)\n",
    "# As p value > 0.05 we accept null hypothesis, i.e. both the variables are independent.\n",
    "# This means employees do not leave on the basis of bonus."
   ]
  },
  {
   "cell_type": "markdown",
   "metadata": {},
   "source": [
    "#### 4.7.6 Active Status vs Number of Courses Taken"
   ]
  },
  {
   "cell_type": "code",
   "execution_count": null,
   "metadata": {},
   "outputs": [],
   "source": [
    "sp.stats.ttest_ind(df.query('status==0')['no_courses_taken'], df.query('status==1')['no_courses_taken'], equal_var=False)\n",
    "# As p value < 0.05 we reject null hypothesis, i.e. both the variables are dependent.\n",
    "# This means employees leave on the basis of number of courses taken."
   ]
  },
  {
   "cell_type": "markdown",
   "metadata": {},
   "source": [
    "#### 4.7.7 Active Status vs Time in Position"
   ]
  },
  {
   "cell_type": "code",
   "execution_count": null,
   "metadata": {},
   "outputs": [],
   "source": [
    "sp.stats.ttest_ind(df.query('status==0')['time_in_position'], df.query('status==1')['time_in_position'], equal_var=False)\n",
    "# As p value > 0.05 we accept null hypothesis, i.e. both the variables are independent.\n",
    "# This means employees do not leave on the basis of time in position."
   ]
  },
  {
   "cell_type": "markdown",
   "metadata": {},
   "source": [
    "#### 4.7.8 Active Status vs Salary Change Percentage"
   ]
  },
  {
   "cell_type": "code",
   "execution_count": null,
   "metadata": {},
   "outputs": [],
   "source": [
    "sp.stats.ttest_ind(df.query('status==0')['percentage_salary_change'], df.query('status==1')['percentage_salary_change'], equal_var=False)\n",
    "# As p value > 0.05 we accept null hypothesis, i.e. both the variables are independent.\n",
    "# This means employees do not leave on the basis of percentage salary change."
   ]
  },
  {
   "cell_type": "markdown",
   "metadata": {},
   "source": [
    "4.7.9 Active Status vs Number of Manager Changes"
   ]
  },
  {
   "cell_type": "code",
   "execution_count": null,
   "metadata": {},
   "outputs": [],
   "source": [
    "sp.stats.ttest_ind(df.query('status==0')['manager_changes'], df.query('status==1')['manager_changes'], equal_var=False)\n",
    "# As p value > 0.05 we accept null hypothesis, i.e. both the variables are independent.\n",
    "# This means employees do not leave on the basis of number of manager changes."
   ]
  },
  {
   "cell_type": "markdown",
   "metadata": {},
   "source": [
    "# **4.8. Summary of Hypothesis Test**"
   ]
  },
  {
   "cell_type": "markdown",
   "metadata": {},
   "source": [
    "|Factor|Hypothesis|Conclusion|\n",
    "|------|---|---|\n",
    "|Gender|Employee do not leave based on their gender|TRUE|\n",
    "|Service Agreement|Employee who did not have the service agreemment perferred to leave the company|TRUE|\n",
    "|Job Level|Employee whose Job Level 5 and 2 do not prefer to leave the company compared to who are 1, 3 and 4|FALSE|\n",
    "|Variance in Performance Rating|Employee who didn't have any changes in Performance Rating between 2017 and 2018 prefer to leave the company|TRUE|\n",
    "|Number of Promotions|Employee who did't have any promotion prefer to leave the company|TRUE|\n",
    "|Risk of Attrition|Risk of Attrition is significantly related to the actual employee turnover|FALSE|\n",
    "|Potential Rating|Employee's potential rating in 2019 is significantly related to the actual employee turnover|FALSE|\n",
    "|Awards|Employee who received the award prefer to leave the company|TRUE|\n",
    "|Sign On Bonus|Employee who received the sign on bonus prefer to stay in the company|FALSE|\n",
    "|Age|Employee do not leave the company based on their age|TRUE|\n",
    "|Distance From Home|Distance from home is significantly related to the actual employees turnover |TRUE|\n",
    "|Manager Satisfaction|Manager's satisfaction is significantly related to the actual employees turnover |FALSE|\n",
    "|Employee Satisfaction|Employee do not leave the company based on their satisfaction|TRUE|\n",
    "|Bonus|Employee do not leave the company based on their bonus|TRUE|\n",
    "|Number of Courses Taken|Employee prefer to leave when they took lessor courses|TRUE|\n",
    "|Time in Position|Employee do not leave the company based on the time in the current position|TRUE|\n",
    "|Salary Change Percentage|Employee who had a lower percentage in salary increase tend to leave the company|FALSE|\n",
    "|Number of Manager Changes|Employee do not leave the company based on the number of manager changes|TRUE|\n"
   ]
  },
  {
   "cell_type": "markdown",
   "metadata": {},
   "source": [
    "# **4.9. Multivariate Analysis (Correlations)**"
   ]
  },
  {
   "cell_type": "code",
   "execution_count": null,
   "metadata": {},
   "outputs": [],
   "source": [
    "# plot the scatter martix of Numerical Variables\n",
    "from pandas.plotting import scatter_matrix\n",
    "scatter_matrix(num_attributes, figsize=(16, 16)) "
   ]
  },
  {
   "cell_type": "code",
   "execution_count": null,
   "metadata": {},
   "outputs": [],
   "source": [
    "# gets the correlation between the numerical variables\n",
    "correlation = num_attributes.corr(method='pearson')\n",
    "\n",
    "# uses the variable ax for single a Axes\n",
    "fig, ax = plt.subplots()\n",
    "\n",
    "# sets the figure size in inches\n",
    "ax.figure.set_size_inches(16, 16)\n",
    "\n",
    "# plots the heatmap\n",
    "sns.heatmap(correlation, annot=True)\n",
    "\n",
    "# displays the plot\n",
    "plt.show()"
   ]
  },
  {
   "cell_type": "markdown",
   "metadata": {},
   "source": [
    "# **5. Feature Engineering**"
   ]
  },
  {
   "cell_type": "code",
   "execution_count": null,
   "metadata": {},
   "outputs": [],
   "source": [
    "# Droping insignificant variables\n",
    "df=df.drop(['gender','job_level','signon','age','manager_changes','bonus','time_in_position'],axis=1) \n"
   ]
  },
  {
   "cell_type": "code",
   "execution_count": null,
   "metadata": {},
   "outputs": [],
   "source": [
    "df.dtypes"
   ]
  },
  {
   "cell_type": "markdown",
   "metadata": {},
   "source": [
    "### **5.1 Variable Creation**"
   ]
  },
  {
   "cell_type": "code",
   "execution_count": null,
   "metadata": {},
   "outputs": [],
   "source": [
    "# check categorical variables\n",
    "cat_attributes"
   ]
  },
  {
   "cell_type": "code",
   "execution_count": null,
   "metadata": {},
   "outputs": [],
   "source": [
    "# check numerical variables\n",
    "num_attributes"
   ]
  },
  {
   "cell_type": "code",
   "execution_count": null,
   "metadata": {},
   "outputs": [],
   "source": [
    "# Dummy Variable Creation\n",
    "cat_var=pd.get_dummies(cat_attributes, drop_first=True)\n"
   ]
  },
  {
   "cell_type": "code",
   "execution_count": null,
   "metadata": {},
   "outputs": [],
   "source": [
    "cat_var.head()"
   ]
  },
  {
   "cell_type": "code",
   "execution_count": null,
   "metadata": {},
   "outputs": [],
   "source": [
    "# rename the columns to minimize computation errors\n",
    "cat_var.rename(columns = {'var_rating_-3':'var_rating_minus3', 'var_rating_-1':'var_rating_minus1'}, inplace = True)"
   ]
  },
  {
   "cell_type": "code",
   "execution_count": null,
   "metadata": {},
   "outputs": [],
   "source": [
    "cat_var.columns"
   ]
  },
  {
   "cell_type": "code",
   "execution_count": null,
   "metadata": {},
   "outputs": [],
   "source": [
    "num_var = num_attributes"
   ]
  },
  {
   "cell_type": "code",
   "execution_count": null,
   "metadata": {},
   "outputs": [],
   "source": [
    "new_df = pd.concat([cat_var,num_var], axis=1)\n",
    "new_df.head()"
   ]
  },
  {
   "cell_type": "markdown",
   "metadata": {},
   "source": [
    "### **5.2 Variable Transformation (Normalization)**"
   ]
  },
  {
   "cell_type": "code",
   "execution_count": null,
   "metadata": {},
   "outputs": [],
   "source": [
    "# plots a histogram for all numerical attributes\n",
    "_ = num_attributes.hist(bins=30, figsize=(20,20))"
   ]
  },
  {
   "cell_type": "markdown",
   "metadata": {},
   "source": [
    "As we can observe, there is no ariable presenting a normal distribution, not even nearly normal. So, it is preferred to leave as it is than to risk a erroneous normalization."
   ]
  },
  {
   "cell_type": "code",
   "execution_count": null,
   "metadata": {},
   "outputs": [],
   "source": [
    "df.shape"
   ]
  },
  {
   "cell_type": "markdown",
   "metadata": {},
   "source": [
    "# **6. Machine Learning Modeling**"
   ]
  },
  {
   "cell_type": "markdown",
   "metadata": {},
   "source": [
    "### **6.1 Data Split into Train and Test**"
   ]
  },
  {
   "cell_type": "code",
   "execution_count": null,
   "metadata": {},
   "outputs": [],
   "source": [
    "from sklearn.model_selection import train_test_split\n",
    "from sklearn.metrics import accuracy_score, classification_report, precision_score, recall_score, confusion_matrix, precision_recall_curve"
   ]
  },
  {
   "cell_type": "code",
   "execution_count": null,
   "metadata": {},
   "outputs": [],
   "source": [
    "# Create the X and y set\n",
    "X = new_df.iloc[:,1:]\n",
    "y = new_df.iloc[:,0]\n",
    "\n",
    "# Define train and test\n",
    "X_train, X_test, y_train, y_test = train_test_split(X,y,test_size=0.15, random_state=123, stratify=y)"
   ]
  },
  {
   "cell_type": "markdown",
   "metadata": {},
   "source": [
    "### **6.2 Train Logistic Regression Model**"
   ]
  },
  {
   "cell_type": "code",
   "execution_count": null,
   "metadata": {},
   "outputs": [],
   "source": [
    "%%time\n",
    "\n",
    "# Check accuracy of Logistic Model# Check  \n",
    "from sklearn.linear_model import LogisticRegression\n",
    "\n",
    "# Define the Logistic Regression Model\n",
    "lr = LogisticRegression(class_weight='balanced')\n",
    "\n",
    "# Fit the Logistic Regression Model to the train set\n",
    "lr.fit(X_train, y_train)\n",
    "\n",
    "# accuracy = correct_predictions / total_predictions\n",
    "# Accuracy is the proportion of correct predictions over total predictions. This is how we can find the accuracy with logistic regression:\n",
    "print (\"Logistic accuracy is %2.2f\" % accuracy_score(y_test, lr.predict(X_test)))"
   ]
  },
  {
   "cell_type": "markdown",
   "metadata": {},
   "source": [
    "#### 6.2.1 Apply 10-Fold Cross Validation for Logistic Regression"
   ]
  },
  {
   "cell_type": "code",
   "execution_count": null,
   "metadata": {},
   "outputs": [],
   "source": [
    "%%time\n",
    "from sklearn import model_selection\n",
    "\n",
    "# Define the 10-Fold Cross Validation\n",
    "kfold = model_selection.KFold(n_splits=10, random_state=7, shuffle=True)\n",
    "\n",
    "# Define the Logistic Regression Model\n",
    "lrCV = LogisticRegression()\n",
    "\n",
    "# Define the evaluation metric \n",
    "scoring = 'roc_auc'\n",
    "\n",
    "# Train the Logistic Regression Model on the 10-Fold Cross Validation\n",
    "lr_results = model_selection.cross_val_score(lrCV, X_train, y_train, cv=kfold, scoring=scoring)"
   ]
  },
  {
   "cell_type": "code",
   "execution_count": null,
   "metadata": {},
   "outputs": [],
   "source": [
    "# Print out the 10 scores from the training. Notice how you get a wide range of scores compared to one single training\n",
    "lr_results"
   ]
  },
  {
   "cell_type": "markdown",
   "metadata": {},
   "source": [
    "#### 6.2.2 Average Score"
   ]
  },
  {
   "cell_type": "markdown",
   "metadata": {},
   "source": [
    "Let's use AUC as a general baseline to compare our model's performance. After comparing, we can then select the best one and look at its precision and recall."
   ]
  },
  {
   "cell_type": "code",
   "execution_count": null,
   "metadata": {},
   "outputs": [],
   "source": [
    "# Print out the mean and standard deviation of the training score\n",
    "lr_auc = lr_results.mean()\n",
    "print(\"The Logistic Regression AUC: %.3f and the STD is (%.3f)\" % (lr_auc, lr_results.std()))"
   ]
  },
  {
   "cell_type": "markdown",
   "metadata": {},
   "source": [
    "#### 6.2.3 Logistic Regression AUC"
   ]
  },
  {
   "cell_type": "code",
   "execution_count": null,
   "metadata": {},
   "outputs": [],
   "source": [
    "from sklearn.metrics import roc_auc_score\n",
    "\n",
    "print (\"\\n\\n ---Logistic Regression Model---\")\n",
    "lr_auc = roc_auc_score(y_test, lr.predict(X_test))\n",
    "print (\"Logistic Regression AUC = %2.2f\" % lr_auc)\n",
    "print(classification_report(y_test, lr.predict(X_test)))"
   ]
  },
  {
   "cell_type": "markdown",
   "metadata": {},
   "source": [
    "### **6.3 Train Logistic Regression Model**"
   ]
  },
  {
   "cell_type": "markdown",
   "metadata": {},
   "source": [
    "Notice how the random forest classifier takes a while to run on the dataset. That is one downside to the algorithm, it takes a lot of computation. But it has a better performance than the sipler models like Logistic Regression"
   ]
  },
  {
   "cell_type": "code",
   "execution_count": null,
   "metadata": {},
   "outputs": [],
   "source": [
    "%%time\n",
    "\n",
    "from sklearn.ensemble import RandomForestClassifier\n",
    "\n",
    "# Random Forest Model\n",
    "rf = RandomForestClassifier(\n",
    "    class_weight=\"balanced\"\n",
    "    )\n",
    "\n",
    "# Fit the RF Model\n",
    "rf = rf.fit(X_train, y_train)"
   ]
  },
  {
   "cell_type": "markdown",
   "metadata": {},
   "source": [
    "#### 6.3.1 Apply 10-Fold Cross Validation for Random Forest"
   ]
  },
  {
   "cell_type": "code",
   "execution_count": null,
   "metadata": {},
   "outputs": [],
   "source": [
    "%%time\n",
    "rf_results = model_selection.cross_val_score(rf, X_train, y_train, cv=kfold, scoring=scoring)\n",
    "rf_results"
   ]
  },
  {
   "cell_type": "markdown",
   "metadata": {},
   "source": [
    "#### 6.3.2 Average Score"
   ]
  },
  {
   "cell_type": "code",
   "execution_count": null,
   "metadata": {},
   "outputs": [],
   "source": [
    "# Print out the mean and standard deviation of the training score\n",
    "rf_auc = rf_results.mean()\n",
    "print(\"The Random Forest AUC: %.3f and the STD is (%.3f)\" % (rf_auc, rf_results.std()))"
   ]
  },
  {
   "cell_type": "markdown",
   "metadata": {},
   "source": [
    "#### 6.3.2 Random Forest AUC "
   ]
  },
  {
   "cell_type": "code",
   "execution_count": null,
   "metadata": {},
   "outputs": [],
   "source": [
    "from sklearn.metrics import roc_auc_score\n",
    "\n",
    "print (\"\\n\\n ---Random Forest Model---\")\n",
    "rf_roc_auc = roc_auc_score(y_test, rf.predict(X_test))\n",
    "print (\"Random Forest AUC = %2.2f\" % rf_roc_auc)\n",
    "print(classification_report(y_test, rf.predict(X_test)))"
   ]
  },
  {
   "cell_type": "markdown",
   "metadata": {},
   "source": [
    "### **6.4 Support Vector Classifier**"
   ]
  },
  {
   "cell_type": "code",
   "execution_count": null,
   "metadata": {},
   "outputs": [],
   "source": [
    "%%time \n",
    "\n",
    "from sklearn.svm import SVC \n",
    "\n",
    "svclassifier = SVC(kernel='rbf', probability=True)  \n",
    "\n",
    "svc = svclassifier.fit(X_train,y_train)"
   ]
  },
  {
   "cell_type": "code",
   "execution_count": null,
   "metadata": {},
   "outputs": [],
   "source": [
    "%%time\n",
    "\n",
    "svc_result = model_selection.cross_val_score(svc, X_train, y_train, cv=kfold, scoring=scoring)\n",
    "svc_result"
   ]
  },
  {
   "cell_type": "code",
   "execution_count": null,
   "metadata": {},
   "outputs": [],
   "source": [
    "# Print out the mean and standard deviation of the training score\n",
    "svc_auc = svc_result.mean()\n",
    "print(\"The Supper Vector Classifier AUC: %.3f and the STD is (%.3f)\" % (rf_auc, rf_results.std()))"
   ]
  },
  {
   "cell_type": "code",
   "execution_count": null,
   "metadata": {},
   "outputs": [],
   "source": [
    "from sklearn.metrics import roc_auc_score\n",
    "\n",
    "print (\"\\n\\n ---Support Vector Model---\")\n",
    "rf_roc_auc = roc_auc_score(y_test, rf.predict(X_test))\n",
    "print (\"Support Vector Classifier AUC = %2.2f\" % rf_roc_auc)\n",
    "print(classification_report(y_test, rf.predict(X_test)))"
   ]
  },
  {
   "cell_type": "markdown",
   "metadata": {},
   "source": [
    "### **6.5 ROC Graph**"
   ]
  },
  {
   "cell_type": "code",
   "execution_count": null,
   "metadata": {},
   "outputs": [],
   "source": [
    "# Create ROC Graph\n",
    "from sklearn.metrics import roc_curve\n",
    "fpr, tpr, thresholds = roc_curve(y_test, lr.predict_proba(X_test)[:,1])\n",
    "rf_fpr, rf_tpr, rf_thresholds = roc_curve(y_test, rf.predict_proba(X_test)[:,1])\n",
    "svc_fpr, svc_tpr, svc_thresholds = roc_curve(y_test, svc.predict_proba(X_test)[:,1])\n",
    "\n",
    "\n",
    "plt.figure()\n",
    "\n",
    "# Plot Logistic Regression ROC\n",
    "plt.plot(fpr, tpr, label='Logistic Regression (area = %0.2f)' % lr_auc)\n",
    "\n",
    "# Plot Random Forest ROC\n",
    "plt.plot(rf_fpr, rf_tpr, label='Random Forest (area = %0.2f)' % rf_auc)\n",
    "\n",
    "# Plot Decision Tree ROC\n",
    "plt.plot(svc_fpr, svc_tpr, label='Support Vector Classifier (area = %0.2f)' % svc_auc)\n",
    "\n",
    "# Plot Base Rate ROC\n",
    "plt.plot([0,1], [0,1],label='Base Rate' 'k--')\n",
    "\n",
    "plt.xlim([0.0, 1.0])\n",
    "plt.ylim([0.0, 1.05])\n",
    "plt.xlabel('False Positive Rate')\n",
    "plt.ylabel('True Positive Rate')\n",
    "plt.title('ROC Graph')\n",
    "plt.legend(loc=\"lower right\")\n",
    "plt.show()"
   ]
  },
  {
   "cell_type": "markdown",
   "metadata": {},
   "source": [
    "### **6.6 Random Forest Feature Importances**"
   ]
  },
  {
   "cell_type": "code",
   "execution_count": null,
   "metadata": {},
   "outputs": [],
   "source": [
    "# Get Feature Importances\n",
    "feature_importances = pd.DataFrame(rf.feature_importances_,\n",
    "                                   index = X_train.columns,\n",
    "                                   columns=['importance']).sort_values('importance', ascending=False)\n",
    "feature_importances = feature_importances.reset_index()\n",
    "feature_importances"
   ]
  },
  {
   "cell_type": "code",
   "execution_count": null,
   "metadata": {},
   "outputs": [],
   "source": [
    "sns.set(style=\"whitegrid\")\n",
    "\n",
    "# Initialize the matplotlib figure\n",
    "f, ax = plt.subplots(figsize=(13, 7))\n",
    "\n",
    "# Plot the total schools per city\n",
    "sns.set_color_codes(\"pastel\")\n",
    "sns.barplot(x=\"importance\", y='index', data=feature_importances,\n",
    "            label=\"Total\", color=\"b\")"
   ]
  }
 ],
 "metadata": {
  "interpreter": {
   "hash": "4ae6ea6207c64efb725dc96bd811bebda1b336daf0f84997950af7bce9bb9ef7"
  },
  "kernelspec": {
   "display_name": "Python 3.8.8 ('base')",
   "language": "python",
   "name": "python3"
  },
  "language_info": {
   "codemirror_mode": {
    "name": "ipython",
    "version": 3
   },
   "file_extension": ".py",
   "mimetype": "text/x-python",
   "name": "python",
   "nbconvert_exporter": "python",
   "pygments_lexer": "ipython3",
   "version": "3.8.8"
  },
  "orig_nbformat": 4
 },
 "nbformat": 4,
 "nbformat_minor": 2
}
