{
 "cells": [
  {
   "cell_type": "markdown",
   "id": "3086edd2",
   "metadata": {},
   "source": [
    "# Skewness"
   ]
  },
  {
   "cell_type": "code",
   "execution_count": 1,
   "id": "423e4497",
   "metadata": {},
   "outputs": [],
   "source": [
    "import pandas as pd\n",
    "df = pd.read_excel('C:\\\\Users\\\\heeckim\\\\Desktop\\\\work\\\\12_python\\\\pyharry\\\\resources\\\\Skewness.xlsx')"
   ]
  },
  {
   "cell_type": "code",
   "execution_count": 4,
   "id": "e703bb54",
   "metadata": {},
   "outputs": [
    {
     "data": {
      "text/plain": [
       "1.2416158547092389"
      ]
     },
     "execution_count": 4,
     "metadata": {},
     "output_type": "execute_result"
    },
    {
     "data": {
      "image/png": "[encoded data removed]",
      "text/plain": [
       "<Figure size 432x288 with 1 Axes>"
      ]
     },
     "metadata": {
      "needs_background": "light"
     },
     "output_type": "display_data"
    }
   ],
   "source": [
    "df['manager_sat'].plot.hist() # 데이터프레임의 한 컬럼을 사용하여 히스토그램 형성\n",
    "df['manager_sat'].skew() # 스큐니스값이 Positive면 Rightly Skewed (왼쪽으로 치우침)"
   ]
  },
  {
   "cell_type": "code",
   "execution_count": 5,
   "id": "ef9c2c9c",
   "metadata": {},
   "outputs": [
    {
     "data": {
      "text/plain": [
       "1.1886925569711662"
      ]
     },
     "execution_count": 5,
     "metadata": {},
     "output_type": "execute_result"
    },
    {
     "data": {
      "image/png": "[encoded data removed]",
      "text/plain": [
       "<Figure size 432x288 with 1 Axes>"
      ]
     },
     "metadata": {
      "needs_background": "light"
     },
     "output_type": "display_data"
    }
   ],
   "source": [
    "df['employee_sat'].plot.hist()\n",
    "df['employee_sat'].skew()"
   ]
  },
  {
   "cell_type": "code",
   "execution_count": 7,
   "id": "be3e2cb9",
   "metadata": {},
   "outputs": [
    {
     "data": {
      "text/plain": [
       "2.2526901492323885"
      ]
     },
     "execution_count": 7,
     "metadata": {},
     "output_type": "execute_result"
    },
    {
     "data": {
      "image/png": "[encoded data removed]",
      "text/plain": [
       "<Figure size 432x288 with 1 Axes>"
      ]
     },
     "metadata": {
      "needs_background": "light"
     },
     "output_type": "display_data"
    }
   ],
   "source": [
    "df['salary_2017'].plot.hist()\n",
    "df['salary_2017'].skew()"
   ]
  },
  {
   "cell_type": "code",
   "execution_count": 8,
   "id": "8726bcc7",
   "metadata": {},
   "outputs": [
    {
     "data": {
      "text/plain": [
       "-3.412260009017281"
      ]
     },
     "execution_count": 8,
     "metadata": {},
     "output_type": "execute_result"
    },
    {
     "data": {
      "image/png": "[encoded data removed]",
      "text/plain": [
       "<Figure size 432x288 with 1 Axes>"
      ]
     },
     "metadata": {
      "needs_background": "light"
     },
     "output_type": "display_data"
    }
   ],
   "source": [
    "df['percent_salary_hike'].plot.hist()\n",
    "df['percent_salary_hike'].skew()"
   ]
  },
  {
   "cell_type": "markdown",
   "id": "74487186",
   "metadata": {},
   "source": [
    "# Data Standardization (Z-Score Distribution)"
   ]
  },
  {
   "cell_type": "code",
   "execution_count": 2,
   "id": "c3d2a454",
   "metadata": {},
   "outputs": [],
   "source": [
    "import pandas as pd\n",
    "df = pd.read_excel('C:\\\\Users\\\\heeckim\\\\Desktop\\\\work\\\\12_python\\\\pyharry\\\\resources\\\\mean median mode.xlsx')"
   ]
  },
  {
   "cell_type": "code",
   "execution_count": 6,
   "id": "59572146",
   "metadata": {},
   "outputs": [],
   "source": [
    "from sklearn import preprocessing\n",
    "std_df=preprocessing.scale(df['salary_2018']) # 데이터프레임의 컬럼의 Z-Score 값 형성"
   ]
  },
  {
   "cell_type": "code",
   "execution_count": 4,
   "id": "5b8f923c",
   "metadata": {},
   "outputs": [
    {
     "data": {
      "text/plain": [
       "array([-0.15416035, -0.21735705, -0.93850791, ..., -0.02158076,\n",
       "       -0.24787267, -0.47163915])"
      ]
     },
     "execution_count": 4,
     "metadata": {},
     "output_type": "execute_result"
    }
   ],
   "source": [
    "std_df"
   ]
  }
 ],
 "metadata": {
  "kernelspec": {
   "display_name": "Python 3",
   "language": "python",
   "name": "python3"
  },
  "language_info": {
   "codemirror_mode": {
    "name": "ipython",
    "version": 3
   },
   "file_extension": ".py",
   "mimetype": "text/x-python",
   "name": "python",
   "nbconvert_exporter": "python",
   "pygments_lexer": "ipython3",
   "version": "3.8.8"
  }
 },
 "nbformat": 4,
 "nbformat_minor": 5
}
