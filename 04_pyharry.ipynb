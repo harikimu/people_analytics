{
 "cells": [
  {
   "cell_type": "markdown",
   "id": "5725aac9",
   "metadata": {},
   "source": [
    " # Count, Frequency, Percentage, Bar Chart, Pie Chart"
   ]
  },
  {
   "cell_type": "code",
   "execution_count": 2,
   "id": "c1866a83",
   "metadata": {},
   "outputs": [],
   "source": [
    "import pandas as pd\n",
    "df = pd.read_excel('C:\\\\Users\\\\heeckim\\\\Desktop\\\\work\\\\12_python\\\\pyharry\\\\resources\\\\mean median mode.xlsx')"
   ]
  },
  {
   "cell_type": "code",
   "execution_count": 3,
   "id": "22e723a8",
   "metadata": {},
   "outputs": [
    {
     "data": {
      "text/plain": [
       "Research & Development    961\n",
       "Sales                     446\n",
       "Human Resources            63\n",
       "Name: department, dtype: int64"
      ]
     },
     "execution_count": 3,
     "metadata": {},
     "output_type": "execute_result"
    }
   ],
   "source": [
    "df['department'].value_counts() # Department 컬럼의 각 벨류별 카운팅값 반환"
   ]
  },
  {
   "cell_type": "code",
   "execution_count": 4,
   "id": "6b2c9028",
   "metadata": {},
   "outputs": [
    {
     "data": {
      "text/plain": [
       "Research & Development    0.653741\n",
       "Sales                     0.303401\n",
       "Human Resources           0.042857\n",
       "Name: department, dtype: float64"
      ]
     },
     "execution_count": 4,
     "metadata": {},
     "output_type": "execute_result"
    }
   ],
   "source": [
    "df['department'].value_counts(normalize=True) # Department 컬럼의 각 벨류별의 비율값 반환"
   ]
  },
  {
   "cell_type": "code",
   "execution_count": 5,
   "id": "33407042",
   "metadata": {},
   "outputs": [
    {
     "data": {
      "text/plain": [
       "Research & Development    65.374150\n",
       "Sales                     30.340136\n",
       "Human Resources            4.285714\n",
       "Name: department, dtype: float64"
      ]
     },
     "execution_count": 5,
     "metadata": {},
     "output_type": "execute_result"
    }
   ],
   "source": [
    "df['department'].value_counts(normalize=True)*100 # 비율값을 퍼센트로 반환"
   ]
  },
  {
   "cell_type": "code",
   "execution_count": 8,
   "id": "7f1ed0d2",
   "metadata": {},
   "outputs": [
    {
     "data": {
      "text/plain": [
       "<AxesSubplot:>"
      ]
     },
     "execution_count": 8,
     "metadata": {},
     "output_type": "execute_result"
    },
    {
     "data": {
      "image/png": "[encoded data removed]",
      "text/plain": [
       "<Figure size 432x288 with 1 Axes>"
      ]
     },
     "metadata": {
      "needs_background": "light"
     },
     "output_type": "display_data"
    }
   ],
   "source": [
    "df['department'].value_counts().plot(kind='bar') # Department 컬럼의 카운팅값을 바차트로 반환"
   ]
  },
  {
   "cell_type": "code",
   "execution_count": 9,
   "id": "a8cd12c5",
   "metadata": {},
   "outputs": [
    {
     "data": {
      "text/plain": [
       "<AxesSubplot:ylabel='department'>"
      ]
     },
     "execution_count": 9,
     "metadata": {},
     "output_type": "execute_result"
    },
    {
     "data": {
      "image/png": "[encoded data removed]",
      "text/plain": [
       "<Figure size 432x288 with 1 Axes>"
      ]
     },
     "metadata": {},
     "output_type": "display_data"
    }
   ],
   "source": [
    "df['department'].value_counts().plot(kind='pie') # Deparment 컬럼의 카운팅 값을 파이차트로 반환"
   ]
  },
  {
   "cell_type": "code",
   "execution_count": null,
   "id": "a3baa4f6",
   "metadata": {},
   "outputs": [],
   "source": []
  }
 ],
 "metadata": {
  "kernelspec": {
   "display_name": "Python 3",
   "language": "python",
   "name": "python3"
  },
  "language_info": {
   "codemirror_mode": {
    "name": "ipython",
    "version": 3
   },
   "file_extension": ".py",
   "mimetype": "text/x-python",
   "name": "python",
   "nbconvert_exporter": "python",
   "pygments_lexer": "ipython3",
   "version": "3.8.8"
  }
 },
 "nbformat": 4,
 "nbformat_minor": 5
}
